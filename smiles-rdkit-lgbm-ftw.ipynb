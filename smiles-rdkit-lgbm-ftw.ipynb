{
 "cells": [
  {
   "cell_type": "markdown",
   "id": "41d3f86b",
   "metadata": {
    "_cell_guid": "c68e2429-286b-401d-8a8d-535fbfbee01e",
    "_uuid": "2d06033a-4521-4f08-b1bd-e7e2529b4e2e",
    "collapsed": false,
    "jupyter": {
     "outputs_hidden": false
    },
    "papermill": {
     "duration": 0.006128,
     "end_time": "2025-08-07T05:01:27.872423",
     "exception": false,
     "start_time": "2025-08-07T05:01:27.866295",
     "status": "completed"
    },
    "tags": []
   },
   "source": [
    "# Optimized Polymer Property Prediction: SMILES->RDKIT->LGBM->FTW 🧪⚡🚀\n",
    "\n",
    "**Optimization Highlights:**\n",
    "- Enhanced feature engineering with Morgan fingerprints\n",
    "- Hyperparameter optimization using Optuna\n",
    "- Advanced feature selection techniques\n",
    "- Improved data preprocessing pipeline\n",
    "- Target-specific model configurations"
   ]
  },
  {
   "cell_type": "code",
   "execution_count": 1,
   "id": "e008a904",
   "metadata": {
    "_cell_guid": "e6d810bf-19c8-40a7-bf4d-6a92c34e3794",
    "_uuid": "aa182289-9979-4210-8b86-eeff2cf8c336",
    "collapsed": false,
    "execution": {
     "iopub.execute_input": "2025-08-07T05:01:27.884225Z",
     "iopub.status.busy": "2025-08-07T05:01:27.883313Z",
     "iopub.status.idle": "2025-08-07T05:01:39.139857Z",
     "shell.execute_reply": "2025-08-07T05:01:39.138599Z"
    },
    "jupyter": {
     "outputs_hidden": false
    },
    "papermill": {
     "duration": 11.264993,
     "end_time": "2025-08-07T05:01:39.142348",
     "exception": false,
     "start_time": "2025-08-07T05:01:27.877355",
     "status": "completed"
    },
    "tags": []
   },
   "outputs": [
    {
     "name": "stdout",
     "output_type": "stream",
     "text": [
      "Processing /kaggle/input/rdkit-install-whl/rdkit_wheel/rdkit_pypi-2022.9.5-cp311-cp311-manylinux_2_17_x86_64.manylinux2014_x86_64.whl\r\n",
      "Requirement already satisfied: numpy in /usr/local/lib/python3.11/dist-packages (from rdkit-pypi==2022.9.5) (1.26.4)\r\n",
      "Requirement already satisfied: Pillow in /usr/local/lib/python3.11/dist-packages (from rdkit-pypi==2022.9.5) (11.1.0)\r\n",
      "Requirement already satisfied: mkl_fft in /usr/local/lib/python3.11/dist-packages (from numpy->rdkit-pypi==2022.9.5) (1.3.8)\r\n",
      "Requirement already satisfied: mkl_random in /usr/local/lib/python3.11/dist-packages (from numpy->rdkit-pypi==2022.9.5) (1.2.4)\r\n",
      "Requirement already satisfied: mkl_umath in /usr/local/lib/python3.11/dist-packages (from numpy->rdkit-pypi==2022.9.5) (0.1.1)\r\n",
      "Requirement already satisfied: mkl in /usr/local/lib/python3.11/dist-packages (from numpy->rdkit-pypi==2022.9.5) (2025.1.0)\r\n",
      "Requirement already satisfied: tbb4py in /usr/local/lib/python3.11/dist-packages (from numpy->rdkit-pypi==2022.9.5) (2022.1.0)\r\n",
      "Requirement already satisfied: mkl-service in /usr/local/lib/python3.11/dist-packages (from numpy->rdkit-pypi==2022.9.5) (2.4.1)\r\n",
      "Requirement already satisfied: intel-openmp<2026,>=2024 in /usr/local/lib/python3.11/dist-packages (from mkl->numpy->rdkit-pypi==2022.9.5) (2024.2.0)\r\n",
      "Requirement already satisfied: tbb==2022.* in /usr/local/lib/python3.11/dist-packages (from mkl->numpy->rdkit-pypi==2022.9.5) (2022.1.0)\r\n",
      "Requirement already satisfied: tcmlib==1.* in /usr/local/lib/python3.11/dist-packages (from tbb==2022.*->mkl->numpy->rdkit-pypi==2022.9.5) (1.3.0)\r\n",
      "Requirement already satisfied: intel-cmplr-lib-rt in /usr/local/lib/python3.11/dist-packages (from mkl_umath->numpy->rdkit-pypi==2022.9.5) (2024.2.0)\r\n",
      "Requirement already satisfied: intel-cmplr-lib-ur==2024.2.0 in /usr/local/lib/python3.11/dist-packages (from intel-openmp<2026,>=2024->mkl->numpy->rdkit-pypi==2022.9.5) (2024.2.0)\r\n",
      "Installing collected packages: rdkit-pypi\r\n",
      "Successfully installed rdkit-pypi-2022.9.5\r\n",
      "Requirement already satisfied: optuna in /usr/local/lib/python3.11/dist-packages (4.3.0)\r\n",
      "Requirement already satisfied: alembic>=1.5.0 in /usr/local/lib/python3.11/dist-packages (from optuna) (1.15.2)\r\n",
      "Requirement already satisfied: colorlog in /usr/local/lib/python3.11/dist-packages (from optuna) (6.9.0)\r\n",
      "Requirement already satisfied: numpy in /usr/local/lib/python3.11/dist-packages (from optuna) (1.26.4)\r\n",
      "Requirement already satisfied: packaging>=20.0 in /usr/local/lib/python3.11/dist-packages (from optuna) (25.0)\r\n",
      "Requirement already satisfied: sqlalchemy>=1.4.2 in /usr/local/lib/python3.11/dist-packages (from optuna) (2.0.40)\r\n",
      "Requirement already satisfied: tqdm in /usr/local/lib/python3.11/dist-packages (from optuna) (4.67.1)\r\n",
      "Requirement already satisfied: PyYAML in /usr/local/lib/python3.11/dist-packages (from optuna) (6.0.2)\r\n",
      "Requirement already satisfied: Mako in /usr/local/lib/python3.11/dist-packages (from alembic>=1.5.0->optuna) (1.3.10)\r\n",
      "Requirement already satisfied: typing-extensions>=4.12 in /usr/local/lib/python3.11/dist-packages (from alembic>=1.5.0->optuna) (4.13.2)\r\n",
      "Requirement already satisfied: greenlet>=1 in /usr/local/lib/python3.11/dist-packages (from sqlalchemy>=1.4.2->optuna) (3.1.1)\r\n",
      "Requirement already satisfied: mkl_fft in /usr/local/lib/python3.11/dist-packages (from numpy->optuna) (1.3.8)\r\n",
      "Requirement already satisfied: mkl_random in /usr/local/lib/python3.11/dist-packages (from numpy->optuna) (1.2.4)\r\n",
      "Requirement already satisfied: mkl_umath in /usr/local/lib/python3.11/dist-packages (from numpy->optuna) (0.1.1)\r\n",
      "Requirement already satisfied: mkl in /usr/local/lib/python3.11/dist-packages (from numpy->optuna) (2025.1.0)\r\n",
      "Requirement already satisfied: tbb4py in /usr/local/lib/python3.11/dist-packages (from numpy->optuna) (2022.1.0)\r\n",
      "Requirement already satisfied: mkl-service in /usr/local/lib/python3.11/dist-packages (from numpy->optuna) (2.4.1)\r\n",
      "Requirement already satisfied: MarkupSafe>=0.9.2 in /usr/local/lib/python3.11/dist-packages (from Mako->alembic>=1.5.0->optuna) (3.0.2)\r\n",
      "Requirement already satisfied: intel-openmp<2026,>=2024 in /usr/local/lib/python3.11/dist-packages (from mkl->numpy->optuna) (2024.2.0)\r\n",
      "Requirement already satisfied: tbb==2022.* in /usr/local/lib/python3.11/dist-packages (from mkl->numpy->optuna) (2022.1.0)\r\n",
      "Requirement already satisfied: tcmlib==1.* in /usr/local/lib/python3.11/dist-packages (from tbb==2022.*->mkl->numpy->optuna) (1.3.0)\r\n",
      "Requirement already satisfied: intel-cmplr-lib-rt in /usr/local/lib/python3.11/dist-packages (from mkl_umath->numpy->optuna) (2024.2.0)\r\n",
      "Requirement already satisfied: intel-cmplr-lib-ur==2024.2.0 in /usr/local/lib/python3.11/dist-packages (from intel-openmp<2026,>=2024->mkl->numpy->optuna) (2024.2.0)\r\n"
     ]
    }
   ],
   "source": [
    "# Install RDKit for offline use\n",
    "!pip install /kaggle/input/rdkit-install-whl/rdkit_wheel/rdkit_pypi-2022.9.5-cp311-cp311-manylinux_2_17_x86_64.manylinux2014_x86_64.whl\n",
    "!pip install optuna"
   ]
  },
  {
   "cell_type": "code",
   "execution_count": 2,
   "id": "f3adf83d",
   "metadata": {
    "_cell_guid": "18d9ad56-7d00-4563-a5c5-17180fbf9177",
    "_uuid": "a13317f7-d0ec-48c9-81a4-d307e1611954",
    "collapsed": false,
    "execution": {
     "iopub.execute_input": "2025-08-07T05:01:39.155133Z",
     "iopub.status.busy": "2025-08-07T05:01:39.154732Z",
     "iopub.status.idle": "2025-08-07T05:01:48.990023Z",
     "shell.execute_reply": "2025-08-07T05:01:48.989016Z"
    },
    "jupyter": {
     "outputs_hidden": false
    },
    "papermill": {
     "duration": 9.843843,
     "end_time": "2025-08-07T05:01:48.991796",
     "exception": false,
     "start_time": "2025-08-07T05:01:39.147953",
     "status": "completed"
    },
    "tags": []
   },
   "outputs": [],
   "source": [
    "import pandas as pd\n",
    "import numpy as np\n",
    "from rdkit import Chem\n",
    "from rdkit.Chem import Descriptors, rdMolDescriptors, AllChem\n",
    "from sklearn.model_selection import KFold\n",
    "from sklearn.preprocessing import RobustScaler\n",
    "from sklearn.feature_selection import VarianceThreshold, SelectKBest, mutual_info_regression\n",
    "from sklearn.metrics import mean_absolute_error\n",
    "import lightgbm as lgb\n",
    "import optuna\n",
    "import warnings\n",
    "import joblib\n",
    "from tqdm import tqdm\n",
    "\n",
    "warnings.filterwarnings('ignore')"
   ]
  },
  {
   "cell_type": "markdown",
   "id": "58dd2266",
   "metadata": {
    "_cell_guid": "b29ca905-6a64-46b5-9490-053c58548dbc",
    "_uuid": "6f5d6c6c-4c1e-4b0c-8306-c701475d748d",
    "collapsed": false,
    "jupyter": {
     "outputs_hidden": false
    },
    "papermill": {
     "duration": 0.005,
     "end_time": "2025-08-07T05:01:49.002237",
     "exception": false,
     "start_time": "2025-08-07T05:01:48.997237",
     "status": "completed"
    },
    "tags": []
   },
   "source": [
    "# Enhanced Feature Engineering\n",
    "- Added Morgan fingerprints for structural information\n",
    "- Custom feature selection pipeline\n",
    "- Advanced data preprocessing"
   ]
  },
  {
   "cell_type": "code",
   "execution_count": 3,
   "id": "b2fcee49",
   "metadata": {
    "_cell_guid": "64b4c99e-92f7-431a-b9f9-4f3776a11a44",
    "_uuid": "e76f2305-f06f-4aa2-8cc6-502c96f67d70",
    "collapsed": false,
    "execution": {
     "iopub.execute_input": "2025-08-07T05:01:49.014230Z",
     "iopub.status.busy": "2025-08-07T05:01:49.013545Z",
     "iopub.status.idle": "2025-08-07T05:01:49.021164Z",
     "shell.execute_reply": "2025-08-07T05:01:49.020211Z"
    },
    "jupyter": {
     "outputs_hidden": false
    },
    "papermill": {
     "duration": 0.015548,
     "end_time": "2025-08-07T05:01:49.022778",
     "exception": false,
     "start_time": "2025-08-07T05:01:49.007230",
     "status": "completed"
    },
    "tags": []
   },
   "outputs": [],
   "source": [
    "def get_molecular_descriptors(max_autocorr=30):\n",
    "    \"\"\"Get optimized molecular descriptors with filtering\"\"\"\n",
    "    descriptor_list = []\n",
    "    test_mol = Chem.MolFromSmiles('CCO')\n",
    "    \n",
    "    # Core descriptors that are most informative\n",
    "    core_descriptors = [\n",
    "        'MolWt', 'MolLogP', 'NumRotatableBonds', 'NumAromaticRings', \n",
    "        'BertzCT', 'TPSA', 'qed', 'FractionCSP3', 'HeavyAtomCount',\n",
    "        'NHOHCount', 'NOCount', 'NumAliphaticRings', 'NumHeteroatoms',\n",
    "        'NumSaturatedRings', 'RingCount', 'HallKierAlpha'\n",
    "    ]\n",
    "    \n",
    "    # Add core descriptors\n",
    "    for name in core_descriptors:\n",
    "        try:\n",
    "            func = getattr(Descriptors, name)\n",
    "            descriptor_list.append((name, func))\n",
    "        except:\n",
    "            pass\n",
    "    \n",
    "    # Add limited AUTOCORR2D descriptors\n",
    "    autocorr_descriptors = []\n",
    "    for i in range(1, max_autocorr+1):\n",
    "        name = f'AUTOCORR2D_{i}'\n",
    "        try:\n",
    "            func = getattr(Descriptors, name)\n",
    "            autocorr_descriptors.append((name, func))\n",
    "        except:\n",
    "            pass\n",
    "    \n",
    "    descriptor_list += autocorr_descriptors\n",
    "    print(f\"✅ Selected {len(descriptor_list)} descriptors\")\n",
    "    return descriptor_list"
   ]
  },
  {
   "cell_type": "code",
   "execution_count": 4,
   "id": "fc478672",
   "metadata": {
    "_cell_guid": "e5b97e6a-393d-43ca-81f7-3a498695a07b",
    "_uuid": "d25df1d2-16cb-45dc-8945-d364a6290b9a",
    "collapsed": false,
    "execution": {
     "iopub.execute_input": "2025-08-07T05:01:49.034910Z",
     "iopub.status.busy": "2025-08-07T05:01:49.034481Z",
     "iopub.status.idle": "2025-08-07T05:01:49.043405Z",
     "shell.execute_reply": "2025-08-07T05:01:49.042605Z"
    },
    "jupyter": {
     "outputs_hidden": false
    },
    "papermill": {
     "duration": 0.016899,
     "end_time": "2025-08-07T05:01:49.045163",
     "exception": false,
     "start_time": "2025-08-07T05:01:49.028264",
     "status": "completed"
    },
    "tags": []
   },
   "outputs": [],
   "source": [
    "def smiles_to_features(smiles_list, molecular_descriptors, morgan_bits=512, radius=2):\n",
    "    \"\"\"Enhanced feature extraction with Morgan fingerprints\"\"\"\n",
    "    features = []\n",
    "    total = len(smiles_list)\n",
    "    \n",
    "    print(f\"Processing {total} SMILES with Morgan fingerprints...\", end=\"\", flush=True)\n",
    "    \n",
    "    for i, smiles in enumerate(tqdm(smiles_list, total=total)):\n",
    "        mol_features = []\n",
    "        try:\n",
    "            mol = Chem.MolFromSmiles(smiles)\n",
    "            if mol is None:\n",
    "                # Fill with NaN for descriptors and zeros for fingerprints\n",
    "                mol_features = [np.nan] * len(molecular_descriptors) + [0] * morgan_bits\n",
    "            else:\n",
    "                # Calculate descriptors\n",
    "                for name, func in molecular_descriptors:\n",
    "                    try:\n",
    "                        value = func(mol)\n",
    "                        if np.isinf(value) or abs(value) > 1e10:\n",
    "                            value = np.nan\n",
    "                        mol_features.append(value)\n",
    "                    except:\n",
    "                        mol_features.append(np.nan)\n",
    "                \n",
    "                # Calculate Morgan fingerprints\n",
    "                try:\n",
    "                    fp = AllChem.GetMorganFingerprintAsBitVect(\n",
    "                        mol, radius=radius, nBits=morgan_bits, useChirality=True\n",
    "                    )\n",
    "                    fp_list = list(fp.ToBitString())\n",
    "                    mol_features.extend([int(bit) for bit in fp_list])\n",
    "                except:\n",
    "                    mol_features.extend([0] * morgan_bits)\n",
    "        except:\n",
    "            mol_features = [np.nan] * len(molecular_descriptors) + [0] * morgan_bits\n",
    "        \n",
    "        features.append(mol_features)\n",
    "    \n",
    "    features = np.array(features, dtype=float)\n",
    "    print(\" ✅\", flush=True)\n",
    "    return features"
   ]
  },
  {
   "cell_type": "code",
   "execution_count": 5,
   "id": "97a65445",
   "metadata": {
    "_cell_guid": "f4dd234d-8c5e-4a72-b8e0-d5d5cfefa1ef",
    "_uuid": "442bd9c1-78c1-4fea-80cd-47e0a2f1696b",
    "collapsed": false,
    "execution": {
     "iopub.execute_input": "2025-08-07T05:01:49.059450Z",
     "iopub.status.busy": "2025-08-07T05:01:49.058594Z",
     "iopub.status.idle": "2025-08-07T05:01:49.066155Z",
     "shell.execute_reply": "2025-08-07T05:01:49.065179Z"
    },
    "jupyter": {
     "outputs_hidden": false
    },
    "papermill": {
     "duration": 0.01585,
     "end_time": "2025-08-07T05:01:49.067856",
     "exception": false,
     "start_time": "2025-08-07T05:01:49.052006",
     "status": "completed"
    },
    "tags": []
   },
   "outputs": [],
   "source": [
    "def feature_selection_pipeline(X, y, feature_names, k=200):\n",
    "    \"\"\"Advanced feature selection pipeline\"\"\"\n",
    "    print(\"🔍 Running feature selection pipeline...\")\n",
    "    \n",
    "    # Step 1: Remove low variance features\n",
    "    selector_vt = VarianceThreshold(threshold=0.01)\n",
    "    X_vt = selector_vt.fit_transform(X)\n",
    "    selected_mask_vt = selector_vt.get_support()\n",
    "    print(f\"  VarianceThreshold: {sum(selected_mask_vt)} features retained\")\n",
    "    \n",
    "    # Step 2: Mutual information selection\n",
    "    selector_mi = SelectKBest(score_func=mutual_info_regression, k=min(k, X_vt.shape[1]))\n",
    "    X_mi = selector_mi.fit_transform(X_vt, y)\n",
    "    selected_mask_mi = selector_mi.get_support()\n",
    "    \n",
    "    # Combine selection masks\n",
    "    final_mask = selected_mask_vt.copy()\n",
    "    final_mask[final_mask] = selected_mask_mi\n",
    "    \n",
    "    print(f\"  MutualInfo: {sum(final_mask)} features selected\")\n",
    "    \n",
    "    # Get selected feature names\n",
    "    selected_features = [feature_names[i] for i in range(len(feature_names)) if final_mask[i]]\n",
    "    \n",
    "    return X[:, final_mask], selected_features"
   ]
  },
  {
   "cell_type": "code",
   "execution_count": 6,
   "id": "d94c342f",
   "metadata": {
    "_cell_guid": "1218c707-73c7-4192-ac12-4ee34c1185ec",
    "_uuid": "2e4d6a17-b872-43c2-b2e3-f0ba1eb57cf4",
    "collapsed": false,
    "execution": {
     "iopub.execute_input": "2025-08-07T05:01:49.079718Z",
     "iopub.status.busy": "2025-08-07T05:01:49.079372Z",
     "iopub.status.idle": "2025-08-07T05:01:49.085514Z",
     "shell.execute_reply": "2025-08-07T05:01:49.084714Z"
    },
    "jupyter": {
     "outputs_hidden": false
    },
    "papermill": {
     "duration": 0.013922,
     "end_time": "2025-08-07T05:01:49.087118",
     "exception": false,
     "start_time": "2025-08-07T05:01:49.073196",
     "status": "completed"
    },
    "tags": []
   },
   "outputs": [],
   "source": [
    "def clean_features(X, feature_names=None):\n",
    "    \"\"\"Enhanced feature cleaning with robust scaling\"\"\"\n",
    "    # Create a copy to avoid modifying original\n",
    "    X_clean = X.copy()\n",
    "    \n",
    "    # Replace inf with NaN\n",
    "    X_clean[np.isinf(X_clean)] = np.nan\n",
    "    \n",
    "    # Impute missing values with median\n",
    "    for i in range(X_clean.shape[1]):\n",
    "        col = X_clean[:, i]\n",
    "        if np.isnan(col).any():\n",
    "            median = np.nanmedian(col)\n",
    "            X_clean[np.isnan(col), i] = median if not np.isnan(median) else 0\n",
    "    \n",
    "    # Apply robust scaling\n",
    "    scaler = RobustScaler()\n",
    "    X_scaled = scaler.fit_transform(X_clean)\n",
    "    \n",
    "    return X_scaled, scaler"
   ]
  },
  {
   "cell_type": "markdown",
   "id": "4b6cfa10",
   "metadata": {
    "_cell_guid": "be90e72e-e97e-4a1f-b30e-e6e6ae725b84",
    "_uuid": "a967135b-53be-4af7-8791-abb99f3a851a",
    "collapsed": false,
    "jupyter": {
     "outputs_hidden": false
    },
    "papermill": {
     "duration": 0.004851,
     "end_time": "2025-08-07T05:01:49.097324",
     "exception": false,
     "start_time": "2025-08-07T05:01:49.092473",
     "status": "completed"
    },
    "tags": []
   },
   "source": [
    "# Hyperparameter Optimization with Optuna"
   ]
  },
  {
   "cell_type": "code",
   "execution_count": 7,
   "id": "cdbef7eb",
   "metadata": {
    "_cell_guid": "3c09c6a0-2855-4dd5-bbc7-8ceda812161f",
    "_uuid": "2babc065-8989-4db4-bfd7-4c52755af680",
    "collapsed": false,
    "execution": {
     "iopub.execute_input": "2025-08-07T05:01:49.108831Z",
     "iopub.status.busy": "2025-08-07T05:01:49.108361Z",
     "iopub.status.idle": "2025-08-07T05:01:49.117597Z",
     "shell.execute_reply": "2025-08-07T05:01:49.116452Z"
    },
    "jupyter": {
     "outputs_hidden": false
    },
    "papermill": {
     "duration": 0.016862,
     "end_time": "2025-08-07T05:01:49.119197",
     "exception": false,
     "start_time": "2025-08-07T05:01:49.102335",
     "status": "completed"
    },
    "tags": []
   },
   "outputs": [],
   "source": [
    "def objective(trial, X, y):\n",
    "    \"\"\"Optuna objective function for hyperparameter tuning\"\"\"\n",
    "    params = {\n",
    "        'objective': 'regression',\n",
    "        'metric': 'mae',\n",
    "        'boosting_type': 'gbdt',\n",
    "        'num_leaves': trial.suggest_int('num_leaves', 32, 512),\n",
    "        'learning_rate': trial.suggest_float('learning_rate', 0.005, 0.2, log=True),\n",
    "        'feature_fraction': trial.suggest_float('feature_fraction', 0.5, 1.0),\n",
    "        'bagging_fraction': trial.suggest_float('bagging_fraction', 0.5, 1.0),\n",
    "        'bagging_freq': trial.suggest_int('bagging_freq', 1, 10),\n",
    "        'lambda_l1': trial.suggest_float('lambda_l1', 0.0, 10.0),\n",
    "        'lambda_l2': trial.suggest_float('lambda_l2', 0.0, 10.0),\n",
    "        'min_data_in_leaf': trial.suggest_int('min_data_in_leaf', 5, 100),\n",
    "        'max_depth': trial.suggest_int('max_depth', 3, 15),\n",
    "        'min_child_samples': trial.suggest_int('min_child_samples', 5, 100),\n",
    "        'verbose': -1,\n",
    "        'random_state': 42\n",
    "    }\n",
    "    \n",
    "    # 5-fold cross-validation\n",
    "    kf = KFold(n_splits=5, shuffle=True, random_state=42)\n",
    "    cv_scores = []\n",
    "    \n",
    "    for train_idx, val_idx in kf.split(X):\n",
    "        X_train, X_val = X[train_idx], X[val_idx]\n",
    "        y_train, y_val = y[train_idx], y[val_idx]\n",
    "        \n",
    "        train_data = lgb.Dataset(X_train, label=y_train)\n",
    "        val_data = lgb.Dataset(X_val, label=y_val, reference=train_data)\n",
    "        \n",
    "        model = lgb.train(\n",
    "            params,\n",
    "            train_data,\n",
    "            valid_sets=[val_data],\n",
    "            num_boost_round=2000,\n",
    "            callbacks=[lgb.early_stopping(100), lgb.log_evaluation(0)]\n",
    "        )\n",
    "        \n",
    "        val_pred = model.predict(X_val)\n",
    "        cv_scores.append(mean_absolute_error(y_val, val_pred))\n",
    "    \n",
    "    return np.mean(cv_scores)"
   ]
  },
  {
   "cell_type": "markdown",
   "id": "dd23e499",
   "metadata": {
    "_cell_guid": "f326c06f-8ec8-466f-addb-295019f9b10c",
    "_uuid": "9527b884-7fac-4274-9211-7bba2200c1a7",
    "collapsed": false,
    "jupyter": {
     "outputs_hidden": false
    },
    "papermill": {
     "duration": 0.004682,
     "end_time": "2025-08-07T05:01:49.129090",
     "exception": false,
     "start_time": "2025-08-07T05:01:49.124408",
     "status": "completed"
    },
    "tags": []
   },
   "source": [
    "# Enhanced Model Training\n",
    "- Target-specific hyperparameters\n",
    "- Advanced feature selection\n",
    "- Optuna for hyperparameter tuning"
   ]
  },
  {
   "cell_type": "code",
   "execution_count": 8,
   "id": "242eb360",
   "metadata": {
    "_cell_guid": "6dcf518d-320a-4410-80eb-feaa9f2610e9",
    "_uuid": "e14a9b60-b539-4962-a4f8-7378da5ab25d",
    "collapsed": false,
    "execution": {
     "iopub.execute_input": "2025-08-07T05:01:49.140343Z",
     "iopub.status.busy": "2025-08-07T05:01:49.140027Z",
     "iopub.status.idle": "2025-08-07T05:01:49.149558Z",
     "shell.execute_reply": "2025-08-07T05:01:49.148623Z"
    },
    "jupyter": {
     "outputs_hidden": false
    },
    "papermill": {
     "duration": 0.017352,
     "end_time": "2025-08-07T05:01:49.151274",
     "exception": false,
     "start_time": "2025-08-07T05:01:49.133922",
     "status": "completed"
    },
    "tags": []
   },
   "outputs": [],
   "source": [
    "def train_target_property(X_target, y_target, target_name):\n",
    "    \"\"\"Enhanced training with hyperparameter optimization\"\"\"\n",
    "    print(f\"📊 Training {target_name} on {len(y_target)} samples\")\n",
    "    print(f\"📈 Target range: {y_target.min():.4f} to {y_target.max():.4f}\")\n",
    "    \n",
    "    # Target-specific hyperparameter tuning\n",
    "    study = optuna.create_study(direction='minimize')\n",
    "    study.optimize(lambda trial: objective(trial, X_target, y_target), n_trials=30)\n",
    "    \n",
    "    best_params = study.best_params\n",
    "    print(f\"🎯 Best params for {target_name}: {best_params}\")\n",
    "    \n",
    "    # Add fixed parameters\n",
    "    best_params.update({\n",
    "        'objective': 'regression',\n",
    "        'metric': 'mae',\n",
    "        'boosting_type': 'gbdt',\n",
    "        'verbose': -1,\n",
    "        'random_state': 42\n",
    "    })\n",
    "    \n",
    "    # 7-fold cross-validation\n",
    "    cv_scores = []\n",
    "    models = []\n",
    "    all_val_true = []\n",
    "    all_val_pred = []\n",
    "    \n",
    "    kf = KFold(n_splits=7, shuffle=True, random_state=42)\n",
    "    for fold, (train_idx, val_idx) in enumerate(kf.split(X_target)):\n",
    "        X_train, X_val = X_target[train_idx], X_target[val_idx]\n",
    "        y_train, y_val = y_target[train_idx], y_target[val_idx]\n",
    "        \n",
    "        train_data = lgb.Dataset(X_train, label=y_train)\n",
    "        val_data = lgb.Dataset(X_val, label=y_val, reference=train_data)\n",
    "        \n",
    "        model = lgb.train(\n",
    "            best_params,\n",
    "            train_data,\n",
    "            valid_sets=[val_data],\n",
    "            num_boost_round=5000,\n",
    "            callbacks=[lgb.early_stopping(100), lgb.log_evaluation(0)]\n",
    "        )\n",
    "        \n",
    "        val_pred = model.predict(X_val)\n",
    "        cv_score = mean_absolute_error(y_val, val_pred)\n",
    "        cv_scores.append(cv_score)\n",
    "        models.append(model)\n",
    "        \n",
    "        all_val_true.extend(y_val)\n",
    "        all_val_pred.extend(val_pred)\n",
    "        \n",
    "        print(f\"----Fold {fold+1} MAE = {cv_score:.4f}\", flush=True)\n",
    "    \n",
    "    cv_mean = np.mean(cv_scores)\n",
    "    print(f\"===CV MAE: {cv_mean:.4f} ± {np.std(cv_scores):.3f}===\")\n",
    "    return models, cv_mean, all_val_true, all_val_pred"
   ]
  },
  {
   "cell_type": "markdown",
   "id": "49052f7c",
   "metadata": {
    "_cell_guid": "85da7316-a78a-4f6b-9256-6141dd5f2fb0",
    "_uuid": "1f8c94fa-9c00-4883-a5c2-ebf8039c9de3",
    "collapsed": false,
    "jupyter": {
     "outputs_hidden": false
    },
    "papermill": {
     "duration": 0.005334,
     "end_time": "2025-08-07T05:01:49.161864",
     "exception": false,
     "start_time": "2025-08-07T05:01:49.156530",
     "status": "completed"
    },
    "tags": []
   },
   "source": [
    "# Data Loading & Preparation"
   ]
  },
  {
   "cell_type": "code",
   "execution_count": 9,
   "id": "c8bb0062",
   "metadata": {
    "_cell_guid": "6fb9f2f2-6e51-40db-85e7-9b81a83619c3",
    "_uuid": "db4682d5-c747-4976-ae7d-b9733c438dd2",
    "collapsed": false,
    "execution": {
     "iopub.execute_input": "2025-08-07T05:01:49.172772Z",
     "iopub.status.busy": "2025-08-07T05:01:49.172428Z",
     "iopub.status.idle": "2025-08-07T05:02:37.814070Z",
     "shell.execute_reply": "2025-08-07T05:02:37.812982Z"
    },
    "jupyter": {
     "outputs_hidden": false
    },
    "papermill": {
     "duration": 48.649373,
     "end_time": "2025-08-07T05:02:37.816033",
     "exception": false,
     "start_time": "2025-08-07T05:01:49.166660",
     "status": "completed"
    },
    "tags": []
   },
   "outputs": [
    {
     "name": "stdout",
     "output_type": "stream",
     "text": [
      "Target counts:\n",
      "Tg          511\n",
      "FFV        7030\n",
      "Tc          737\n",
      "Density     613\n",
      "Rg          614\n",
      "dtype: int64\n",
      "✅ Selected 46 descriptors\n",
      "\n",
      "Generating features for training data...\n",
      "Processing 7973 SMILES with Morgan fingerprints..."
     ]
    },
    {
     "name": "stderr",
     "output_type": "stream",
     "text": [
      "100%|██████████| 7973/7973 [00:47<00:00, 166.58it/s]\n"
     ]
    },
    {
     "name": "stdout",
     "output_type": "stream",
     "text": [
      " ✅\n",
      "Total features: 558\n"
     ]
    }
   ],
   "source": [
    "# Load data\n",
    "train_df = pd.read_csv('/kaggle/input/neurips-open-polymer-prediction-2025/train.csv')\n",
    "test_df = pd.read_csv('/kaggle/input/neurips-open-polymer-prediction-2025/test.csv')\n",
    "\n",
    "# Define targets\n",
    "targets = ['Tg', 'FFV', 'Tc', 'Density', 'Rg']\n",
    "print(\"Target counts:\")\n",
    "print(train_df[targets].count())\n",
    "\n",
    "# Get molecular descriptors\n",
    "molecular_descriptors = get_molecular_descriptors(max_autocorr=30)\n",
    "descriptor_names = [name for name, _ in molecular_descriptors]\n",
    "\n",
    "# Generate feature names (descriptors + morgan fingerprints)\n",
    "morgan_bits = 512\n",
    "feature_names = descriptor_names + [f\"Morgan_{i}\" for i in range(morgan_bits)]\n",
    "\n",
    "# Extract features for training data\n",
    "print(\"\\nGenerating features for training data...\")\n",
    "X_raw = smiles_to_features(\n",
    "    train_df['SMILES'].values, \n",
    "    molecular_descriptors, \n",
    "    morgan_bits=morgan_bits\n",
    ")\n",
    "\n",
    "# Clean and scale features\n",
    "X, scaler_all = clean_features(X_raw)\n",
    "print(f\"Total features: {X.shape[1]}\")"
   ]
  },
  {
   "cell_type": "markdown",
   "id": "61f1c735",
   "metadata": {
    "_cell_guid": "6e29fe2d-4721-49e6-b74f-7385ba421426",
    "_uuid": "2bc10cd8-0ddb-4e4a-bbbe-db7414f79e09",
    "collapsed": false,
    "jupyter": {
     "outputs_hidden": false
    },
    "papermill": {
     "duration": 0.026686,
     "end_time": "2025-08-07T05:02:37.872033",
     "exception": false,
     "start_time": "2025-08-07T05:02:37.845347",
     "status": "completed"
    },
    "tags": []
   },
   "source": [
    "# Model Training with Feature Selection"
   ]
  },
  {
   "cell_type": "code",
   "execution_count": 10,
   "id": "9cccfc25",
   "metadata": {
    "_cell_guid": "9dd145ba-9d75-460a-ba61-bdc2dc96364b",
    "_uuid": "e616c775-d3fa-4307-b472-87f93e554602",
    "execution": {
     "iopub.execute_input": "2025-08-07T05:02:37.929930Z",
     "iopub.status.busy": "2025-08-07T05:02:37.929542Z",
     "iopub.status.idle": "2025-08-07T05:14:02.684675Z",
     "shell.execute_reply": "2025-08-07T05:14:02.683915Z"
    },
    "papermill": {
     "duration": 684.787479,
     "end_time": "2025-08-07T05:14:02.686661",
     "exception": false,
     "start_time": "2025-08-07T05:02:37.899182",
     "status": "completed"
    },
    "tags": []
   },
   "outputs": [
    {
     "name": "stdout",
     "output_type": "stream",
     "text": [
      "\n",
      "==================================================\n",
      "Training Tg...\n",
      "🔍 Running feature selection pipeline...\n",
      "  VarianceThreshold: 502 features retained\n"
     ]
    },
    {
     "name": "stderr",
     "output_type": "stream",
     "text": [
      "[I 2025-08-07 05:02:39,960] A new study created in memory with name: no-name-843aa851-98f3-492d-98f2-f01549a34792\n"
     ]
    },
    {
     "name": "stdout",
     "output_type": "stream",
     "text": [
      "  MutualInfo: 200 features selected\n",
      "Selected 200 features for Tg\n",
      "📊 Training Tg on 511 samples\n",
      "📈 Target range: -148.0297 to 472.2500\n",
      "Training until validation scores don't improve for 100 rounds\n",
      "Early stopping, best iteration is:\n",
      "[750]\tvalid_0's l1: 51.0455\n",
      "Training until validation scores don't improve for 100 rounds\n",
      "Early stopping, best iteration is:\n",
      "[1308]\tvalid_0's l1: 59.4949\n",
      "Training until validation scores don't improve for 100 rounds\n",
      "Early stopping, best iteration is:\n",
      "[1309]\tvalid_0's l1: 54.3807\n",
      "Training until validation scores don't improve for 100 rounds\n",
      "Early stopping, best iteration is:\n",
      "[612]\tvalid_0's l1: 48.1239\n",
      "Training until validation scores don't improve for 100 rounds\n"
     ]
    },
    {
     "name": "stderr",
     "output_type": "stream",
     "text": [
      "[I 2025-08-07 05:02:42,367] Trial 0 finished with value: 51.63361117531756 and parameters: {'num_leaves': 263, 'learning_rate': 0.010913738519659577, 'feature_fraction': 0.9664211466939991, 'bagging_fraction': 0.7202131592350449, 'bagging_freq': 6, 'lambda_l1': 3.1755412822837012, 'lambda_l2': 3.936403787827294, 'min_data_in_leaf': 53, 'max_depth': 6, 'min_child_samples': 25}. Best is trial 0 with value: 51.63361117531756.\n"
     ]
    },
    {
     "name": "stdout",
     "output_type": "stream",
     "text": [
      "Early stopping, best iteration is:\n",
      "[731]\tvalid_0's l1: 45.1231\n",
      "Training until validation scores don't improve for 100 rounds\n",
      "Early stopping, best iteration is:\n",
      "[580]\tvalid_0's l1: 55.0346\n",
      "Training until validation scores don't improve for 100 rounds\n",
      "Did not meet early stopping. Best iteration is:\n",
      "[1960]\tvalid_0's l1: 57.5022\n",
      "Training until validation scores don't improve for 100 rounds\n",
      "Early stopping, best iteration is:\n",
      "[1170]\tvalid_0's l1: 51.7733\n",
      "Training until validation scores don't improve for 100 rounds\n",
      "Early stopping, best iteration is:\n",
      "[677]\tvalid_0's l1: 46.5933\n",
      "Training until validation scores don't improve for 100 rounds\n"
     ]
    },
    {
     "name": "stderr",
     "output_type": "stream",
     "text": [
      "[I 2025-08-07 05:02:48,778] Trial 1 finished with value: 50.60764820275157 and parameters: {'num_leaves': 39, 'learning_rate': 0.005030265481676445, 'feature_fraction': 0.7391272157029523, 'bagging_fraction': 0.8557454059551728, 'bagging_freq': 2, 'lambda_l1': 5.149032683491148, 'lambda_l2': 2.839139131358973, 'min_data_in_leaf': 8, 'max_depth': 4, 'min_child_samples': 43}. Best is trial 1 with value: 50.60764820275157.\n"
     ]
    },
    {
     "name": "stdout",
     "output_type": "stream",
     "text": [
      "Early stopping, best iteration is:\n",
      "[776]\tvalid_0's l1: 42.1349\n",
      "Training until validation scores don't improve for 100 rounds\n",
      "Early stopping, best iteration is:\n",
      "[93]\tvalid_0's l1: 53.8157\n",
      "Training until validation scores don't improve for 100 rounds\n",
      "Early stopping, best iteration is:\n",
      "[196]\tvalid_0's l1: 58.8786\n",
      "Training until validation scores don't improve for 100 rounds\n",
      "Early stopping, best iteration is:\n",
      "[255]\tvalid_0's l1: 51.6212\n",
      "Training until validation scores don't improve for 100 rounds\n",
      "Early stopping, best iteration is:\n",
      "[131]\tvalid_0's l1: 46.9263\n",
      "Training until validation scores don't improve for 100 rounds\n"
     ]
    },
    {
     "name": "stderr",
     "output_type": "stream",
     "text": [
      "[I 2025-08-07 05:02:50,057] Trial 2 finished with value: 50.87367400483658 and parameters: {'num_leaves': 208, 'learning_rate': 0.031301595370119804, 'feature_fraction': 0.6372484712408553, 'bagging_fraction': 0.5920901511342678, 'bagging_freq': 6, 'lambda_l1': 5.292523464704661, 'lambda_l2': 1.2286102958946465, 'min_data_in_leaf': 18, 'max_depth': 8, 'min_child_samples': 72}. Best is trial 1 with value: 50.60764820275157.\n"
     ]
    },
    {
     "name": "stdout",
     "output_type": "stream",
     "text": [
      "Early stopping, best iteration is:\n",
      "[127]\tvalid_0's l1: 43.1266\n",
      "Training until validation scores don't improve for 100 rounds\n",
      "Early stopping, best iteration is:\n",
      "[81]\tvalid_0's l1: 51.7252\n",
      "Training until validation scores don't improve for 100 rounds\n",
      "Early stopping, best iteration is:\n",
      "[156]\tvalid_0's l1: 56.633\n",
      "Training until validation scores don't improve for 100 rounds\n",
      "Early stopping, best iteration is:\n",
      "[65]\tvalid_0's l1: 55.1025\n",
      "Training until validation scores don't improve for 100 rounds\n",
      "Early stopping, best iteration is:\n",
      "[64]\tvalid_0's l1: 47.7416\n",
      "Training until validation scores don't improve for 100 rounds\n"
     ]
    },
    {
     "name": "stderr",
     "output_type": "stream",
     "text": [
      "[I 2025-08-07 05:02:50,579] Trial 3 finished with value: 51.75041009761763 and parameters: {'num_leaves': 442, 'learning_rate': 0.13313705088090688, 'feature_fraction': 0.6048758925440567, 'bagging_fraction': 0.500509507091067, 'bagging_freq': 3, 'lambda_l1': 7.09784504577487, 'lambda_l2': 4.635766924745177, 'min_data_in_leaf': 40, 'max_depth': 11, 'min_child_samples': 71}. Best is trial 1 with value: 50.60764820275157.\n"
     ]
    },
    {
     "name": "stdout",
     "output_type": "stream",
     "text": [
      "Early stopping, best iteration is:\n",
      "[109]\tvalid_0's l1: 47.5498\n",
      "Training until validation scores don't improve for 100 rounds\n",
      "Early stopping, best iteration is:\n",
      "[50]\tvalid_0's l1: 55.2005\n",
      "Training until validation scores don't improve for 100 rounds\n",
      "Early stopping, best iteration is:\n",
      "[70]\tvalid_0's l1: 57.2305\n",
      "Training until validation scores don't improve for 100 rounds\n",
      "Early stopping, best iteration is:\n",
      "[42]\tvalid_0's l1: 53.1013\n",
      "Training until validation scores don't improve for 100 rounds\n"
     ]
    },
    {
     "name": "stderr",
     "output_type": "stream",
     "text": [
      "[I 2025-08-07 05:02:51,231] Trial 4 finished with value: 52.28689294631479 and parameters: {'num_leaves': 429, 'learning_rate': 0.14593424418905876, 'feature_fraction': 0.7293971033892985, 'bagging_fraction': 0.9175929762241262, 'bagging_freq': 10, 'lambda_l1': 1.9640582325291545, 'lambda_l2': 1.6230803983659892, 'min_data_in_leaf': 37, 'max_depth': 15, 'min_child_samples': 96}. Best is trial 1 with value: 50.60764820275157.\n"
     ]
    },
    {
     "name": "stdout",
     "output_type": "stream",
     "text": [
      "Early stopping, best iteration is:\n",
      "[76]\tvalid_0's l1: 50.6565\n",
      "Training until validation scores don't improve for 100 rounds\n",
      "Early stopping, best iteration is:\n",
      "[53]\tvalid_0's l1: 45.2457\n",
      "Training until validation scores don't improve for 100 rounds\n",
      "Early stopping, best iteration is:\n",
      "[155]\tvalid_0's l1: 52.0999\n",
      "Training until validation scores don't improve for 100 rounds\n",
      "Early stopping, best iteration is:\n",
      "[225]\tvalid_0's l1: 60.3254\n",
      "Training until validation scores don't improve for 100 rounds\n",
      "Early stopping, best iteration is:\n",
      "[292]\tvalid_0's l1: 57.4093\n",
      "Training until validation scores don't improve for 100 rounds\n",
      "Early stopping, best iteration is:\n",
      "[101]\tvalid_0's l1: 50.0134\n",
      "Training until validation scores don't improve for 100 rounds\n"
     ]
    },
    {
     "name": "stderr",
     "output_type": "stream",
     "text": [
      "[I 2025-08-07 05:02:51,853] Trial 5 finished with value: 53.244593929757876 and parameters: {'num_leaves': 301, 'learning_rate': 0.055329746772715384, 'feature_fraction': 0.8870459148928052, 'bagging_fraction': 0.9084460691257674, 'bagging_freq': 9, 'lambda_l1': 3.5730394207708285, 'lambda_l2': 3.7143336314044975, 'min_data_in_leaf': 80, 'max_depth': 13, 'min_child_samples': 71}. Best is trial 1 with value: 50.60764820275157.\n"
     ]
    },
    {
     "name": "stdout",
     "output_type": "stream",
     "text": [
      "Early stopping, best iteration is:\n",
      "[357]\tvalid_0's l1: 46.375\n",
      "Training until validation scores don't improve for 100 rounds\n",
      "Early stopping, best iteration is:\n",
      "[637]\tvalid_0's l1: 54.8405\n",
      "Training until validation scores don't improve for 100 rounds\n",
      "Early stopping, best iteration is:\n",
      "[1308]\tvalid_0's l1: 58.8545\n",
      "Training until validation scores don't improve for 100 rounds\n",
      "Early stopping, best iteration is:\n",
      "[1215]\tvalid_0's l1: 52.1255\n",
      "Training until validation scores don't improve for 100 rounds\n",
      "Early stopping, best iteration is:\n",
      "[812]\tvalid_0's l1: 45.5139\n",
      "Training until validation scores don't improve for 100 rounds\n"
     ]
    },
    {
     "name": "stderr",
     "output_type": "stream",
     "text": [
      "[I 2025-08-07 05:02:55,337] Trial 6 finished with value: 50.76481900807721 and parameters: {'num_leaves': 151, 'learning_rate': 0.006061916710299203, 'feature_fraction': 0.7773662261879675, 'bagging_fraction': 0.6936727999772949, 'bagging_freq': 4, 'lambda_l1': 7.662219667690829, 'lambda_l2': 0.3589091487721019, 'min_data_in_leaf': 15, 'max_depth': 3, 'min_child_samples': 56}. Best is trial 1 with value: 50.60764820275157.\n"
     ]
    },
    {
     "name": "stdout",
     "output_type": "stream",
     "text": [
      "Early stopping, best iteration is:\n",
      "[748]\tvalid_0's l1: 42.4896\n",
      "Training until validation scores don't improve for 100 rounds\n",
      "Early stopping, best iteration is:\n",
      "[382]\tvalid_0's l1: 54.1376\n",
      "Training until validation scores don't improve for 100 rounds\n",
      "Early stopping, best iteration is:\n",
      "[661]\tvalid_0's l1: 58.0801\n",
      "Training until validation scores don't improve for 100 rounds\n",
      "Early stopping, best iteration is:\n",
      "[630]\tvalid_0's l1: 52.164\n",
      "Training until validation scores don't improve for 100 rounds\n",
      "Early stopping, best iteration is:\n",
      "[600]\tvalid_0's l1: 45.5186\n",
      "Training until validation scores don't improve for 100 rounds\n"
     ]
    },
    {
     "name": "stderr",
     "output_type": "stream",
     "text": [
      "[I 2025-08-07 05:02:59,397] Trial 7 finished with value: 50.63991254208108 and parameters: {'num_leaves': 98, 'learning_rate': 0.013724146071818752, 'feature_fraction': 0.5468651752289538, 'bagging_fraction': 0.5304130575658639, 'bagging_freq': 10, 'lambda_l1': 0.3298770362161618, 'lambda_l2': 5.260131601631271, 'min_data_in_leaf': 19, 'max_depth': 5, 'min_child_samples': 86}. Best is trial 1 with value: 50.60764820275157.\n"
     ]
    },
    {
     "name": "stdout",
     "output_type": "stream",
     "text": [
      "Early stopping, best iteration is:\n",
      "[399]\tvalid_0's l1: 43.2993\n",
      "Training until validation scores don't improve for 100 rounds\n",
      "Early stopping, best iteration is:\n",
      "[223]\tvalid_0's l1: 50.971\n",
      "Training until validation scores don't improve for 100 rounds\n",
      "Early stopping, best iteration is:\n",
      "[702]\tvalid_0's l1: 58.2745\n",
      "Training until validation scores don't improve for 100 rounds\n",
      "Early stopping, best iteration is:\n",
      "[598]\tvalid_0's l1: 54.1441\n",
      "Training until validation scores don't improve for 100 rounds\n",
      "Early stopping, best iteration is:\n",
      "[337]\tvalid_0's l1: 47.14\n"
     ]
    },
    {
     "name": "stderr",
     "output_type": "stream",
     "text": [
      "[I 2025-08-07 05:03:00,481] Trial 8 finished with value: 51.349191795371006 and parameters: {'num_leaves': 176, 'learning_rate': 0.032259347983881886, 'feature_fraction': 0.8205668339626981, 'bagging_fraction': 0.7597376649866523, 'bagging_freq': 1, 'lambda_l1': 6.571476452982146, 'lambda_l2': 5.545452357013449, 'min_data_in_leaf': 58, 'max_depth': 15, 'min_child_samples': 81}. Best is trial 1 with value: 50.60764820275157.\n"
     ]
    },
    {
     "name": "stdout",
     "output_type": "stream",
     "text": [
      "Training until validation scores don't improve for 100 rounds\n",
      "Early stopping, best iteration is:\n",
      "[266]\tvalid_0's l1: 46.2163\n",
      "Training until validation scores don't improve for 100 rounds\n",
      "Early stopping, best iteration is:\n",
      "[161]\tvalid_0's l1: 54.7624\n",
      "Training until validation scores don't improve for 100 rounds\n",
      "Early stopping, best iteration is:\n",
      "[653]\tvalid_0's l1: 59.1795\n",
      "Training until validation scores don't improve for 100 rounds\n",
      "Early stopping, best iteration is:\n",
      "[136]\tvalid_0's l1: 58.2064\n",
      "Training until validation scores don't improve for 100 rounds\n"
     ]
    },
    {
     "name": "stderr",
     "output_type": "stream",
     "text": [
      "[I 2025-08-07 05:03:01,222] Trial 9 finished with value: 53.493997458018875 and parameters: {'num_leaves': 498, 'learning_rate': 0.08100576396314511, 'feature_fraction': 0.9728330601016022, 'bagging_fraction': 0.7064181184720124, 'bagging_freq': 2, 'lambda_l1': 1.4161816283689899, 'lambda_l2': 0.6279474005433805, 'min_data_in_leaf': 82, 'max_depth': 10, 'min_child_samples': 5}. Best is trial 1 with value: 50.60764820275157.\n"
     ]
    },
    {
     "name": "stdout",
     "output_type": "stream",
     "text": [
      "Early stopping, best iteration is:\n",
      "[412]\tvalid_0's l1: 48.0865\n",
      "Training until validation scores don't improve for 100 rounds\n",
      "Early stopping, best iteration is:\n",
      "[272]\tvalid_0's l1: 47.2352\n",
      "Training until validation scores don't improve for 100 rounds\n",
      "Early stopping, best iteration is:\n",
      "[648]\tvalid_0's l1: 54.9396\n",
      "Training until validation scores don't improve for 100 rounds\n",
      "Early stopping, best iteration is:\n",
      "[1791]\tvalid_0's l1: 60.2073\n",
      "Training until validation scores don't improve for 100 rounds\n",
      "Early stopping, best iteration is:\n",
      "[1877]\tvalid_0's l1: 52.7207\n",
      "Training until validation scores don't improve for 100 rounds\n",
      "Early stopping, best iteration is:\n",
      "[845]\tvalid_0's l1: 47.3574\n",
      "Training until validation scores don't improve for 100 rounds\n"
     ]
    },
    {
     "name": "stderr",
     "output_type": "stream",
     "text": [
      "[I 2025-08-07 05:03:05,948] Trial 10 finished with value: 51.462121325733655 and parameters: {'num_leaves': 37, 'learning_rate': 0.005059618820881586, 'feature_fraction': 0.6941074527062123, 'bagging_fraction': 0.9990002195818728, 'bagging_freq': 4, 'lambda_l1': 8.955838727567464, 'lambda_l2': 8.940472250180836, 'min_data_in_leaf': 5, 'max_depth': 3, 'min_child_samples': 36}. Best is trial 1 with value: 50.60764820275157.\n"
     ]
    },
    {
     "name": "stdout",
     "output_type": "stream",
     "text": [
      "Early stopping, best iteration is:\n",
      "[1303]\tvalid_0's l1: 42.0856\n",
      "Training until validation scores don't improve for 100 rounds\n",
      "Early stopping, best iteration is:\n",
      "[402]\tvalid_0's l1: 54.4108\n",
      "Training until validation scores don't improve for 100 rounds\n",
      "Early stopping, best iteration is:\n",
      "[784]\tvalid_0's l1: 59.4028\n",
      "Training until validation scores don't improve for 100 rounds\n",
      "Early stopping, best iteration is:\n",
      "[621]\tvalid_0's l1: 52.7436\n",
      "Training until validation scores don't improve for 100 rounds\n",
      "Early stopping, best iteration is:\n",
      "[465]\tvalid_0's l1: 46.6746\n",
      "Training until validation scores don't improve for 100 rounds\n"
     ]
    },
    {
     "name": "stderr",
     "output_type": "stream",
     "text": [
      "[I 2025-08-07 05:03:08,723] Trial 11 finished with value: 51.30601744140846 and parameters: {'num_leaves': 33, 'learning_rate': 0.012959543527722885, 'feature_fraction': 0.523623089686171, 'bagging_fraction': 0.8291574480477596, 'bagging_freq': 8, 'lambda_l1': 0.2824519136806208, 'lambda_l2': 6.314708363703015, 'min_data_in_leaf': 27, 'max_depth': 6, 'min_child_samples': 46}. Best is trial 1 with value: 50.60764820275157.\n"
     ]
    },
    {
     "name": "stdout",
     "output_type": "stream",
     "text": [
      "Early stopping, best iteration is:\n",
      "[380]\tvalid_0's l1: 43.2984\n",
      "Training until validation scores don't improve for 100 rounds\n",
      "Early stopping, best iteration is:\n",
      "[345]\tvalid_0's l1: 53.0638\n",
      "Training until validation scores don't improve for 100 rounds\n",
      "Early stopping, best iteration is:\n",
      "[910]\tvalid_0's l1: 58.2054\n",
      "Training until validation scores don't improve for 100 rounds\n",
      "Early stopping, best iteration is:\n",
      "[946]\tvalid_0's l1: 51.4559\n",
      "Training until validation scores don't improve for 100 rounds\n",
      "Early stopping, best iteration is:\n",
      "[465]\tvalid_0's l1: 45.1724\n",
      "Training until validation scores don't improve for 100 rounds\n"
     ]
    },
    {
     "name": "stderr",
     "output_type": "stream",
     "text": [
      "[I 2025-08-07 05:03:12,878] Trial 12 finished with value: 50.157874767929094 and parameters: {'num_leaves': 95, 'learning_rate': 0.011517610499899637, 'feature_fraction': 0.5403677999773365, 'bagging_fraction': 0.6023740842268708, 'bagging_freq': 7, 'lambda_l1': 4.914080097180537, 'lambda_l2': 7.147440913946833, 'min_data_in_leaf': 8, 'max_depth': 5, 'min_child_samples': 54}. Best is trial 12 with value: 50.157874767929094.\n"
     ]
    },
    {
     "name": "stdout",
     "output_type": "stream",
     "text": [
      "Early stopping, best iteration is:\n",
      "[507]\tvalid_0's l1: 42.8919\n",
      "Training until validation scores don't improve for 100 rounds\n",
      "Early stopping, best iteration is:\n",
      "[481]\tvalid_0's l1: 53.5134\n",
      "Training until validation scores don't improve for 100 rounds\n",
      "Early stopping, best iteration is:\n",
      "[966]\tvalid_0's l1: 58.9562\n",
      "Training until validation scores don't improve for 100 rounds\n",
      "Early stopping, best iteration is:\n",
      "[943]\tvalid_0's l1: 51.4673\n",
      "Training until validation scores don't improve for 100 rounds\n",
      "Early stopping, best iteration is:\n",
      "[458]\tvalid_0's l1: 45.6093\n",
      "Training until validation scores don't improve for 100 rounds\n"
     ]
    },
    {
     "name": "stderr",
     "output_type": "stream",
     "text": [
      "[I 2025-08-07 05:03:20,271] Trial 13 finished with value: 50.57117560503349 and parameters: {'num_leaves': 113, 'learning_rate': 0.008321162488834065, 'feature_fraction': 0.6539460682968151, 'bagging_fraction': 0.6127875561261495, 'bagging_freq': 7, 'lambda_l1': 4.416174464614757, 'lambda_l2': 7.536240535379075, 'min_data_in_leaf': 5, 'max_depth': 8, 'min_child_samples': 52}. Best is trial 12 with value: 50.157874767929094.\n"
     ]
    },
    {
     "name": "stdout",
     "output_type": "stream",
     "text": [
      "Early stopping, best iteration is:\n",
      "[532]\tvalid_0's l1: 43.3097\n",
      "Training until validation scores don't improve for 100 rounds\n",
      "Early stopping, best iteration is:\n",
      "[238]\tvalid_0's l1: 57.0612\n",
      "Training until validation scores don't improve for 100 rounds\n",
      "Early stopping, best iteration is:\n",
      "[910]\tvalid_0's l1: 64.8838\n",
      "Training until validation scores don't improve for 100 rounds\n",
      "Early stopping, best iteration is:\n",
      "[677]\tvalid_0's l1: 61.5168\n",
      "Training until validation scores don't improve for 100 rounds\n"
     ]
    },
    {
     "name": "stderr",
     "output_type": "stream",
     "text": [
      "[I 2025-08-07 05:03:21,002] Trial 14 finished with value: 57.34707788157814 and parameters: {'num_leaves': 133, 'learning_rate': 0.0207782122380746, 'feature_fraction': 0.6116405786525099, 'bagging_fraction': 0.6181567965479124, 'bagging_freq': 7, 'lambda_l1': 3.695085272319935, 'lambda_l2': 8.13063867358281, 'min_data_in_leaf': 96, 'max_depth': 8, 'min_child_samples': 62}. Best is trial 12 with value: 50.157874767929094.\n"
     ]
    },
    {
     "name": "stdout",
     "output_type": "stream",
     "text": [
      "Early stopping, best iteration is:\n",
      "[350]\tvalid_0's l1: 51.9943\n",
      "Training until validation scores don't improve for 100 rounds\n",
      "Early stopping, best iteration is:\n",
      "[777]\tvalid_0's l1: 51.2793\n",
      "Training until validation scores don't improve for 100 rounds\n",
      "Early stopping, best iteration is:\n",
      "[852]\tvalid_0's l1: 52.7548\n",
      "Training until validation scores don't improve for 100 rounds\n",
      "Early stopping, best iteration is:\n",
      "[1415]\tvalid_0's l1: 58.7138\n",
      "Training until validation scores don't improve for 100 rounds\n",
      "Early stopping, best iteration is:\n",
      "[832]\tvalid_0's l1: 54.6378\n",
      "Training until validation scores don't improve for 100 rounds\n",
      "Early stopping, best iteration is:\n",
      "[654]\tvalid_0's l1: 47.5893\n",
      "Training until validation scores don't improve for 100 rounds\n"
     ]
    },
    {
     "name": "stderr",
     "output_type": "stream",
     "text": [
      "[I 2025-08-07 05:03:23,864] Trial 15 finished with value: 51.715668477798644 and parameters: {'num_leaves': 235, 'learning_rate': 0.009048889816047373, 'feature_fraction': 0.5034258057377474, 'bagging_fraction': 0.6321738174216299, 'bagging_freq': 8, 'lambda_l1': 6.164723841664634, 'lambda_l2': 7.52539897032025, 'min_data_in_leaf': 35, 'max_depth': 7, 'min_child_samples': 25}. Best is trial 12 with value: 50.157874767929094.\n"
     ]
    },
    {
     "name": "stdout",
     "output_type": "stream",
     "text": [
      "Early stopping, best iteration is:\n",
      "[824]\tvalid_0's l1: 44.8826\n",
      "Training until validation scores don't improve for 100 rounds\n",
      "Early stopping, best iteration is:\n",
      "[308]\tvalid_0's l1: 55.8912\n",
      "Training until validation scores don't improve for 100 rounds\n",
      "Early stopping, best iteration is:\n",
      "[1579]\tvalid_0's l1: 61.777\n",
      "Training until validation scores don't improve for 100 rounds\n",
      "Early stopping, best iteration is:\n",
      "[900]\tvalid_0's l1: 58.6152\n",
      "Training until validation scores don't improve for 100 rounds\n",
      "Early stopping, best iteration is:\n",
      "[571]\tvalid_0's l1: 50.9624\n",
      "Training until validation scores don't improve for 100 rounds\n"
     ]
    },
    {
     "name": "stderr",
     "output_type": "stream",
     "text": [
      "[I 2025-08-07 05:03:25,179] Trial 16 finished with value: 55.20543485947191 and parameters: {'num_leaves': 322, 'learning_rate': 0.01946430698633821, 'feature_fraction': 0.6505722323588292, 'bagging_fraction': 0.5629271381269764, 'bagging_freq': 5, 'lambda_l1': 3.9903727721803612, 'lambda_l2': 9.773877042221233, 'min_data_in_leaf': 69, 'max_depth': 10, 'min_child_samples': 30}. Best is trial 12 with value: 50.157874767929094.\n"
     ]
    },
    {
     "name": "stdout",
     "output_type": "stream",
     "text": [
      "Early stopping, best iteration is:\n",
      "[860]\tvalid_0's l1: 48.7814\n",
      "Training until validation scores don't improve for 100 rounds\n",
      "Early stopping, best iteration is:\n",
      "[749]\tvalid_0's l1: 53.0033\n",
      "Training until validation scores don't improve for 100 rounds\n",
      "Did not meet early stopping. Best iteration is:\n",
      "[2000]\tvalid_0's l1: 58.48\n",
      "Training until validation scores don't improve for 100 rounds\n",
      "Early stopping, best iteration is:\n",
      "[1540]\tvalid_0's l1: 52.5051\n",
      "Training until validation scores don't improve for 100 rounds\n",
      "Early stopping, best iteration is:\n",
      "[645]\tvalid_0's l1: 46.6378\n",
      "Training until validation scores don't improve for 100 rounds\n"
     ]
    },
    {
     "name": "stderr",
     "output_type": "stream",
     "text": [
      "[I 2025-08-07 05:03:31,157] Trial 17 finished with value: 50.73641569920054 and parameters: {'num_leaves': 92, 'learning_rate': 0.007787966060887976, 'feature_fraction': 0.5606529761444089, 'bagging_fraction': 0.6542441616042545, 'bagging_freq': 7, 'lambda_l1': 9.906857438055095, 'lambda_l2': 6.908774735760699, 'min_data_in_leaf': 27, 'max_depth': 5, 'min_child_samples': 55}. Best is trial 12 with value: 50.157874767929094.\n"
     ]
    },
    {
     "name": "stdout",
     "output_type": "stream",
     "text": [
      "Early stopping, best iteration is:\n",
      "[818]\tvalid_0's l1: 43.0559\n",
      "Training until validation scores don't improve for 100 rounds\n",
      "Early stopping, best iteration is:\n",
      "[192]\tvalid_0's l1: 54.8093\n",
      "Training until validation scores don't improve for 100 rounds\n",
      "Early stopping, best iteration is:\n",
      "[535]\tvalid_0's l1: 58.9637\n",
      "Training until validation scores don't improve for 100 rounds\n",
      "Early stopping, best iteration is:\n",
      "[536]\tvalid_0's l1: 51.9217\n",
      "Training until validation scores don't improve for 100 rounds\n",
      "Early stopping, best iteration is:\n",
      "[140]\tvalid_0's l1: 48.4999\n",
      "Training until validation scores don't improve for 100 rounds\n"
     ]
    },
    {
     "name": "stderr",
     "output_type": "stream",
     "text": [
      "[I 2025-08-07 05:03:36,807] Trial 18 finished with value: 51.555836189994935 and parameters: {'num_leaves': 346, 'learning_rate': 0.018839780702536023, 'feature_fraction': 0.665291821521074, 'bagging_fraction': 0.783205637437574, 'bagging_freq': 8, 'lambda_l1': 2.4492309404894996, 'lambda_l2': 8.385254046270614, 'min_data_in_leaf': 5, 'max_depth': 12, 'min_child_samples': 5}. Best is trial 12 with value: 50.157874767929094.\n"
     ]
    },
    {
     "name": "stdout",
     "output_type": "stream",
     "text": [
      "Early stopping, best iteration is:\n",
      "[221]\tvalid_0's l1: 43.5846\n",
      "Training until validation scores don't improve for 100 rounds\n",
      "Early stopping, best iteration is:\n",
      "[262]\tvalid_0's l1: 52.6762\n",
      "Training until validation scores don't improve for 100 rounds\n",
      "Early stopping, best iteration is:\n",
      "[585]\tvalid_0's l1: 59.1221\n",
      "Training until validation scores don't improve for 100 rounds\n",
      "Early stopping, best iteration is:\n",
      "[374]\tvalid_0's l1: 56.5147\n",
      "Training until validation scores don't improve for 100 rounds\n",
      "Early stopping, best iteration is:\n",
      "[189]\tvalid_0's l1: 48.4707\n",
      "Training until validation scores don't improve for 100 rounds\n"
     ]
    },
    {
     "name": "stderr",
     "output_type": "stream",
     "text": [
      "[I 2025-08-07 05:03:37,760] Trial 19 finished with value: 52.625946123798734 and parameters: {'num_leaves': 90, 'learning_rate': 0.033453417062041434, 'feature_fraction': 0.5805841762732706, 'bagging_fraction': 0.5705295752114422, 'bagging_freq': 5, 'lambda_l1': 4.5519547608407995, 'lambda_l2': 6.577909066370994, 'min_data_in_leaf': 47, 'max_depth': 8, 'min_child_samples': 45}. Best is trial 12 with value: 50.157874767929094.\n"
     ]
    },
    {
     "name": "stdout",
     "output_type": "stream",
     "text": [
      "Early stopping, best iteration is:\n",
      "[283]\tvalid_0's l1: 46.346\n",
      "Training until validation scores don't improve for 100 rounds\n",
      "Early stopping, best iteration is:\n",
      "[749]\tvalid_0's l1: 52.5479\n",
      "Training until validation scores don't improve for 100 rounds\n",
      "Early stopping, best iteration is:\n",
      "[1260]\tvalid_0's l1: 58.774\n",
      "Training until validation scores don't improve for 100 rounds\n",
      "Early stopping, best iteration is:\n",
      "[1526]\tvalid_0's l1: 52.1878\n",
      "Training until validation scores don't improve for 100 rounds\n",
      "Early stopping, best iteration is:\n",
      "[707]\tvalid_0's l1: 46.1818\n",
      "Training until validation scores don't improve for 100 rounds\n"
     ]
    },
    {
     "name": "stderr",
     "output_type": "stream",
     "text": [
      "[I 2025-08-07 05:03:42,159] Trial 20 finished with value: 50.57596334366968 and parameters: {'num_leaves': 200, 'learning_rate': 0.00775974711334633, 'feature_fraction': 0.8030293419932649, 'bagging_fraction': 0.661244417179084, 'bagging_freq': 7, 'lambda_l1': 5.597203254435044, 'lambda_l2': 9.969036933567537, 'min_data_in_leaf': 24, 'max_depth': 9, 'min_child_samples': 16}. Best is trial 12 with value: 50.157874767929094.\n"
     ]
    },
    {
     "name": "stdout",
     "output_type": "stream",
     "text": [
      "Early stopping, best iteration is:\n",
      "[711]\tvalid_0's l1: 43.1883\n",
      "Training until validation scores don't improve for 100 rounds\n",
      "Early stopping, best iteration is:\n",
      "[651]\tvalid_0's l1: 52.7213\n",
      "Training until validation scores don't improve for 100 rounds\n",
      "Early stopping, best iteration is:\n",
      "[1253]\tvalid_0's l1: 59.091\n",
      "Training until validation scores don't improve for 100 rounds\n",
      "Early stopping, best iteration is:\n",
      "[1526]\tvalid_0's l1: 52.2815\n",
      "Training until validation scores don't improve for 100 rounds\n",
      "Early stopping, best iteration is:\n",
      "[778]\tvalid_0's l1: 46.0638\n",
      "Training until validation scores don't improve for 100 rounds\n"
     ]
    },
    {
     "name": "stderr",
     "output_type": "stream",
     "text": [
      "[I 2025-08-07 05:03:46,762] Trial 21 finished with value: 50.72187328864494 and parameters: {'num_leaves': 200, 'learning_rate': 0.00865425691761089, 'feature_fraction': 0.832338720105972, 'bagging_fraction': 0.6631517534773644, 'bagging_freq': 7, 'lambda_l1': 5.472648468868421, 'lambda_l2': 9.942497190078988, 'min_data_in_leaf': 24, 'max_depth': 10, 'min_child_samples': 19}. Best is trial 12 with value: 50.157874767929094.\n"
     ]
    },
    {
     "name": "stdout",
     "output_type": "stream",
     "text": [
      "Early stopping, best iteration is:\n",
      "[721]\tvalid_0's l1: 43.4518\n",
      "Training until validation scores don't improve for 100 rounds\n",
      "Early stopping, best iteration is:\n",
      "[559]\tvalid_0's l1: 53.2228\n",
      "Training until validation scores don't improve for 100 rounds\n",
      "Early stopping, best iteration is:\n",
      "[1161]\tvalid_0's l1: 59.5829\n",
      "Training until validation scores don't improve for 100 rounds\n",
      "Early stopping, best iteration is:\n",
      "[1222]\tvalid_0's l1: 52.5855\n",
      "Training until validation scores don't improve for 100 rounds\n",
      "Early stopping, best iteration is:\n",
      "[821]\tvalid_0's l1: 45.4024\n",
      "Training until validation scores don't improve for 100 rounds\n"
     ]
    },
    {
     "name": "stderr",
     "output_type": "stream",
     "text": [
      "[I 2025-08-07 05:03:52,276] Trial 22 finished with value: 50.75795009064374 and parameters: {'num_leaves': 135, 'learning_rate': 0.0070930292881080164, 'feature_fraction': 0.7881396769510407, 'bagging_fraction': 0.6116585708019557, 'bagging_freq': 9, 'lambda_l1': 7.799388892746731, 'lambda_l2': 8.971651958786746, 'min_data_in_leaf': 14, 'max_depth': 9, 'min_child_samples': 14}. Best is trial 12 with value: 50.157874767929094.\n"
     ]
    },
    {
     "name": "stdout",
     "output_type": "stream",
     "text": [
      "Early stopping, best iteration is:\n",
      "[656]\tvalid_0's l1: 42.9962\n",
      "Training until validation scores don't improve for 100 rounds\n",
      "Early stopping, best iteration is:\n",
      "[204]\tvalid_0's l1: 52.6638\n",
      "Training until validation scores don't improve for 100 rounds\n",
      "Early stopping, best iteration is:\n",
      "[1008]\tvalid_0's l1: 57.1017\n",
      "Training until validation scores don't improve for 100 rounds\n",
      "Early stopping, best iteration is:\n",
      "[666]\tvalid_0's l1: 52.5816\n",
      "Training until validation scores don't improve for 100 rounds\n",
      "Early stopping, best iteration is:\n",
      "[378]\tvalid_0's l1: 45.2553\n",
      "Training until validation scores don't improve for 100 rounds\n"
     ]
    },
    {
     "name": "stderr",
     "output_type": "stream",
     "text": [
      "[I 2025-08-07 05:03:56,957] Trial 23 finished with value: 50.13468715165078 and parameters: {'num_leaves': 96, 'learning_rate': 0.014945748465153159, 'feature_fraction': 0.8890697372467358, 'bagging_fraction': 0.6755234961678173, 'bagging_freq': 6, 'lambda_l1': 6.0468015653970175, 'lambda_l2': 7.656826862062323, 'min_data_in_leaf': 11, 'max_depth': 7, 'min_child_samples': 37}. Best is trial 23 with value: 50.13468715165078.\n"
     ]
    },
    {
     "name": "stdout",
     "output_type": "stream",
     "text": [
      "Early stopping, best iteration is:\n",
      "[240]\tvalid_0's l1: 43.071\n",
      "Training until validation scores don't improve for 100 rounds\n",
      "Early stopping, best iteration is:\n",
      "[228]\tvalid_0's l1: 52.9192\n",
      "Training until validation scores don't improve for 100 rounds\n",
      "Early stopping, best iteration is:\n",
      "[750]\tvalid_0's l1: 57.1375\n",
      "Training until validation scores don't improve for 100 rounds\n",
      "Early stopping, best iteration is:\n",
      "[775]\tvalid_0's l1: 51.7389\n",
      "Training until validation scores don't improve for 100 rounds\n",
      "Early stopping, best iteration is:\n",
      "[384]\tvalid_0's l1: 45.2964\n",
      "Training until validation scores don't improve for 100 rounds\n"
     ]
    },
    {
     "name": "stderr",
     "output_type": "stream",
     "text": [
      "[I 2025-08-07 05:04:02,521] Trial 24 finished with value: 50.207228048831254 and parameters: {'num_leaves': 101, 'learning_rate': 0.014884824345173816, 'feature_fraction': 0.8941519992012372, 'bagging_fraction': 0.5652411031821352, 'bagging_freq': 6, 'lambda_l1': 4.338186506276411, 'lambda_l2': 7.416014303238354, 'min_data_in_leaf': 10, 'max_depth': 6, 'min_child_samples': 38}. Best is trial 23 with value: 50.13468715165078.\n"
     ]
    },
    {
     "name": "stdout",
     "output_type": "stream",
     "text": [
      "Early stopping, best iteration is:\n",
      "[241]\tvalid_0's l1: 43.9442\n",
      "Training until validation scores don't improve for 100 rounds\n",
      "Early stopping, best iteration is:\n",
      "[272]\tvalid_0's l1: 52.5286\n",
      "Training until validation scores don't improve for 100 rounds\n",
      "Early stopping, best iteration is:\n",
      "[865]\tvalid_0's l1: 57.781\n",
      "Training until validation scores don't improve for 100 rounds\n",
      "Early stopping, best iteration is:\n",
      "[615]\tvalid_0's l1: 52.8136\n",
      "Training until validation scores don't improve for 100 rounds\n",
      "Early stopping, best iteration is:\n",
      "[310]\tvalid_0's l1: 46.284\n",
      "Training until validation scores don't improve for 100 rounds\n"
     ]
    },
    {
     "name": "stderr",
     "output_type": "stream",
     "text": [
      "[I 2025-08-07 05:04:05,775] Trial 25 finished with value: 50.630589057204176 and parameters: {'num_leaves': 85, 'learning_rate': 0.014377486425173438, 'feature_fraction': 0.9021299050068041, 'bagging_fraction': 0.5236942443802064, 'bagging_freq': 5, 'lambda_l1': 6.277048938061654, 'lambda_l2': 7.305781593471453, 'min_data_in_leaf': 13, 'max_depth': 6, 'min_child_samples': 34}. Best is trial 23 with value: 50.13468715165078.\n"
     ]
    },
    {
     "name": "stdout",
     "output_type": "stream",
     "text": [
      "Early stopping, best iteration is:\n",
      "[371]\tvalid_0's l1: 43.7457\n",
      "Training until validation scores don't improve for 100 rounds\n",
      "Early stopping, best iteration is:\n",
      "[282]\tvalid_0's l1: 52.5926\n",
      "Training until validation scores don't improve for 100 rounds\n",
      "Early stopping, best iteration is:\n",
      "[703]\tvalid_0's l1: 56.9881\n",
      "Training until validation scores don't improve for 100 rounds\n",
      "Early stopping, best iteration is:\n",
      "[582]\tvalid_0's l1: 52.4469\n",
      "Training until validation scores don't improve for 100 rounds\n",
      "Early stopping, best iteration is:\n",
      "[228]\tvalid_0's l1: 48.503\n"
     ]
    },
    {
     "name": "stderr",
     "output_type": "stream",
     "text": [
      "[I 2025-08-07 05:04:07,417] Trial 26 finished with value: 51.225936521353745 and parameters: {'num_leaves': 66, 'learning_rate': 0.024918962359882505, 'feature_fraction': 0.8786653839464633, 'bagging_fraction': 0.5593767960624464, 'bagging_freq': 6, 'lambda_l1': 4.580696119115998, 'lambda_l2': 6.145989709660393, 'min_data_in_leaf': 31, 'max_depth': 5, 'min_child_samples': 37}. Best is trial 23 with value: 50.13468715165078.\n"
     ]
    },
    {
     "name": "stdout",
     "output_type": "stream",
     "text": [
      "Training until validation scores don't improve for 100 rounds\n",
      "Early stopping, best iteration is:\n",
      "[234]\tvalid_0's l1: 45.5991\n",
      "Training until validation scores don't improve for 100 rounds\n",
      "Early stopping, best iteration is:\n",
      "[184]\tvalid_0's l1: 53.2212\n",
      "Training until validation scores don't improve for 100 rounds\n",
      "Early stopping, best iteration is:\n",
      "[358]\tvalid_0's l1: 57.9255\n",
      "Training until validation scores don't improve for 100 rounds\n",
      "Early stopping, best iteration is:\n",
      "[447]\tvalid_0's l1: 52.4677\n",
      "Training until validation scores don't improve for 100 rounds\n",
      "Early stopping, best iteration is:\n",
      "[128]\tvalid_0's l1: 47.8011\n",
      "Training until validation scores don't improve for 100 rounds\n"
     ]
    },
    {
     "name": "stderr",
     "output_type": "stream",
     "text": [
      "[I 2025-08-07 05:04:09,029] Trial 27 finished with value: 51.07324514703017 and parameters: {'num_leaves': 163, 'learning_rate': 0.047003904668337086, 'feature_fraction': 0.9217590330613731, 'bagging_fraction': 0.6837098210592247, 'bagging_freq': 4, 'lambda_l1': 3.1205906112163557, 'lambda_l2': 8.252785711479401, 'min_data_in_leaf': 20, 'max_depth': 4, 'min_child_samples': 60}. Best is trial 23 with value: 50.13468715165078.\n"
     ]
    },
    {
     "name": "stdout",
     "output_type": "stream",
     "text": [
      "Early stopping, best iteration is:\n",
      "[164]\tvalid_0's l1: 43.9508\n",
      "Training until validation scores don't improve for 100 rounds\n",
      "Early stopping, best iteration is:\n",
      "[199]\tvalid_0's l1: 55.0597\n",
      "Training until validation scores don't improve for 100 rounds\n",
      "Early stopping, best iteration is:\n",
      "[636]\tvalid_0's l1: 58.4933\n",
      "Training until validation scores don't improve for 100 rounds\n",
      "Early stopping, best iteration is:\n",
      "[576]\tvalid_0's l1: 52.7873\n",
      "Training until validation scores don't improve for 100 rounds\n",
      "Early stopping, best iteration is:\n",
      "[223]\tvalid_0's l1: 45.8798\n",
      "Training until validation scores don't improve for 100 rounds\n"
     ]
    },
    {
     "name": "stderr",
     "output_type": "stream",
     "text": [
      "[I 2025-08-07 05:04:12,595] Trial 28 finished with value: 50.97892528678777 and parameters: {'num_leaves': 122, 'learning_rate': 0.01601493090503329, 'feature_fraction': 0.8531718910795696, 'bagging_fraction': 0.7628132039533108, 'bagging_freq': 6, 'lambda_l1': 8.52521472488262, 'lambda_l2': 8.914805636594851, 'min_data_in_leaf': 12, 'max_depth': 7, 'min_child_samples': 49}. Best is trial 23 with value: 50.13468715165078.\n"
     ]
    },
    {
     "name": "stdout",
     "output_type": "stream",
     "text": [
      "Early stopping, best iteration is:\n",
      "[222]\tvalid_0's l1: 42.6745\n",
      "Training until validation scores don't improve for 100 rounds\n",
      "Early stopping, best iteration is:\n",
      "[792]\tvalid_0's l1: 51.4024\n",
      "Training until validation scores don't improve for 100 rounds\n",
      "Early stopping, best iteration is:\n",
      "[1500]\tvalid_0's l1: 59.1936\n",
      "Training until validation scores don't improve for 100 rounds\n",
      "Early stopping, best iteration is:\n",
      "[793]\tvalid_0's l1: 55.5383\n",
      "Training until validation scores don't improve for 100 rounds\n",
      "Early stopping, best iteration is:\n",
      "[498]\tvalid_0's l1: 48.5495\n",
      "Training until validation scores don't improve for 100 rounds\n"
     ]
    },
    {
     "name": "stderr",
     "output_type": "stream",
     "text": [
      "[I 2025-08-07 05:04:14,915] Trial 29 finished with value: 51.775126941623526 and parameters: {'num_leaves': 266, 'learning_rate': 0.010981821402718668, 'feature_fraction': 0.9492231622702628, 'bagging_fraction': 0.7118019752778938, 'bagging_freq': 6, 'lambda_l1': 2.988807503031454, 'lambda_l2': 5.672146678569108, 'min_data_in_leaf': 50, 'max_depth': 7, 'min_child_samples': 27}. Best is trial 23 with value: 50.13468715165078.\n"
     ]
    },
    {
     "name": "stdout",
     "output_type": "stream",
     "text": [
      "Early stopping, best iteration is:\n",
      "[732]\tvalid_0's l1: 44.192\n",
      "🎯 Best params for Tg: {'num_leaves': 96, 'learning_rate': 0.014945748465153159, 'feature_fraction': 0.8890697372467358, 'bagging_fraction': 0.6755234961678173, 'bagging_freq': 6, 'lambda_l1': 6.0468015653970175, 'lambda_l2': 7.656826862062323, 'min_data_in_leaf': 11, 'max_depth': 7, 'min_child_samples': 37}\n",
      "Training until validation scores don't improve for 100 rounds\n",
      "Early stopping, best iteration is:\n",
      "[202]\tvalid_0's l1: 50.6025\n",
      "----Fold 1 MAE = 50.6025\n",
      "Training until validation scores don't improve for 100 rounds\n",
      "Early stopping, best iteration is:\n",
      "[402]\tvalid_0's l1: 55.3751\n",
      "----Fold 2 MAE = 55.3751\n",
      "Training until validation scores don't improve for 100 rounds\n",
      "Early stopping, best iteration is:\n",
      "[670]\tvalid_0's l1: 60.5018\n",
      "----Fold 3 MAE = 60.5018\n",
      "Training until validation scores don't improve for 100 rounds\n",
      "Early stopping, best iteration is:\n",
      "[672]\tvalid_0's l1: 50.2201\n",
      "----Fold 4 MAE = 50.2201\n",
      "Training until validation scores don't improve for 100 rounds\n",
      "Early stopping, best iteration is:\n",
      "[323]\tvalid_0's l1: 45.6953\n",
      "----Fold 5 MAE = 45.6953\n",
      "Training until validation scores don't improve for 100 rounds\n",
      "Early stopping, best iteration is:\n",
      "[349]\tvalid_0's l1: 43.9476\n",
      "----Fold 6 MAE = 43.9476\n",
      "Training until validation scores don't improve for 100 rounds\n",
      "Early stopping, best iteration is:\n",
      "[270]\tvalid_0's l1: 43.2775\n",
      "----Fold 7 MAE = 43.2775\n",
      "===CV MAE: 49.9457 ± 5.854===\n",
      "==================================================\n",
      "\n",
      "\n",
      "==================================================\n",
      "Training FFV...\n",
      "🔍 Running feature selection pipeline...\n",
      "  VarianceThreshold: 522 features retained\n"
     ]
    },
    {
     "name": "stderr",
     "output_type": "stream",
     "text": [
      "[I 2025-08-07 05:04:48,842] A new study created in memory with name: no-name-6c8ce45f-5d35-4f85-95d7-3ea647d12cbd\n"
     ]
    },
    {
     "name": "stdout",
     "output_type": "stream",
     "text": [
      "  MutualInfo: 200 features selected\n",
      "Selected 200 features for FFV\n",
      "📊 Training FFV on 7030 samples\n",
      "📈 Target range: 0.2270 to 0.7771\n",
      "Training until validation scores don't improve for 100 rounds\n",
      "Early stopping, best iteration is:\n",
      "[301]\tvalid_0's l1: 0.0152957\n",
      "Training until validation scores don't improve for 100 rounds\n",
      "Early stopping, best iteration is:\n",
      "[125]\tvalid_0's l1: 0.0149603\n",
      "Training until validation scores don't improve for 100 rounds\n",
      "Early stopping, best iteration is:\n",
      "[495]\tvalid_0's l1: 0.0138346\n",
      "Training until validation scores don't improve for 100 rounds\n",
      "Early stopping, best iteration is:\n",
      "[140]\tvalid_0's l1: 0.0145155\n",
      "Training until validation scores don't improve for 100 rounds\n"
     ]
    },
    {
     "name": "stderr",
     "output_type": "stream",
     "text": [
      "[I 2025-08-07 05:04:51,238] Trial 0 finished with value: 0.01478650546983799 and parameters: {'num_leaves': 188, 'learning_rate': 0.04785930138975177, 'feature_fraction': 0.9863687143225086, 'bagging_fraction': 0.5989537643440912, 'bagging_freq': 6, 'lambda_l1': 6.07218699474788, 'lambda_l2': 8.58911093818012, 'min_data_in_leaf': 24, 'max_depth': 11, 'min_child_samples': 79}. Best is trial 0 with value: 0.01478650546983799.\n"
     ]
    },
    {
     "name": "stdout",
     "output_type": "stream",
     "text": [
      "Early stopping, best iteration is:\n",
      "[206]\tvalid_0's l1: 0.0153264\n",
      "Training until validation scores don't improve for 100 rounds\n",
      "Early stopping, best iteration is:\n",
      "[1091]\tvalid_0's l1: 0.0124617\n",
      "Training until validation scores don't improve for 100 rounds\n",
      "Early stopping, best iteration is:\n",
      "[1184]\tvalid_0's l1: 0.0115792\n",
      "Training until validation scores don't improve for 100 rounds\n",
      "Early stopping, best iteration is:\n",
      "[949]\tvalid_0's l1: 0.0112522\n",
      "Training until validation scores don't improve for 100 rounds\n",
      "Early stopping, best iteration is:\n",
      "[776]\tvalid_0's l1: 0.0118719\n",
      "Training until validation scores don't improve for 100 rounds\n"
     ]
    },
    {
     "name": "stderr",
     "output_type": "stream",
     "text": [
      "[I 2025-08-07 05:04:59,667] Trial 1 finished with value: 0.01186088238001186 and parameters: {'num_leaves': 412, 'learning_rate': 0.015969104145093393, 'feature_fraction': 0.9341557404900818, 'bagging_fraction': 0.8122239568240972, 'bagging_freq': 10, 'lambda_l1': 3.0686185556957115, 'lambda_l2': 6.588327229586434, 'min_data_in_leaf': 98, 'max_depth': 8, 'min_child_samples': 16}. Best is trial 1 with value: 0.01186088238001186.\n"
     ]
    },
    {
     "name": "stdout",
     "output_type": "stream",
     "text": [
      "Early stopping, best iteration is:\n",
      "[1101]\tvalid_0's l1: 0.0121379\n",
      "Training until validation scores don't improve for 100 rounds\n",
      "Early stopping, best iteration is:\n",
      "[159]\tvalid_0's l1: 0.0122974\n",
      "Training until validation scores don't improve for 100 rounds\n",
      "Early stopping, best iteration is:\n",
      "[161]\tvalid_0's l1: 0.0116434\n",
      "Training until validation scores don't improve for 100 rounds\n",
      "Early stopping, best iteration is:\n",
      "[163]\tvalid_0's l1: 0.0111303\n",
      "Training until validation scores don't improve for 100 rounds\n",
      "Early stopping, best iteration is:\n",
      "[295]\tvalid_0's l1: 0.0116092\n",
      "Training until validation scores don't improve for 100 rounds\n"
     ]
    },
    {
     "name": "stderr",
     "output_type": "stream",
     "text": [
      "[I 2025-08-07 05:05:01,958] Trial 2 finished with value: 0.01177184843333174 and parameters: {'num_leaves': 122, 'learning_rate': 0.08152947597240194, 'feature_fraction': 0.9679991945345567, 'bagging_fraction': 0.7560626236982246, 'bagging_freq': 9, 'lambda_l1': 2.751995198037218, 'lambda_l2': 2.760580303948675, 'min_data_in_leaf': 82, 'max_depth': 7, 'min_child_samples': 92}. Best is trial 2 with value: 0.01177184843333174.\n"
     ]
    },
    {
     "name": "stdout",
     "output_type": "stream",
     "text": [
      "Early stopping, best iteration is:\n",
      "[113]\tvalid_0's l1: 0.0121713\n",
      "Training until validation scores don't improve for 100 rounds\n",
      "Early stopping, best iteration is:\n",
      "[890]\tvalid_0's l1: 0.0104809\n",
      "Training until validation scores don't improve for 100 rounds\n",
      "Did not meet early stopping. Best iteration is:\n",
      "[1972]\tvalid_0's l1: 0.00945111\n",
      "Training until validation scores don't improve for 100 rounds\n",
      "Did not meet early stopping. Best iteration is:\n",
      "[1992]\tvalid_0's l1: 0.00918733\n",
      "Training until validation scores don't improve for 100 rounds\n",
      "Did not meet early stopping. Best iteration is:\n",
      "[1993]\tvalid_0's l1: 0.00923644\n",
      "Training until validation scores don't improve for 100 rounds\n"
     ]
    },
    {
     "name": "stderr",
     "output_type": "stream",
     "text": [
      "[I 2025-08-07 05:05:19,750] Trial 3 finished with value: 0.009672328010381903 and parameters: {'num_leaves': 377, 'learning_rate': 0.015162545333408016, 'feature_fraction': 0.8738957894036586, 'bagging_fraction': 0.6524129281796593, 'bagging_freq': 9, 'lambda_l1': 1.10392628482473, 'lambda_l2': 2.601173060883404, 'min_data_in_leaf': 51, 'max_depth': 11, 'min_child_samples': 24}. Best is trial 3 with value: 0.009672328010381903.\n"
     ]
    },
    {
     "name": "stdout",
     "output_type": "stream",
     "text": [
      "Did not meet early stopping. Best iteration is:\n",
      "[1982]\tvalid_0's l1: 0.0100017\n",
      "Training until validation scores don't improve for 100 rounds\n",
      "Early stopping, best iteration is:\n",
      "[1574]\tvalid_0's l1: 0.0145702\n",
      "Training until validation scores don't improve for 100 rounds\n",
      "Did not meet early stopping. Best iteration is:\n",
      "[2000]\tvalid_0's l1: 0.0139025\n",
      "Training until validation scores don't improve for 100 rounds\n",
      "Did not meet early stopping. Best iteration is:\n",
      "[1918]\tvalid_0's l1: 0.0132844\n",
      "Training until validation scores don't improve for 100 rounds\n",
      "Early stopping, best iteration is:\n",
      "[647]\tvalid_0's l1: 0.014035\n",
      "Training until validation scores don't improve for 100 rounds\n"
     ]
    },
    {
     "name": "stderr",
     "output_type": "stream",
     "text": [
      "[I 2025-08-07 05:05:28,875] Trial 4 finished with value: 0.014079491530558786 and parameters: {'num_leaves': 268, 'learning_rate': 0.010539579967346115, 'feature_fraction': 0.635271383223663, 'bagging_fraction': 0.7614460342873115, 'bagging_freq': 9, 'lambda_l1': 6.004200814813937, 'lambda_l2': 6.895307820946604, 'min_data_in_leaf': 95, 'max_depth': 6, 'min_child_samples': 99}. Best is trial 3 with value: 0.009672328010381903.\n"
     ]
    },
    {
     "name": "stdout",
     "output_type": "stream",
     "text": [
      "Early stopping, best iteration is:\n",
      "[771]\tvalid_0's l1: 0.0146053\n",
      "Training until validation scores don't improve for 100 rounds\n",
      "Early stopping, best iteration is:\n",
      "[1623]\tvalid_0's l1: 0.0139814\n",
      "Training until validation scores don't improve for 100 rounds\n",
      "Did not meet early stopping. Best iteration is:\n",
      "[2000]\tvalid_0's l1: 0.0132935\n",
      "Training until validation scores don't improve for 100 rounds\n",
      "Did not meet early stopping. Best iteration is:\n",
      "[2000]\tvalid_0's l1: 0.0127368\n",
      "Training until validation scores don't improve for 100 rounds\n",
      "Did not meet early stopping. Best iteration is:\n",
      "[1926]\tvalid_0's l1: 0.0131523\n",
      "Training until validation scores don't improve for 100 rounds\n"
     ]
    },
    {
     "name": "stderr",
     "output_type": "stream",
     "text": [
      "[I 2025-08-07 05:05:45,282] Trial 5 finished with value: 0.013399311788289172 and parameters: {'num_leaves': 237, 'learning_rate': 0.00856942663705582, 'feature_fraction': 0.5983658746420819, 'bagging_fraction': 0.789711019506607, 'bagging_freq': 8, 'lambda_l1': 5.24149228110148, 'lambda_l2': 7.754293371741847, 'min_data_in_leaf': 92, 'max_depth': 13, 'min_child_samples': 61}. Best is trial 3 with value: 0.009672328010381903.\n"
     ]
    },
    {
     "name": "stdout",
     "output_type": "stream",
     "text": [
      "Did not meet early stopping. Best iteration is:\n",
      "[1988]\tvalid_0's l1: 0.0138312\n",
      "Training until validation scores don't improve for 100 rounds\n",
      "Did not meet early stopping. Best iteration is:\n",
      "[1998]\tvalid_0's l1: 0.0170129\n",
      "Training until validation scores don't improve for 100 rounds\n",
      "Did not meet early stopping. Best iteration is:\n",
      "[1997]\tvalid_0's l1: 0.0165947\n",
      "Training until validation scores don't improve for 100 rounds\n",
      "Did not meet early stopping. Best iteration is:\n",
      "[2000]\tvalid_0's l1: 0.0157687\n",
      "Training until validation scores don't improve for 100 rounds\n",
      "Did not meet early stopping. Best iteration is:\n",
      "[2000]\tvalid_0's l1: 0.0161715\n",
      "Training until validation scores don't improve for 100 rounds\n"
     ]
    },
    {
     "name": "stderr",
     "output_type": "stream",
     "text": [
      "[I 2025-08-07 05:05:56,554] Trial 6 finished with value: 0.01648162752872058 and parameters: {'num_leaves': 386, 'learning_rate': 0.008613681593110817, 'feature_fraction': 0.9737673888790106, 'bagging_fraction': 0.5296585390505529, 'bagging_freq': 10, 'lambda_l1': 8.03416482294067, 'lambda_l2': 2.090093703933271, 'min_data_in_leaf': 16, 'max_depth': 12, 'min_child_samples': 81}. Best is trial 3 with value: 0.009672328010381903.\n"
     ]
    },
    {
     "name": "stdout",
     "output_type": "stream",
     "text": [
      "Did not meet early stopping. Best iteration is:\n",
      "[2000]\tvalid_0's l1: 0.0168603\n",
      "Training until validation scores don't improve for 100 rounds\n",
      "Did not meet early stopping. Best iteration is:\n",
      "[1998]\tvalid_0's l1: 0.013031\n",
      "Training until validation scores don't improve for 100 rounds\n",
      "Early stopping, best iteration is:\n",
      "[518]\tvalid_0's l1: 0.0126751\n",
      "Training until validation scores don't improve for 100 rounds\n",
      "Early stopping, best iteration is:\n",
      "[933]\tvalid_0's l1: 0.0120796\n",
      "Training until validation scores don't improve for 100 rounds\n",
      "Did not meet early stopping. Best iteration is:\n",
      "[1986]\tvalid_0's l1: 0.0122884\n",
      "Training until validation scores don't improve for 100 rounds\n"
     ]
    },
    {
     "name": "stderr",
     "output_type": "stream",
     "text": [
      "[I 2025-08-07 05:06:07,364] Trial 7 finished with value: 0.012653183293867224 and parameters: {'num_leaves': 251, 'learning_rate': 0.013357157169805312, 'feature_fraction': 0.7410257586538467, 'bagging_fraction': 0.8405093514183113, 'bagging_freq': 3, 'lambda_l1': 4.253443815002314, 'lambda_l2': 5.854487370779592, 'min_data_in_leaf': 74, 'max_depth': 10, 'min_child_samples': 51}. Best is trial 3 with value: 0.009672328010381903.\n"
     ]
    },
    {
     "name": "stdout",
     "output_type": "stream",
     "text": [
      "Early stopping, best iteration is:\n",
      "[591]\tvalid_0's l1: 0.0131917\n",
      "Training until validation scores don't improve for 100 rounds\n",
      "Early stopping, best iteration is:\n",
      "[739]\tvalid_0's l1: 0.0151358\n",
      "Training until validation scores don't improve for 100 rounds\n",
      "Early stopping, best iteration is:\n",
      "[729]\tvalid_0's l1: 0.0146588\n",
      "Training until validation scores don't improve for 100 rounds\n",
      "Early stopping, best iteration is:\n",
      "[580]\tvalid_0's l1: 0.0140935\n",
      "Training until validation scores don't improve for 100 rounds\n",
      "Early stopping, best iteration is:\n",
      "[604]\tvalid_0's l1: 0.0143908\n",
      "Training until validation scores don't improve for 100 rounds\n"
     ]
    },
    {
     "name": "stderr",
     "output_type": "stream",
     "text": [
      "[I 2025-08-07 05:06:11,583] Trial 8 finished with value: 0.014684258545078172 and parameters: {'num_leaves': 317, 'learning_rate': 0.16343153026350776, 'feature_fraction': 0.7330847549608722, 'bagging_fraction': 0.8493764137775276, 'bagging_freq': 1, 'lambda_l1': 8.057948038428693, 'lambda_l2': 9.76765032050968, 'min_data_in_leaf': 14, 'max_depth': 15, 'min_child_samples': 66}. Best is trial 3 with value: 0.009672328010381903.\n"
     ]
    },
    {
     "name": "stdout",
     "output_type": "stream",
     "text": [
      "Early stopping, best iteration is:\n",
      "[254]\tvalid_0's l1: 0.0151413\n",
      "Training until validation scores don't improve for 100 rounds\n",
      "Early stopping, best iteration is:\n",
      "[288]\tvalid_0's l1: 0.0155082\n",
      "Training until validation scores don't improve for 100 rounds\n",
      "Early stopping, best iteration is:\n",
      "[230]\tvalid_0's l1: 0.0150469\n",
      "Training until validation scores don't improve for 100 rounds\n",
      "Early stopping, best iteration is:\n",
      "[634]\tvalid_0's l1: 0.0143374\n",
      "Training until validation scores don't improve for 100 rounds\n",
      "Early stopping, best iteration is:\n",
      "[142]\tvalid_0's l1: 0.0147347\n",
      "Training until validation scores don't improve for 100 rounds\n"
     ]
    },
    {
     "name": "stderr",
     "output_type": "stream",
     "text": [
      "[I 2025-08-07 05:06:16,488] Trial 9 finished with value: 0.015010693385005764 and parameters: {'num_leaves': 446, 'learning_rate': 0.04829241420276207, 'feature_fraction': 0.5084992972964422, 'bagging_fraction': 0.9505740395041583, 'bagging_freq': 5, 'lambda_l1': 9.051102292040481, 'lambda_l2': 4.533548810149982, 'min_data_in_leaf': 9, 'max_depth': 9, 'min_child_samples': 76}. Best is trial 3 with value: 0.009672328010381903.\n"
     ]
    },
    {
     "name": "stdout",
     "output_type": "stream",
     "text": [
      "Early stopping, best iteration is:\n",
      "[383]\tvalid_0's l1: 0.0154263\n",
      "Training until validation scores don't improve for 100 rounds\n",
      "Early stopping, best iteration is:\n",
      "[979]\tvalid_0's l1: 0.00969346\n",
      "Training until validation scores don't improve for 100 rounds\n",
      "Did not meet early stopping. Best iteration is:\n",
      "[1943]\tvalid_0's l1: 0.00915147\n",
      "Training until validation scores don't improve for 100 rounds\n",
      "Early stopping, best iteration is:\n",
      "[1146]\tvalid_0's l1: 0.00887942\n",
      "Training until validation scores don't improve for 100 rounds\n",
      "Early stopping, best iteration is:\n",
      "[1627]\tvalid_0's l1: 0.00883021\n",
      "Training until validation scores don't improve for 100 rounds\n"
     ]
    },
    {
     "name": "stderr",
     "output_type": "stream",
     "text": [
      "[I 2025-08-07 05:06:29,607] Trial 10 finished with value: 0.00924618665115998 and parameters: {'num_leaves': 507, 'learning_rate': 0.022728866037191386, 'feature_fraction': 0.8398370336102073, 'bagging_fraction': 0.661758589440702, 'bagging_freq': 7, 'lambda_l1': 0.7894270030090409, 'lambda_l2': 0.6984226820745367, 'min_data_in_leaf': 44, 'max_depth': 4, 'min_child_samples': 6}. Best is trial 10 with value: 0.00924618665115998.\n"
     ]
    },
    {
     "name": "stdout",
     "output_type": "stream",
     "text": [
      "Early stopping, best iteration is:\n",
      "[1081]\tvalid_0's l1: 0.00966482\n",
      "Training until validation scores don't improve for 100 rounds\n",
      "Did not meet early stopping. Best iteration is:\n",
      "[1994]\tvalid_0's l1: 0.00914226\n",
      "Training until validation scores don't improve for 100 rounds\n",
      "Did not meet early stopping. Best iteration is:\n",
      "[1967]\tvalid_0's l1: 0.00911633\n",
      "Training until validation scores don't improve for 100 rounds\n",
      "Did not meet early stopping. Best iteration is:\n",
      "[1904]\tvalid_0's l1: 0.00866665\n",
      "Training until validation scores don't improve for 100 rounds\n",
      "Did not meet early stopping. Best iteration is:\n",
      "[1960]\tvalid_0's l1: 0.0085542\n",
      "Training until validation scores don't improve for 100 rounds\n"
     ]
    },
    {
     "name": "stderr",
     "output_type": "stream",
     "text": [
      "[I 2025-08-07 05:06:47,852] Trial 11 finished with value: 0.008919358955707765 and parameters: {'num_leaves': 502, 'learning_rate': 0.02405224413599633, 'feature_fraction': 0.8048335212609812, 'bagging_fraction': 0.6430005229320649, 'bagging_freq': 7, 'lambda_l1': 0.48125407015753385, 'lambda_l2': 0.03348956956969351, 'min_data_in_leaf': 45, 'max_depth': 3, 'min_child_samples': 6}. Best is trial 11 with value: 0.008919358955707765.\n"
     ]
    },
    {
     "name": "stdout",
     "output_type": "stream",
     "text": [
      "Did not meet early stopping. Best iteration is:\n",
      "[1979]\tvalid_0's l1: 0.00911735\n",
      "Training until validation scores don't improve for 100 rounds\n",
      "Did not meet early stopping. Best iteration is:\n",
      "[2000]\tvalid_0's l1: 0.00916199\n",
      "Training until validation scores don't improve for 100 rounds\n",
      "Did not meet early stopping. Best iteration is:\n",
      "[1981]\tvalid_0's l1: 0.00912029\n",
      "Training until validation scores don't improve for 100 rounds\n",
      "Did not meet early stopping. Best iteration is:\n",
      "[2000]\tvalid_0's l1: 0.00861691\n",
      "Training until validation scores don't improve for 100 rounds\n",
      "Did not meet early stopping. Best iteration is:\n",
      "[2000]\tvalid_0's l1: 0.0085955\n",
      "Training until validation scores don't improve for 100 rounds\n"
     ]
    },
    {
     "name": "stderr",
     "output_type": "stream",
     "text": [
      "[I 2025-08-07 05:07:04,493] Trial 12 finished with value: 0.008941842875609873 and parameters: {'num_leaves': 503, 'learning_rate': 0.02670719525366549, 'feature_fraction': 0.8301791377715808, 'bagging_fraction': 0.6521119939185848, 'bagging_freq': 6, 'lambda_l1': 0.5686611355812409, 'lambda_l2': 0.01996299251556266, 'min_data_in_leaf': 41, 'max_depth': 3, 'min_child_samples': 8}. Best is trial 11 with value: 0.008919358955707765.\n"
     ]
    },
    {
     "name": "stdout",
     "output_type": "stream",
     "text": [
      "Did not meet early stopping. Best iteration is:\n",
      "[2000]\tvalid_0's l1: 0.00921452\n",
      "Training until validation scores don't improve for 100 rounds\n",
      "Did not meet early stopping. Best iteration is:\n",
      "[2000]\tvalid_0's l1: 0.00884679\n",
      "Training until validation scores don't improve for 100 rounds\n",
      "Did not meet early stopping. Best iteration is:\n",
      "[1988]\tvalid_0's l1: 0.00881898\n",
      "Training until validation scores don't improve for 100 rounds\n",
      "Did not meet early stopping. Best iteration is:\n",
      "[1999]\tvalid_0's l1: 0.00853166\n",
      "Training until validation scores don't improve for 100 rounds\n",
      "Did not meet early stopping. Best iteration is:\n",
      "[1950]\tvalid_0's l1: 0.00842327\n",
      "Training until validation scores don't improve for 100 rounds\n"
     ]
    },
    {
     "name": "stderr",
     "output_type": "stream",
     "text": [
      "[I 2025-08-07 05:07:23,783] Trial 13 finished with value: 0.008697218994386472 and parameters: {'num_leaves': 494, 'learning_rate': 0.027948895652824133, 'feature_fraction': 0.8120134962525056, 'bagging_fraction': 0.6692073980934896, 'bagging_freq': 5, 'lambda_l1': 0.3213189386751516, 'lambda_l2': 0.08052823567034842, 'min_data_in_leaf': 39, 'max_depth': 3, 'min_child_samples': 36}. Best is trial 13 with value: 0.008697218994386472.\n"
     ]
    },
    {
     "name": "stdout",
     "output_type": "stream",
     "text": [
      "Did not meet early stopping. Best iteration is:\n",
      "[1948]\tvalid_0's l1: 0.0088654\n",
      "Training until validation scores don't improve for 100 rounds\n",
      "Did not meet early stopping. Best iteration is:\n",
      "[2000]\tvalid_0's l1: 0.00913008\n",
      "Training until validation scores don't improve for 100 rounds\n",
      "Did not meet early stopping. Best iteration is:\n",
      "[2000]\tvalid_0's l1: 0.00918567\n",
      "Training until validation scores don't improve for 100 rounds\n",
      "Did not meet early stopping. Best iteration is:\n",
      "[2000]\tvalid_0's l1: 0.00882846\n",
      "Training until validation scores don't improve for 100 rounds\n",
      "Did not meet early stopping. Best iteration is:\n",
      "[2000]\tvalid_0's l1: 0.00860979\n",
      "Training until validation scores don't improve for 100 rounds\n"
     ]
    },
    {
     "name": "stderr",
     "output_type": "stream",
     "text": [
      "[I 2025-08-07 05:07:52,125] Trial 14 finished with value: 0.008977871533031857 and parameters: {'num_leaves': 455, 'learning_rate': 0.005305474886334327, 'feature_fraction': 0.7859710927617038, 'bagging_fraction': 0.50204260978235, 'bagging_freq': 4, 'lambda_l1': 0.011076777746227506, 'lambda_l2': 1.411733262606088, 'min_data_in_leaf': 64, 'max_depth': 5, 'min_child_samples': 35}. Best is trial 13 with value: 0.008697218994386472.\n"
     ]
    },
    {
     "name": "stdout",
     "output_type": "stream",
     "text": [
      "Did not meet early stopping. Best iteration is:\n",
      "[2000]\tvalid_0's l1: 0.00913535\n",
      "Training until validation scores don't improve for 100 rounds\n",
      "Early stopping, best iteration is:\n",
      "[346]\tvalid_0's l1: 0.0122073\n",
      "Training until validation scores don't improve for 100 rounds\n",
      "Early stopping, best iteration is:\n",
      "[962]\tvalid_0's l1: 0.0112073\n",
      "Training until validation scores don't improve for 100 rounds\n",
      "Early stopping, best iteration is:\n",
      "[1344]\tvalid_0's l1: 0.0107231\n",
      "Training until validation scores don't improve for 100 rounds\n",
      "Early stopping, best iteration is:\n",
      "[416]\tvalid_0's l1: 0.0114332\n",
      "Training until validation scores don't improve for 100 rounds\n"
     ]
    },
    {
     "name": "stderr",
     "output_type": "stream",
     "text": [
      "[I 2025-08-07 05:07:57,764] Trial 15 finished with value: 0.011511069080779618 and parameters: {'num_leaves': 341, 'learning_rate': 0.03879973322308508, 'feature_fraction': 0.6895954676640752, 'bagging_fraction': 0.6951906269485235, 'bagging_freq': 3, 'lambda_l1': 2.2725722527120737, 'lambda_l2': 3.8132307533615344, 'min_data_in_leaf': 31, 'max_depth': 3, 'min_child_samples': 43}. Best is trial 13 with value: 0.008697218994386472.\n"
     ]
    },
    {
     "name": "stdout",
     "output_type": "stream",
     "text": [
      "Early stopping, best iteration is:\n",
      "[417]\tvalid_0's l1: 0.0119741\n",
      "Training until validation scores don't improve for 100 rounds\n",
      "Early stopping, best iteration is:\n",
      "[121]\tvalid_0's l1: 0.012008\n",
      "Training until validation scores don't improve for 100 rounds\n",
      "Early stopping, best iteration is:\n",
      "[170]\tvalid_0's l1: 0.0111461\n",
      "Training until validation scores don't improve for 100 rounds\n",
      "Early stopping, best iteration is:\n",
      "[156]\tvalid_0's l1: 0.0107654\n",
      "Training until validation scores don't improve for 100 rounds\n",
      "Early stopping, best iteration is:\n",
      "[160]\tvalid_0's l1: 0.0112211\n",
      "Training until validation scores don't improve for 100 rounds\n"
     ]
    },
    {
     "name": "stderr",
     "output_type": "stream",
     "text": [
      "[I 2025-08-07 05:07:59,691] Trial 16 finished with value: 0.01138739963950737 and parameters: {'num_leaves': 59, 'learning_rate': 0.0841150079640493, 'feature_fraction': 0.876501536913999, 'bagging_fraction': 0.570996451895338, 'bagging_freq': 7, 'lambda_l1': 1.8188977743276138, 'lambda_l2': 0.2648182564005311, 'min_data_in_leaf': 60, 'max_depth': 5, 'min_child_samples': 27}. Best is trial 13 with value: 0.008697218994386472.\n"
     ]
    },
    {
     "name": "stdout",
     "output_type": "stream",
     "text": [
      "Early stopping, best iteration is:\n",
      "[139]\tvalid_0's l1: 0.0117941\n",
      "Training until validation scores don't improve for 100 rounds\n",
      "Early stopping, best iteration is:\n",
      "[322]\tvalid_0's l1: 0.0131635\n",
      "Training until validation scores don't improve for 100 rounds\n",
      "Early stopping, best iteration is:\n",
      "[563]\tvalid_0's l1: 0.0120917\n",
      "Training until validation scores don't improve for 100 rounds\n",
      "Early stopping, best iteration is:\n",
      "[775]\tvalid_0's l1: 0.0116403\n",
      "Training until validation scores don't improve for 100 rounds\n",
      "Early stopping, best iteration is:\n",
      "[620]\tvalid_0's l1: 0.0121076\n",
      "Training until validation scores don't improve for 100 rounds\n"
     ]
    },
    {
     "name": "stderr",
     "output_type": "stream",
     "text": [
      "[I 2025-08-07 05:08:04,738] Trial 17 finished with value: 0.01231143948562573 and parameters: {'num_leaves': 468, 'learning_rate': 0.024746465845997552, 'feature_fraction': 0.7861990679458485, 'bagging_fraction': 0.7083556773021826, 'bagging_freq': 5, 'lambda_l1': 3.4667039945577307, 'lambda_l2': 3.7472079690719706, 'min_data_in_leaf': 34, 'max_depth': 6, 'min_child_samples': 39}. Best is trial 13 with value: 0.008697218994386472.\n"
     ]
    },
    {
     "name": "stdout",
     "output_type": "stream",
     "text": [
      "Early stopping, best iteration is:\n",
      "[627]\tvalid_0's l1: 0.012553\n",
      "Training until validation scores don't improve for 100 rounds\n",
      "Did not meet early stopping. Best iteration is:\n",
      "[1992]\tvalid_0's l1: 0.0104732\n",
      "Training until validation scores don't improve for 100 rounds\n",
      "Did not meet early stopping. Best iteration is:\n",
      "[1995]\tvalid_0's l1: 0.0100201\n",
      "Training until validation scores don't improve for 100 rounds\n",
      "Did not meet early stopping. Best iteration is:\n",
      "[2000]\tvalid_0's l1: 0.00957194\n",
      "Training until validation scores don't improve for 100 rounds\n",
      "Early stopping, best iteration is:\n",
      "[1632]\tvalid_0's l1: 0.00981242\n",
      "Training until validation scores don't improve for 100 rounds\n"
     ]
    },
    {
     "name": "stderr",
     "output_type": "stream",
     "text": [
      "[I 2025-08-07 05:08:12,340] Trial 18 finished with value: 0.010070086303457005 and parameters: {'num_leaves': 322, 'learning_rate': 0.08160139887059224, 'feature_fraction': 0.6804938157084877, 'bagging_fraction': 0.5822604740749098, 'bagging_freq': 1, 'lambda_l1': 1.4647730445064928, 'lambda_l2': 1.360557870477075, 'min_data_in_leaf': 52, 'max_depth': 3, 'min_child_samples': 23}. Best is trial 13 with value: 0.008697218994386472.\n"
     ]
    },
    {
     "name": "stdout",
     "output_type": "stream",
     "text": [
      "Did not meet early stopping. Best iteration is:\n",
      "[1985]\tvalid_0's l1: 0.010468\n",
      "Training until validation scores don't improve for 100 rounds\n",
      "Early stopping, best iteration is:\n",
      "[141]\tvalid_0's l1: 0.0132547\n",
      "Training until validation scores don't improve for 100 rounds\n",
      "Early stopping, best iteration is:\n",
      "[185]\tvalid_0's l1: 0.0124986\n",
      "Training until validation scores don't improve for 100 rounds\n",
      "Early stopping, best iteration is:\n",
      "[396]\tvalid_0's l1: 0.0119432\n",
      "Training until validation scores don't improve for 100 rounds\n",
      "Early stopping, best iteration is:\n",
      "[131]\tvalid_0's l1: 0.0124687\n",
      "Training until validation scores don't improve for 100 rounds\n"
     ]
    },
    {
     "name": "stderr",
     "output_type": "stream",
     "text": [
      "[I 2025-08-07 05:08:16,664] Trial 19 finished with value: 0.012639551708949908 and parameters: {'num_leaves': 421, 'learning_rate': 0.058850620505647565, 'feature_fraction': 0.907425276335504, 'bagging_fraction': 0.9037241496402495, 'bagging_freq': 4, 'lambda_l1': 4.340369004689656, 'lambda_l2': 1.2383873700847614, 'min_data_in_leaf': 65, 'max_depth': 5, 'min_child_samples': 49}. Best is trial 13 with value: 0.008697218994386472.\n"
     ]
    },
    {
     "name": "stdout",
     "output_type": "stream",
     "text": [
      "Early stopping, best iteration is:\n",
      "[142]\tvalid_0's l1: 0.0130321\n",
      "Training until validation scores don't improve for 100 rounds\n",
      "Early stopping, best iteration is:\n",
      "[194]\tvalid_0's l1: 0.00840921\n",
      "Training until validation scores don't improve for 100 rounds\n",
      "Early stopping, best iteration is:\n",
      "[711]\tvalid_0's l1: 0.00816574\n",
      "Training until validation scores don't improve for 100 rounds\n",
      "Early stopping, best iteration is:\n",
      "[609]\tvalid_0's l1: 0.00798494\n",
      "Training until validation scores don't improve for 100 rounds\n",
      "Early stopping, best iteration is:\n",
      "[729]\tvalid_0's l1: 0.0078565\n",
      "Training until validation scores don't improve for 100 rounds\n"
     ]
    },
    {
     "name": "stderr",
     "output_type": "stream",
     "text": [
      "[I 2025-08-07 05:08:26,662] Trial 20 finished with value: 0.008106036040123086 and parameters: {'num_leaves': 507, 'learning_rate': 0.16711178129725307, 'feature_fraction': 0.7899969338274173, 'bagging_fraction': 0.6217343843424086, 'bagging_freq': 7, 'lambda_l1': 0.24784305528987055, 'lambda_l2': 5.170905769224043, 'min_data_in_leaf': 24, 'max_depth': 8, 'min_child_samples': 14}. Best is trial 20 with value: 0.008106036040123086.\n"
     ]
    },
    {
     "name": "stdout",
     "output_type": "stream",
     "text": [
      "Early stopping, best iteration is:\n",
      "[553]\tvalid_0's l1: 0.00810631\n",
      "Training until validation scores don't improve for 100 rounds\n",
      "Early stopping, best iteration is:\n",
      "[230]\tvalid_0's l1: 0.00817177\n",
      "Training until validation scores don't improve for 100 rounds\n",
      "Early stopping, best iteration is:\n",
      "[391]\tvalid_0's l1: 0.00782776\n",
      "Training until validation scores don't improve for 100 rounds\n",
      "Early stopping, best iteration is:\n",
      "[1729]\tvalid_0's l1: 0.00757019\n",
      "Training until validation scores don't improve for 100 rounds\n",
      "Early stopping, best iteration is:\n",
      "[227]\tvalid_0's l1: 0.00758183\n",
      "Training until validation scores don't improve for 100 rounds\n"
     ]
    },
    {
     "name": "stderr",
     "output_type": "stream",
     "text": [
      "[I 2025-08-07 05:08:43,032] Trial 21 finished with value: 0.007805203876708649 and parameters: {'num_leaves': 507, 'learning_rate': 0.14751416673070408, 'feature_fraction': 0.7916877557382616, 'bagging_fraction': 0.6173797264685558, 'bagging_freq': 7, 'lambda_l1': 0.06958047408093265, 'lambda_l2': 4.306419370052906, 'min_data_in_leaf': 26, 'max_depth': 8, 'min_child_samples': 13}. Best is trial 21 with value: 0.007805203876708649.\n"
     ]
    },
    {
     "name": "stdout",
     "output_type": "stream",
     "text": [
      "Early stopping, best iteration is:\n",
      "[323]\tvalid_0's l1: 0.00787448\n",
      "Training until validation scores don't improve for 100 rounds\n",
      "Early stopping, best iteration is:\n",
      "[220]\tvalid_0's l1: 0.0081934\n",
      "Training until validation scores don't improve for 100 rounds\n",
      "Early stopping, best iteration is:\n",
      "[384]\tvalid_0's l1: 0.00813799\n",
      "Training until validation scores don't improve for 100 rounds\n",
      "Early stopping, best iteration is:\n",
      "[1736]\tvalid_0's l1: 0.00764253\n",
      "Training until validation scores don't improve for 100 rounds\n",
      "Early stopping, best iteration is:\n",
      "[427]\tvalid_0's l1: 0.00786103\n",
      "Training until validation scores don't improve for 100 rounds\n"
     ]
    },
    {
     "name": "stderr",
     "output_type": "stream",
     "text": [
      "[I 2025-08-07 05:09:00,429] Trial 22 finished with value: 0.007946948343563652 and parameters: {'num_leaves': 467, 'learning_rate': 0.1646223779121849, 'feature_fraction': 0.7602408854651547, 'bagging_fraction': 0.6100803998768688, 'bagging_freq': 8, 'lambda_l1': 0.07389681769414119, 'lambda_l2': 5.437035413600734, 'min_data_in_leaf': 24, 'max_depth': 8, 'min_child_samples': 17}. Best is trial 21 with value: 0.007805203876708649.\n"
     ]
    },
    {
     "name": "stdout",
     "output_type": "stream",
     "text": [
      "Early stopping, best iteration is:\n",
      "[326]\tvalid_0's l1: 0.00789979\n",
      "Training until validation scores don't improve for 100 rounds\n",
      "Early stopping, best iteration is:\n",
      "[86]\tvalid_0's l1: 0.0115615\n",
      "Training until validation scores don't improve for 100 rounds\n",
      "Early stopping, best iteration is:\n",
      "[53]\tvalid_0's l1: 0.0111621\n",
      "Training until validation scores don't improve for 100 rounds\n",
      "Early stopping, best iteration is:\n",
      "[45]\tvalid_0's l1: 0.0108043\n",
      "Training until validation scores don't improve for 100 rounds\n",
      "Early stopping, best iteration is:\n",
      "[61]\tvalid_0's l1: 0.0110595\n"
     ]
    },
    {
     "name": "stderr",
     "output_type": "stream",
     "text": [
      "[I 2025-08-07 05:09:01,859] Trial 23 finished with value: 0.011213183316516944 and parameters: {'num_leaves': 464, 'learning_rate': 0.18938485830037288, 'feature_fraction': 0.7176705507227572, 'bagging_fraction': 0.6089572987650393, 'bagging_freq': 8, 'lambda_l1': 1.8273951777527502, 'lambda_l2': 5.339825904141686, 'min_data_in_leaf': 24, 'max_depth': 8, 'min_child_samples': 15}. Best is trial 21 with value: 0.007805203876708649.\n"
     ]
    },
    {
     "name": "stdout",
     "output_type": "stream",
     "text": [
      "Training until validation scores don't improve for 100 rounds\n",
      "Early stopping, best iteration is:\n",
      "[84]\tvalid_0's l1: 0.0114734\n",
      "Training until validation scores don't improve for 100 rounds\n",
      "Early stopping, best iteration is:\n",
      "[134]\tvalid_0's l1: 0.0109864\n",
      "Training until validation scores don't improve for 100 rounds\n",
      "Early stopping, best iteration is:\n",
      "[147]\tvalid_0's l1: 0.0103458\n",
      "Training until validation scores don't improve for 100 rounds\n",
      "Early stopping, best iteration is:\n",
      "[67]\tvalid_0's l1: 0.0102585\n",
      "Training until validation scores don't improve for 100 rounds\n",
      "Early stopping, best iteration is:\n",
      "[101]\tvalid_0's l1: 0.010527\n",
      "Training until validation scores don't improve for 100 rounds\n"
     ]
    },
    {
     "name": "stderr",
     "output_type": "stream",
     "text": [
      "[I 2025-08-07 05:09:03,747] Trial 24 finished with value: 0.010621465034166357 and parameters: {'num_leaves': 427, 'learning_rate': 0.12804212492562464, 'feature_fraction': 0.7660874738092133, 'bagging_fraction': 0.5461515923304862, 'bagging_freq': 8, 'lambda_l1': 1.371472287222949, 'lambda_l2': 4.527707724857409, 'min_data_in_leaf': 5, 'max_depth': 9, 'min_child_samples': 15}. Best is trial 21 with value: 0.007805203876708649.\n"
     ]
    },
    {
     "name": "stdout",
     "output_type": "stream",
     "text": [
      "Early stopping, best iteration is:\n",
      "[88]\tvalid_0's l1: 0.0109339\n",
      "Training until validation scores don't improve for 100 rounds\n",
      "Early stopping, best iteration is:\n",
      "[775]\tvalid_0's l1: 0.00797961\n",
      "Training until validation scores don't improve for 100 rounds\n",
      "Early stopping, best iteration is:\n",
      "[1134]\tvalid_0's l1: 0.00756904\n",
      "Training until validation scores don't improve for 100 rounds\n",
      "Early stopping, best iteration is:\n",
      "[329]\tvalid_0's l1: 0.00781225\n",
      "Training until validation scores don't improve for 100 rounds\n",
      "Early stopping, best iteration is:\n",
      "[979]\tvalid_0's l1: 0.00737605\n",
      "Training until validation scores don't improve for 100 rounds\n"
     ]
    },
    {
     "name": "stderr",
     "output_type": "stream",
     "text": [
      "[I 2025-08-07 05:09:22,337] Trial 25 finished with value: 0.007728953624271921 and parameters: {'num_leaves': 379, 'learning_rate': 0.12479827072903579, 'feature_fraction': 0.6616351024339301, 'bagging_fraction': 0.7098116306743614, 'bagging_freq': 7, 'lambda_l1': 0.13164020549463457, 'lambda_l2': 6.003360877017482, 'min_data_in_leaf': 23, 'max_depth': 8, 'min_child_samples': 31}. Best is trial 25 with value: 0.007728953624271921.\n"
     ]
    },
    {
     "name": "stdout",
     "output_type": "stream",
     "text": [
      "Early stopping, best iteration is:\n",
      "[446]\tvalid_0's l1: 0.00790781\n",
      "Training until validation scores don't improve for 100 rounds\n",
      "Early stopping, best iteration is:\n",
      "[104]\tvalid_0's l1: 0.0119717\n",
      "Training until validation scores don't improve for 100 rounds\n",
      "Early stopping, best iteration is:\n",
      "[143]\tvalid_0's l1: 0.0111353\n",
      "Training until validation scores don't improve for 100 rounds\n",
      "Early stopping, best iteration is:\n",
      "[111]\tvalid_0's l1: 0.010784\n",
      "Training until validation scores don't improve for 100 rounds\n",
      "Early stopping, best iteration is:\n",
      "[155]\tvalid_0's l1: 0.0111479\n",
      "Training until validation scores don't improve for 100 rounds\n"
     ]
    },
    {
     "name": "stderr",
     "output_type": "stream",
     "text": [
      "[I 2025-08-07 05:09:24,426] Trial 26 finished with value: 0.011357503596673271 and parameters: {'num_leaves': 371, 'learning_rate': 0.11405244955086713, 'feature_fraction': 0.6042293263965779, 'bagging_fraction': 0.730322497381113, 'bagging_freq': 6, 'lambda_l1': 2.318523751408032, 'lambda_l2': 6.0472685013506835, 'min_data_in_leaf': 17, 'max_depth': 7, 'min_child_samples': 30}. Best is trial 25 with value: 0.007728953624271921.\n"
     ]
    },
    {
     "name": "stdout",
     "output_type": "stream",
     "text": [
      "Early stopping, best iteration is:\n",
      "[109]\tvalid_0's l1: 0.0117476\n",
      "Training until validation scores don't improve for 100 rounds\n",
      "Early stopping, best iteration is:\n",
      "[165]\tvalid_0's l1: 0.0131443\n",
      "Training until validation scores don't improve for 100 rounds\n",
      "Early stopping, best iteration is:\n",
      "[294]\tvalid_0's l1: 0.0120319\n",
      "Training until validation scores don't improve for 100 rounds\n",
      "Early stopping, best iteration is:\n",
      "[119]\tvalid_0's l1: 0.0121572\n",
      "Training until validation scores don't improve for 100 rounds\n",
      "Early stopping, best iteration is:\n",
      "[74]\tvalid_0's l1: 0.012508\n",
      "Training until validation scores don't improve for 100 rounds\n"
     ]
    },
    {
     "name": "stderr",
     "output_type": "stream",
     "text": [
      "[I 2025-08-07 05:09:26,150] Trial 27 finished with value: 0.012559240277621958 and parameters: {'num_leaves': 404, 'learning_rate': 0.10875561819543471, 'feature_fraction': 0.6525406033693946, 'bagging_fraction': 0.7180512625349582, 'bagging_freq': 8, 'lambda_l1': 3.612513036183821, 'lambda_l2': 7.537256891214753, 'min_data_in_leaf': 32, 'max_depth': 9, 'min_child_samples': 21}. Best is trial 25 with value: 0.007728953624271921.\n"
     ]
    },
    {
     "name": "stdout",
     "output_type": "stream",
     "text": [
      "Early stopping, best iteration is:\n",
      "[87]\tvalid_0's l1: 0.012954\n",
      "Training until validation scores don't improve for 100 rounds\n",
      "Early stopping, best iteration is:\n",
      "[170]\tvalid_0's l1: 0.0107774\n",
      "Training until validation scores don't improve for 100 rounds\n",
      "Early stopping, best iteration is:\n",
      "[126]\tvalid_0's l1: 0.010168\n",
      "Training until validation scores don't improve for 100 rounds\n",
      "Early stopping, best iteration is:\n",
      "[132]\tvalid_0's l1: 0.00989144\n",
      "Training until validation scores don't improve for 100 rounds\n",
      "Early stopping, best iteration is:\n",
      "[146]\tvalid_0's l1: 0.0101187\n",
      "Training until validation scores don't improve for 100 rounds\n"
     ]
    },
    {
     "name": "stderr",
     "output_type": "stream",
     "text": [
      "[I 2025-08-07 05:09:28,467] Trial 28 finished with value: 0.010304244615798533 and parameters: {'num_leaves': 348, 'learning_rate': 0.14021183265663129, 'feature_fraction': 0.5574941350470699, 'bagging_fraction': 0.560486305695299, 'bagging_freq': 9, 'lambda_l1': 1.098749331069068, 'lambda_l2': 3.7878296367157667, 'min_data_in_leaf': 25, 'max_depth': 7, 'min_child_samples': 32}. Best is trial 25 with value: 0.007728953624271921.\n"
     ]
    },
    {
     "name": "stdout",
     "output_type": "stream",
     "text": [
      "Early stopping, best iteration is:\n",
      "[131]\tvalid_0's l1: 0.01056\n",
      "Training until validation scores don't improve for 100 rounds\n",
      "Early stopping, best iteration is:\n",
      "[126]\tvalid_0's l1: 0.0162363\n",
      "Training until validation scores don't improve for 100 rounds\n",
      "Early stopping, best iteration is:\n",
      "[179]\tvalid_0's l1: 0.0155189\n",
      "Training until validation scores don't improve for 100 rounds\n",
      "Early stopping, best iteration is:\n",
      "[379]\tvalid_0's l1: 0.0145854\n",
      "Training until validation scores don't improve for 100 rounds\n",
      "Early stopping, best iteration is:\n",
      "[218]\tvalid_0's l1: 0.0153289\n",
      "Training until validation scores don't improve for 100 rounds\n"
     ]
    },
    {
     "name": "stderr",
     "output_type": "stream",
     "text": [
      "[I 2025-08-07 05:09:30,327] Trial 29 finished with value: 0.015541533430683591 and parameters: {'num_leaves': 207, 'learning_rate': 0.05825785936421978, 'feature_fraction': 0.703692666991052, 'bagging_fraction': 0.59714905365929, 'bagging_freq': 6, 'lambda_l1': 7.040207067025175, 'lambda_l2': 8.541640213455196, 'min_data_in_leaf': 18, 'max_depth': 10, 'min_child_samples': 43}. Best is trial 25 with value: 0.007728953624271921.\n"
     ]
    },
    {
     "name": "stdout",
     "output_type": "stream",
     "text": [
      "Early stopping, best iteration is:\n",
      "[121]\tvalid_0's l1: 0.0160372\n",
      "🎯 Best params for FFV: {'num_leaves': 379, 'learning_rate': 0.12479827072903579, 'feature_fraction': 0.6616351024339301, 'bagging_fraction': 0.7098116306743614, 'bagging_freq': 7, 'lambda_l1': 0.13164020549463457, 'lambda_l2': 6.003360877017482, 'min_data_in_leaf': 23, 'max_depth': 8, 'min_child_samples': 31}\n",
      "Training until validation scores don't improve for 100 rounds\n",
      "Early stopping, best iteration is:\n",
      "[1211]\tvalid_0's l1: 0.00783328\n",
      "----Fold 1 MAE = 0.0078\n",
      "Training until validation scores don't improve for 100 rounds\n",
      "Early stopping, best iteration is:\n",
      "[759]\tvalid_0's l1: 0.00747181\n",
      "----Fold 2 MAE = 0.0075\n",
      "Training until validation scores don't improve for 100 rounds\n",
      "Early stopping, best iteration is:\n",
      "[756]\tvalid_0's l1: 0.00778737\n",
      "----Fold 3 MAE = 0.0078\n",
      "Training until validation scores don't improve for 100 rounds\n",
      "Early stopping, best iteration is:\n",
      "[1093]\tvalid_0's l1: 0.00767598\n",
      "----Fold 4 MAE = 0.0077\n",
      "Training until validation scores don't improve for 100 rounds\n",
      "Early stopping, best iteration is:\n",
      "[343]\tvalid_0's l1: 0.00770101\n",
      "----Fold 5 MAE = 0.0077\n",
      "Training until validation scores don't improve for 100 rounds\n",
      "Early stopping, best iteration is:\n",
      "[691]\tvalid_0's l1: 0.00746518\n",
      "----Fold 6 MAE = 0.0075\n",
      "Training until validation scores don't improve for 100 rounds\n",
      "Early stopping, best iteration is:\n",
      "[1040]\tvalid_0's l1: 0.00740861\n",
      "----Fold 7 MAE = 0.0074\n",
      "===CV MAE: 0.0076 ± 0.000===\n",
      "==================================================\n",
      "\n",
      "\n",
      "==================================================\n",
      "Training Tc...\n",
      "🔍 Running feature selection pipeline...\n",
      "  VarianceThreshold: 386 features retained\n"
     ]
    },
    {
     "name": "stderr",
     "output_type": "stream",
     "text": [
      "[I 2025-08-07 05:10:00,626] A new study created in memory with name: no-name-49fe983d-948c-4dca-be05-2471f15d88da\n"
     ]
    },
    {
     "name": "stdout",
     "output_type": "stream",
     "text": [
      "  MutualInfo: 200 features selected\n",
      "Selected 200 features for Tc\n",
      "📊 Training Tc on 737 samples\n",
      "📈 Target range: 0.0465 to 0.5240\n",
      "Training until validation scores don't improve for 100 rounds\n",
      "Early stopping, best iteration is:\n",
      "[670]\tvalid_0's l1: 0.0413446\n",
      "Training until validation scores don't improve for 100 rounds\n",
      "Early stopping, best iteration is:\n",
      "[201]\tvalid_0's l1: 0.0384735\n",
      "Training until validation scores don't improve for 100 rounds\n",
      "Early stopping, best iteration is:\n",
      "[286]\tvalid_0's l1: 0.0400065\n",
      "Training until validation scores don't improve for 100 rounds\n",
      "Early stopping, best iteration is:\n",
      "[150]\tvalid_0's l1: 0.0361144\n",
      "Training until validation scores don't improve for 100 rounds\n",
      "Early stopping, best iteration is:\n",
      "[297]\tvalid_0's l1: 0.0414337\n"
     ]
    },
    {
     "name": "stderr",
     "output_type": "stream",
     "text": [
      "[I 2025-08-07 05:10:01,308] Trial 0 finished with value: 0.03948612921936392 and parameters: {'num_leaves': 257, 'learning_rate': 0.10611423873241442, 'feature_fraction': 0.9315162979053324, 'bagging_fraction': 0.6510481228841242, 'bagging_freq': 10, 'lambda_l1': 3.252980328717039, 'lambda_l2': 7.566271160423326, 'min_data_in_leaf': 38, 'max_depth': 7, 'min_child_samples': 46}. Best is trial 0 with value: 0.03948612921936392.\n"
     ]
    },
    {
     "name": "stdout",
     "output_type": "stream",
     "text": [
      "Training until validation scores don't improve for 100 rounds\n",
      "Did not meet early stopping. Best iteration is:\n",
      "[2000]\tvalid_0's l1: 0.0391917\n",
      "Training until validation scores don't improve for 100 rounds\n",
      "Early stopping, best iteration is:\n",
      "[1682]\tvalid_0's l1: 0.0339359\n",
      "Training until validation scores don't improve for 100 rounds\n",
      "Early stopping, best iteration is:\n",
      "[841]\tvalid_0's l1: 0.0380523\n",
      "Training until validation scores don't improve for 100 rounds\n",
      "Early stopping, best iteration is:\n",
      "[839]\tvalid_0's l1: 0.0295972\n",
      "Training until validation scores don't improve for 100 rounds\n"
     ]
    },
    {
     "name": "stderr",
     "output_type": "stream",
     "text": [
      "[I 2025-08-07 05:10:02,962] Trial 1 finished with value: 0.03564002412895564 and parameters: {'num_leaves': 93, 'learning_rate': 0.048135257468090865, 'feature_fraction': 0.7981522087769728, 'bagging_fraction': 0.8468324824799955, 'bagging_freq': 1, 'lambda_l1': 2.3961832600704334, 'lambda_l2': 9.667809447882036, 'min_data_in_leaf': 60, 'max_depth': 7, 'min_child_samples': 62}. Best is trial 1 with value: 0.03564002412895564.\n"
     ]
    },
    {
     "name": "stdout",
     "output_type": "stream",
     "text": [
      "Early stopping, best iteration is:\n",
      "[1803]\tvalid_0's l1: 0.0374038\n",
      "Training until validation scores don't improve for 100 rounds\n",
      "Early stopping, best iteration is:\n",
      "[412]\tvalid_0's l1: 0.0684304\n",
      "Training until validation scores don't improve for 100 rounds\n",
      "Early stopping, best iteration is:\n",
      "[462]\tvalid_0's l1: 0.0655797\n",
      "Training until validation scores don't improve for 100 rounds\n",
      "Early stopping, best iteration is:\n",
      "[668]\tvalid_0's l1: 0.0647401\n",
      "Training until validation scores don't improve for 100 rounds\n",
      "Early stopping, best iteration is:\n",
      "[587]\tvalid_0's l1: 0.0616199\n"
     ]
    },
    {
     "name": "stderr",
     "output_type": "stream",
     "text": [
      "[I 2025-08-07 05:10:03,865] Trial 2 finished with value: 0.06515835359336163 and parameters: {'num_leaves': 190, 'learning_rate': 0.08401661914590992, 'feature_fraction': 0.7073634746426035, 'bagging_fraction': 0.5153061895207093, 'bagging_freq': 5, 'lambda_l1': 9.509010948429188, 'lambda_l2': 3.72938952268942, 'min_data_in_leaf': 52, 'max_depth': 8, 'min_child_samples': 42}. Best is trial 1 with value: 0.03564002412895564.\n"
     ]
    },
    {
     "name": "stdout",
     "output_type": "stream",
     "text": [
      "Training until validation scores don't improve for 100 rounds\n",
      "Early stopping, best iteration is:\n",
      "[415]\tvalid_0's l1: 0.0654217\n",
      "Training until validation scores don't improve for 100 rounds\n",
      "Early stopping, best iteration is:\n",
      "[994]\tvalid_0's l1: 0.0424978\n",
      "Training until validation scores don't improve for 100 rounds\n",
      "Early stopping, best iteration is:\n",
      "[158]\tvalid_0's l1: 0.0386707\n",
      "Training until validation scores don't improve for 100 rounds\n",
      "Early stopping, best iteration is:\n",
      "[473]\tvalid_0's l1: 0.0411474\n",
      "Training until validation scores don't improve for 100 rounds\n"
     ]
    },
    {
     "name": "stderr",
     "output_type": "stream",
     "text": [
      "[I 2025-08-07 05:10:04,898] Trial 3 finished with value: 0.039441316627460296 and parameters: {'num_leaves': 159, 'learning_rate': 0.06971506023128683, 'feature_fraction': 0.7309303557251832, 'bagging_fraction': 0.8978082902692239, 'bagging_freq': 6, 'lambda_l1': 4.025060722584643, 'lambda_l2': 8.779364048779373, 'min_data_in_leaf': 64, 'max_depth': 8, 'min_child_samples': 70}. Best is trial 1 with value: 0.03564002412895564.\n"
     ]
    },
    {
     "name": "stdout",
     "output_type": "stream",
     "text": [
      "Early stopping, best iteration is:\n",
      "[973]\tvalid_0's l1: 0.0329754\n",
      "Training until validation scores don't improve for 100 rounds\n",
      "Early stopping, best iteration is:\n",
      "[238]\tvalid_0's l1: 0.0419126\n",
      "Training until validation scores don't improve for 100 rounds\n",
      "Early stopping, best iteration is:\n",
      "[394]\tvalid_0's l1: 0.0491516\n",
      "Training until validation scores don't improve for 100 rounds\n",
      "Early stopping, best iteration is:\n",
      "[674]\tvalid_0's l1: 0.0454179\n",
      "Training until validation scores don't improve for 100 rounds\n",
      "Early stopping, best iteration is:\n",
      "[171]\tvalid_0's l1: 0.0483003\n",
      "Training until validation scores don't improve for 100 rounds\n",
      "Early stopping, best iteration is:\n",
      "[517]\tvalid_0's l1: 0.0411812\n",
      "Training until validation scores don't improve for 100 rounds\n"
     ]
    },
    {
     "name": "stderr",
     "output_type": "stream",
     "text": [
      "[I 2025-08-07 05:10:05,860] Trial 4 finished with value: 0.04647177432148281 and parameters: {'num_leaves': 314, 'learning_rate': 0.15296922904083948, 'feature_fraction': 0.7216900578288905, 'bagging_fraction': 0.7980324450364256, 'bagging_freq': 6, 'lambda_l1': 6.710321407287502, 'lambda_l2': 5.806898385093396, 'min_data_in_leaf': 52, 'max_depth': 6, 'min_child_samples': 7}. Best is trial 1 with value: 0.03564002412895564.\n"
     ]
    },
    {
     "name": "stdout",
     "output_type": "stream",
     "text": [
      "Early stopping, best iteration is:\n",
      "[547]\tvalid_0's l1: 0.0483079\n",
      "Training until validation scores don't improve for 100 rounds\n",
      "Early stopping, best iteration is:\n",
      "[564]\tvalid_0's l1: 0.0528803\n",
      "Training until validation scores don't improve for 100 rounds\n",
      "Early stopping, best iteration is:\n",
      "[1096]\tvalid_0's l1: 0.0494827\n",
      "Training until validation scores don't improve for 100 rounds\n",
      "Early stopping, best iteration is:\n",
      "[1043]\tvalid_0's l1: 0.0509746\n",
      "Training until validation scores don't improve for 100 rounds\n",
      "Early stopping, best iteration is:\n",
      "[1014]\tvalid_0's l1: 0.0450488\n",
      "Training until validation scores don't improve for 100 rounds\n"
     ]
    },
    {
     "name": "stderr",
     "output_type": "stream",
     "text": [
      "[I 2025-08-07 05:10:08,353] Trial 5 finished with value: 0.04991268415128804 and parameters: {'num_leaves': 307, 'learning_rate': 0.05814307730153672, 'feature_fraction': 0.5199300481338306, 'bagging_fraction': 0.9608470324800806, 'bagging_freq': 2, 'lambda_l1': 9.143678903971612, 'lambda_l2': 9.246199713282744, 'min_data_in_leaf': 30, 'max_depth': 4, 'min_child_samples': 9}. Best is trial 1 with value: 0.03564002412895564.\n"
     ]
    },
    {
     "name": "stdout",
     "output_type": "stream",
     "text": [
      "Early stopping, best iteration is:\n",
      "[918]\tvalid_0's l1: 0.0511771\n",
      "Training until validation scores don't improve for 100 rounds\n",
      "Did not meet early stopping. Best iteration is:\n",
      "[1994]\tvalid_0's l1: 0.0630447\n",
      "Training until validation scores don't improve for 100 rounds\n",
      "Did not meet early stopping. Best iteration is:\n",
      "[1993]\tvalid_0's l1: 0.0607\n",
      "Training until validation scores don't improve for 100 rounds\n",
      "Did not meet early stopping. Best iteration is:\n",
      "[2000]\tvalid_0's l1: 0.0602529\n",
      "Training until validation scores don't improve for 100 rounds\n",
      "Did not meet early stopping. Best iteration is:\n",
      "[2000]\tvalid_0's l1: 0.0569905\n",
      "Training until validation scores don't improve for 100 rounds\n"
     ]
    },
    {
     "name": "stderr",
     "output_type": "stream",
     "text": [
      "[I 2025-08-07 05:10:10,655] Trial 6 finished with value: 0.06041960891286206 and parameters: {'num_leaves': 175, 'learning_rate': 0.005286548378989674, 'feature_fraction': 0.9686486943206091, 'bagging_fraction': 0.5024696819244256, 'bagging_freq': 5, 'lambda_l1': 7.707957757859805, 'lambda_l2': 2.9118997336093133, 'min_data_in_leaf': 84, 'max_depth': 14, 'min_child_samples': 11}. Best is trial 1 with value: 0.03564002412895564.\n"
     ]
    },
    {
     "name": "stdout",
     "output_type": "stream",
     "text": [
      "Did not meet early stopping. Best iteration is:\n",
      "[2000]\tvalid_0's l1: 0.06111\n",
      "Training until validation scores don't improve for 100 rounds\n",
      "Early stopping, best iteration is:\n",
      "[62]\tvalid_0's l1: 0.042163\n",
      "Training until validation scores don't improve for 100 rounds\n",
      "Early stopping, best iteration is:\n",
      "[95]\tvalid_0's l1: 0.0394338\n",
      "Training until validation scores don't improve for 100 rounds\n"
     ]
    },
    {
     "name": "stderr",
     "output_type": "stream",
     "text": [
      "[I 2025-08-07 05:10:11,006] Trial 7 finished with value: 0.039822343573000615 and parameters: {'num_leaves': 374, 'learning_rate': 0.18645194433650905, 'feature_fraction': 0.8309432488626788, 'bagging_fraction': 0.8851708851530753, 'bagging_freq': 7, 'lambda_l1': 3.979890583056446, 'lambda_l2': 9.96357989092213, 'min_data_in_leaf': 12, 'max_depth': 3, 'min_child_samples': 32}. Best is trial 1 with value: 0.03564002412895564.\n"
     ]
    },
    {
     "name": "stdout",
     "output_type": "stream",
     "text": [
      "Early stopping, best iteration is:\n",
      "[59]\tvalid_0's l1: 0.0420443\n",
      "Training until validation scores don't improve for 100 rounds\n",
      "Early stopping, best iteration is:\n",
      "[71]\tvalid_0's l1: 0.0337691\n",
      "Training until validation scores don't improve for 100 rounds\n",
      "Early stopping, best iteration is:\n",
      "[35]\tvalid_0's l1: 0.0417015\n",
      "Training until validation scores don't improve for 100 rounds\n",
      "Did not meet early stopping. Best iteration is:\n",
      "[1995]\tvalid_0's l1: 0.029947\n",
      "Training until validation scores don't improve for 100 rounds\n",
      "Early stopping, best iteration is:\n",
      "[1760]\tvalid_0's l1: 0.0297727\n",
      "Training until validation scores don't improve for 100 rounds\n",
      "Did not meet early stopping. Best iteration is:\n",
      "[2000]\tvalid_0's l1: 0.0329106\n",
      "Training until validation scores don't improve for 100 rounds\n",
      "Early stopping, best iteration is:\n",
      "[1440]\tvalid_0's l1: 0.0263274\n",
      "Training until validation scores don't improve for 100 rounds\n"
     ]
    },
    {
     "name": "stderr",
     "output_type": "stream",
     "text": [
      "[I 2025-08-07 05:10:16,694] Trial 8 finished with value: 0.030313556841673008 and parameters: {'num_leaves': 150, 'learning_rate': 0.006177178135475973, 'feature_fraction': 0.7395288823023628, 'bagging_fraction': 0.9043830244836173, 'bagging_freq': 8, 'lambda_l1': 0.24752994229329084, 'lambda_l2': 7.330483961650433, 'min_data_in_leaf': 62, 'max_depth': 6, 'min_child_samples': 23}. Best is trial 8 with value: 0.030313556841673008.\n"
     ]
    },
    {
     "name": "stdout",
     "output_type": "stream",
     "text": [
      "Did not meet early stopping. Best iteration is:\n",
      "[1976]\tvalid_0's l1: 0.0326102\n",
      "Training until validation scores don't improve for 100 rounds\n",
      "Early stopping, best iteration is:\n",
      "[755]\tvalid_0's l1: 0.0306909\n",
      "Training until validation scores don't improve for 100 rounds\n",
      "Early stopping, best iteration is:\n",
      "[239]\tvalid_0's l1: 0.0329054\n",
      "Training until validation scores don't improve for 100 rounds\n",
      "Early stopping, best iteration is:\n",
      "[1348]\tvalid_0's l1: 0.0329884\n",
      "Training until validation scores don't improve for 100 rounds\n",
      "Early stopping, best iteration is:\n",
      "[435]\tvalid_0's l1: 0.0277903\n",
      "Training until validation scores don't improve for 100 rounds\n",
      "Early stopping, best iteration is:\n",
      "[581]\tvalid_0's l1: 0.0323058\n"
     ]
    },
    {
     "name": "stderr",
     "output_type": "stream",
     "text": [
      "[I 2025-08-07 05:10:17,927] Trial 9 finished with value: 0.03133613601679712 and parameters: {'num_leaves': 98, 'learning_rate': 0.05775793417126191, 'feature_fraction': 0.8995232427310345, 'bagging_fraction': 0.6018090570380579, 'bagging_freq': 1, 'lambda_l1': 0.2789524848877456, 'lambda_l2': 9.34496586556978, 'min_data_in_leaf': 89, 'max_depth': 9, 'min_child_samples': 69}. Best is trial 8 with value: 0.030313556841673008.\n"
     ]
    },
    {
     "name": "stdout",
     "output_type": "stream",
     "text": [
      "Training until validation scores don't improve for 100 rounds\n",
      "Early stopping, best iteration is:\n",
      "[1572]\tvalid_0's l1: 0.0366698\n",
      "Training until validation scores don't improve for 100 rounds\n",
      "Early stopping, best iteration is:\n",
      "[1308]\tvalid_0's l1: 0.0336245\n",
      "Training until validation scores don't improve for 100 rounds\n",
      "Early stopping, best iteration is:\n",
      "[1854]\tvalid_0's l1: 0.0361393\n",
      "Training until validation scores don't improve for 100 rounds\n",
      "Early stopping, best iteration is:\n",
      "[1080]\tvalid_0's l1: 0.029237\n",
      "Training until validation scores don't improve for 100 rounds\n"
     ]
    },
    {
     "name": "stderr",
     "output_type": "stream",
     "text": [
      "[I 2025-08-07 05:10:20,726] Trial 10 finished with value: 0.03436989554039514 and parameters: {'num_leaves': 446, 'learning_rate': 0.007442083517822125, 'feature_fraction': 0.6131761003610819, 'bagging_fraction': 0.9899492806022302, 'bagging_freq': 10, 'lambda_l1': 1.2873613087255995, 'lambda_l2': 0.7820796374636982, 'min_data_in_leaf': 100, 'max_depth': 12, 'min_child_samples': 90}. Best is trial 8 with value: 0.030313556841673008.\n"
     ]
    },
    {
     "name": "stdout",
     "output_type": "stream",
     "text": [
      "Early stopping, best iteration is:\n",
      "[1373]\tvalid_0's l1: 0.0361673\n",
      "Training until validation scores don't improve for 100 rounds\n",
      "Early stopping, best iteration is:\n",
      "[1168]\tvalid_0's l1: 0.0302628\n",
      "Training until validation scores don't improve for 100 rounds\n",
      "Early stopping, best iteration is:\n",
      "[656]\tvalid_0's l1: 0.0324938\n",
      "Training until validation scores don't improve for 100 rounds\n",
      "Early stopping, best iteration is:\n",
      "[1457]\tvalid_0's l1: 0.0320581\n",
      "Training until validation scores don't improve for 100 rounds\n",
      "Early stopping, best iteration is:\n",
      "[584]\tvalid_0's l1: 0.0267916\n",
      "Training until validation scores don't improve for 100 rounds\n"
     ]
    },
    {
     "name": "stderr",
     "output_type": "stream",
     "text": [
      "[I 2025-08-07 05:10:24,471] Trial 11 finished with value: 0.030848296485434155 and parameters: {'num_leaves': 49, 'learning_rate': 0.019543711335915797, 'feature_fraction': 0.8589547038457148, 'bagging_fraction': 0.6834833077634277, 'bagging_freq': 8, 'lambda_l1': 0.03171827816225892, 'lambda_l2': 6.703393604022609, 'min_data_in_leaf': 80, 'max_depth': 11, 'min_child_samples': 81}. Best is trial 8 with value: 0.030313556841673008.\n"
     ]
    },
    {
     "name": "stdout",
     "output_type": "stream",
     "text": [
      "Early stopping, best iteration is:\n",
      "[846]\tvalid_0's l1: 0.0326352\n",
      "Training until validation scores don't improve for 100 rounds\n",
      "Early stopping, best iteration is:\n",
      "[1751]\tvalid_0's l1: 0.030226\n",
      "Training until validation scores don't improve for 100 rounds\n",
      "Early stopping, best iteration is:\n",
      "[582]\tvalid_0's l1: 0.0324217\n",
      "Training until validation scores don't improve for 100 rounds\n",
      "Early stopping, best iteration is:\n",
      "[1209]\tvalid_0's l1: 0.032577\n",
      "Training until validation scores don't improve for 100 rounds\n",
      "Early stopping, best iteration is:\n",
      "[584]\tvalid_0's l1: 0.0269759\n",
      "Training until validation scores don't improve for 100 rounds\n"
     ]
    },
    {
     "name": "stderr",
     "output_type": "stream",
     "text": [
      "[I 2025-08-07 05:10:26,861] Trial 12 finished with value: 0.031144959769051787 and parameters: {'num_leaves': 32, 'learning_rate': 0.016825122629129777, 'feature_fraction': 0.8342487616780203, 'bagging_fraction': 0.7232118535808446, 'bagging_freq': 8, 'lambda_l1': 0.283021653028906, 'lambda_l2': 6.7017614651968795, 'min_data_in_leaf': 75, 'max_depth': 11, 'min_child_samples': 100}. Best is trial 8 with value: 0.030313556841673008.\n"
     ]
    },
    {
     "name": "stdout",
     "output_type": "stream",
     "text": [
      "Early stopping, best iteration is:\n",
      "[696]\tvalid_0's l1: 0.0335242\n",
      "Training until validation scores don't improve for 100 rounds\n",
      "Did not meet early stopping. Best iteration is:\n",
      "[1966]\tvalid_0's l1: 0.0378714\n",
      "Training until validation scores don't improve for 100 rounds\n",
      "Early stopping, best iteration is:\n",
      "[912]\tvalid_0's l1: 0.0347\n",
      "Training until validation scores don't improve for 100 rounds\n",
      "Early stopping, best iteration is:\n",
      "[554]\tvalid_0's l1: 0.0374204\n",
      "Training until validation scores don't improve for 100 rounds\n",
      "Early stopping, best iteration is:\n",
      "[1118]\tvalid_0's l1: 0.0294884\n",
      "Training until validation scores don't improve for 100 rounds\n"
     ]
    },
    {
     "name": "stderr",
     "output_type": "stream",
     "text": [
      "[I 2025-08-07 05:10:28,570] Trial 13 finished with value: 0.035410286802377414 and parameters: {'num_leaves': 63, 'learning_rate': 0.01861439178129468, 'feature_fraction': 0.6395834857272062, 'bagging_fraction': 0.7272150282838347, 'bagging_freq': 8, 'lambda_l1': 1.7702209397279187, 'lambda_l2': 4.593308145733065, 'min_data_in_leaf': 75, 'max_depth': 11, 'min_child_samples': 26}. Best is trial 8 with value: 0.030313556841673008.\n"
     ]
    },
    {
     "name": "stdout",
     "output_type": "stream",
     "text": [
      "Early stopping, best iteration is:\n",
      "[795]\tvalid_0's l1: 0.0374144\n",
      "Training until validation scores don't improve for 100 rounds\n",
      "Did not meet early stopping. Best iteration is:\n",
      "[1987]\tvalid_0's l1: 0.0505695\n",
      "Training until validation scores don't improve for 100 rounds\n",
      "Did not meet early stopping. Best iteration is:\n",
      "[1996]\tvalid_0's l1: 0.0473398\n",
      "Training until validation scores don't improve for 100 rounds\n",
      "Did not meet early stopping. Best iteration is:\n",
      "[2000]\tvalid_0's l1: 0.0484101\n",
      "Training until validation scores don't improve for 100 rounds\n",
      "Did not meet early stopping. Best iteration is:\n",
      "[2000]\tvalid_0's l1: 0.0431842\n",
      "Training until validation scores don't improve for 100 rounds\n"
     ]
    },
    {
     "name": "stderr",
     "output_type": "stream",
     "text": [
      "[I 2025-08-07 05:10:31,165] Trial 14 finished with value: 0.04779162784717139 and parameters: {'num_leaves': 148, 'learning_rate': 0.011581483612816645, 'feature_fraction': 0.8814319053275477, 'bagging_fraction': 0.6632183840850099, 'bagging_freq': 9, 'lambda_l1': 6.205381640793877, 'lambda_l2': 7.352931003733289, 'min_data_in_leaf': 73, 'max_depth': 15, 'min_child_samples': 78}. Best is trial 8 with value: 0.030313556841673008.\n"
     ]
    },
    {
     "name": "stdout",
     "output_type": "stream",
     "text": [
      "Did not meet early stopping. Best iteration is:\n",
      "[2000]\tvalid_0's l1: 0.0494545\n",
      "Training until validation scores don't improve for 100 rounds\n",
      "Early stopping, best iteration is:\n",
      "[500]\tvalid_0's l1: 0.0285745\n",
      "Training until validation scores don't improve for 100 rounds\n",
      "Early stopping, best iteration is:\n",
      "[604]\tvalid_0's l1: 0.0289438\n",
      "Training until validation scores don't improve for 100 rounds\n",
      "Early stopping, best iteration is:\n",
      "[699]\tvalid_0's l1: 0.0297836\n",
      "Training until validation scores don't improve for 100 rounds\n",
      "Early stopping, best iteration is:\n",
      "[425]\tvalid_0's l1: 0.0261557\n",
      "Training until validation scores don't improve for 100 rounds\n"
     ]
    },
    {
     "name": "stderr",
     "output_type": "stream",
     "text": [
      "[I 2025-08-07 05:10:33,972] Trial 15 finished with value: 0.028973774895114685 and parameters: {'num_leaves': 235, 'learning_rate': 0.0295010241436183, 'feature_fraction': 0.7805337154255251, 'bagging_fraction': 0.7898851916937599, 'bagging_freq': 4, 'lambda_l1': 0.062046288557034465, 'lambda_l2': 5.937348435438297, 'min_data_in_leaf': 38, 'max_depth': 5, 'min_child_samples': 26}. Best is trial 15 with value: 0.028973774895114685.\n"
     ]
    },
    {
     "name": "stdout",
     "output_type": "stream",
     "text": [
      "Early stopping, best iteration is:\n",
      "[720]\tvalid_0's l1: 0.0314113\n",
      "Training until validation scores don't improve for 100 rounds\n",
      "Did not meet early stopping. Best iteration is:\n",
      "[1974]\tvalid_0's l1: 0.0393358\n",
      "Training until validation scores don't improve for 100 rounds\n",
      "Early stopping, best iteration is:\n",
      "[482]\tvalid_0's l1: 0.0358213\n",
      "Training until validation scores don't improve for 100 rounds\n",
      "Early stopping, best iteration is:\n",
      "[667]\tvalid_0's l1: 0.0387433\n",
      "Training until validation scores don't improve for 100 rounds\n",
      "Early stopping, best iteration is:\n",
      "[420]\tvalid_0's l1: 0.0308848\n",
      "Training until validation scores don't improve for 100 rounds\n"
     ]
    },
    {
     "name": "stderr",
     "output_type": "stream",
     "text": [
      "[I 2025-08-07 05:10:36,136] Trial 16 finished with value: 0.03652389668018175 and parameters: {'num_leaves': 238, 'learning_rate': 0.026418215023316618, 'feature_fraction': 0.6644212265552948, 'bagging_fraction': 0.805831721174886, 'bagging_freq': 3, 'lambda_l1': 2.6541553387328447, 'lambda_l2': 5.655014189185431, 'min_data_in_leaf': 37, 'max_depth': 5, 'min_child_samples': 26}. Best is trial 15 with value: 0.028973774895114685.\n"
     ]
    },
    {
     "name": "stdout",
     "output_type": "stream",
     "text": [
      "Early stopping, best iteration is:\n",
      "[1558]\tvalid_0's l1: 0.037829\n",
      "Training until validation scores don't improve for 100 rounds\n",
      "Early stopping, best iteration is:\n",
      "[233]\tvalid_0's l1: 0.0358119\n",
      "Training until validation scores don't improve for 100 rounds\n",
      "Early stopping, best iteration is:\n",
      "[278]\tvalid_0's l1: 0.032933\n",
      "Training until validation scores don't improve for 100 rounds\n",
      "Early stopping, best iteration is:\n",
      "[163]\tvalid_0's l1: 0.0374526\n",
      "Training until validation scores don't improve for 100 rounds\n",
      "Early stopping, best iteration is:\n",
      "[204]\tvalid_0's l1: 0.0286286\n",
      "Training until validation scores don't improve for 100 rounds\n"
     ]
    },
    {
     "name": "stderr",
     "output_type": "stream",
     "text": [
      "[I 2025-08-07 05:10:37,431] Trial 17 finished with value: 0.03417628108615025 and parameters: {'num_leaves': 490, 'learning_rate': 0.03393872219305596, 'feature_fraction': 0.7825857880385966, 'bagging_fraction': 0.927106916690805, 'bagging_freq': 4, 'lambda_l1': 1.4421619628744293, 'lambda_l2': 2.1532513040578234, 'min_data_in_leaf': 14, 'max_depth': 5, 'min_child_samples': 34}. Best is trial 15 with value: 0.028973774895114685.\n"
     ]
    },
    {
     "name": "stdout",
     "output_type": "stream",
     "text": [
      "Early stopping, best iteration is:\n",
      "[757]\tvalid_0's l1: 0.0360526\n",
      "Training until validation scores don't improve for 100 rounds\n",
      "Did not meet early stopping. Best iteration is:\n",
      "[1969]\tvalid_0's l1: 0.0464114\n",
      "Training until validation scores don't improve for 100 rounds\n",
      "Did not meet early stopping. Best iteration is:\n",
      "[1994]\tvalid_0's l1: 0.0417461\n",
      "Training until validation scores don't improve for 100 rounds\n",
      "Did not meet early stopping. Best iteration is:\n",
      "[2000]\tvalid_0's l1: 0.044959\n",
      "Training until validation scores don't improve for 100 rounds\n",
      "Did not meet early stopping. Best iteration is:\n",
      "[1997]\tvalid_0's l1: 0.0380252\n",
      "Training until validation scores don't improve for 100 rounds\n"
     ]
    },
    {
     "name": "stderr",
     "output_type": "stream",
     "text": [
      "[I 2025-08-07 05:10:41,909] Trial 18 finished with value: 0.04320873166207427 and parameters: {'num_leaves': 220, 'learning_rate': 0.009791391218659361, 'feature_fraction': 0.5346645398527776, 'bagging_fraction': 0.7972038771397884, 'bagging_freq': 4, 'lambda_l1': 5.2370556702772, 'lambda_l2': 8.110596717702544, 'min_data_in_leaf': 26, 'max_depth': 3, 'min_child_samples': 19}. Best is trial 15 with value: 0.028973774895114685.\n"
     ]
    },
    {
     "name": "stdout",
     "output_type": "stream",
     "text": [
      "Did not meet early stopping. Best iteration is:\n",
      "[1989]\tvalid_0's l1: 0.044902\n",
      "Training until validation scores don't improve for 100 rounds\n",
      "Did not meet early stopping. Best iteration is:\n",
      "[2000]\tvalid_0's l1: 0.0358266\n",
      "Training until validation scores don't improve for 100 rounds\n",
      "Did not meet early stopping. Best iteration is:\n",
      "[2000]\tvalid_0's l1: 0.0325944\n",
      "Training until validation scores don't improve for 100 rounds\n",
      "Did not meet early stopping. Best iteration is:\n",
      "[1975]\tvalid_0's l1: 0.0366462\n",
      "Training until validation scores don't improve for 100 rounds\n",
      "Did not meet early stopping. Best iteration is:\n",
      "[2000]\tvalid_0's l1: 0.0279732\n",
      "Training until validation scores don't improve for 100 rounds\n"
     ]
    },
    {
     "name": "stderr",
     "output_type": "stream",
     "text": [
      "[I 2025-08-07 05:10:45,950] Trial 19 finished with value: 0.033717467691761024 and parameters: {'num_leaves': 340, 'learning_rate': 0.005737070517735605, 'feature_fraction': 0.7727428173059675, 'bagging_fraction': 0.8512447374597886, 'bagging_freq': 7, 'lambda_l1': 1.2614582162655692, 'lambda_l2': 4.752863378687367, 'min_data_in_leaf': 61, 'max_depth': 5, 'min_child_samples': 46}. Best is trial 15 with value: 0.028973774895114685.\n"
     ]
    },
    {
     "name": "stdout",
     "output_type": "stream",
     "text": [
      "Did not meet early stopping. Best iteration is:\n",
      "[2000]\tvalid_0's l1: 0.0355447\n",
      "Training until validation scores don't improve for 100 rounds\n",
      "Did not meet early stopping. Best iteration is:\n",
      "[1999]\tvalid_0's l1: 0.0454975\n",
      "Training until validation scores don't improve for 100 rounds\n",
      "Did not meet early stopping. Best iteration is:\n",
      "[1985]\tvalid_0's l1: 0.0414377\n",
      "Training until validation scores don't improve for 100 rounds\n",
      "Did not meet early stopping. Best iteration is:\n",
      "[2000]\tvalid_0's l1: 0.0435591\n",
      "Training until validation scores don't improve for 100 rounds\n",
      "Did not meet early stopping. Best iteration is:\n",
      "[1994]\tvalid_0's l1: 0.0365661\n",
      "Training until validation scores don't improve for 100 rounds\n"
     ]
    },
    {
     "name": "stderr",
     "output_type": "stream",
     "text": [
      "[I 2025-08-07 05:10:49,727] Trial 20 finished with value: 0.04223694597508389 and parameters: {'num_leaves': 110, 'learning_rate': 0.012033634828849872, 'feature_fraction': 0.5765654144822216, 'bagging_fraction': 0.7646006251426518, 'bagging_freq': 3, 'lambda_l1': 4.653932319289938, 'lambda_l2': 6.090600374301321, 'min_data_in_leaf': 45, 'max_depth': 9, 'min_child_samples': 55}. Best is trial 15 with value: 0.028973774895114685.\n"
     ]
    },
    {
     "name": "stdout",
     "output_type": "stream",
     "text": [
      "Did not meet early stopping. Best iteration is:\n",
      "[1998]\tvalid_0's l1: 0.0441242\n",
      "Training until validation scores don't improve for 100 rounds\n",
      "Early stopping, best iteration is:\n",
      "[1344]\tvalid_0's l1: 0.0302561\n",
      "Training until validation scores don't improve for 100 rounds\n",
      "Early stopping, best iteration is:\n",
      "[290]\tvalid_0's l1: 0.0322817\n",
      "Training until validation scores don't improve for 100 rounds\n",
      "Early stopping, best iteration is:\n",
      "[1117]\tvalid_0's l1: 0.0331319\n",
      "Training until validation scores don't improve for 100 rounds\n",
      "Early stopping, best iteration is:\n",
      "[648]\tvalid_0's l1: 0.0275118\n",
      "Training until validation scores don't improve for 100 rounds\n"
     ]
    },
    {
     "name": "stderr",
     "output_type": "stream",
     "text": [
      "[I 2025-08-07 05:10:51,458] Trial 21 finished with value: 0.031173603171785035 and parameters: {'num_leaves': 128, 'learning_rate': 0.028727532210233213, 'feature_fraction': 0.84327466946696, 'bagging_fraction': 0.662015529659929, 'bagging_freq': 8, 'lambda_l1': 0.2650543516970091, 'lambda_l2': 6.922232361997374, 'min_data_in_leaf': 89, 'max_depth': 10, 'min_child_samples': 80}. Best is trial 15 with value: 0.028973774895114685.\n"
     ]
    },
    {
     "name": "stdout",
     "output_type": "stream",
     "text": [
      "Early stopping, best iteration is:\n",
      "[844]\tvalid_0's l1: 0.0326865\n",
      "Training until validation scores don't improve for 100 rounds\n",
      "Early stopping, best iteration is:\n",
      "[1310]\tvalid_0's l1: 0.0296499\n",
      "Training until validation scores don't improve for 100 rounds\n",
      "Early stopping, best iteration is:\n",
      "[335]\tvalid_0's l1: 0.0323999\n",
      "Training until validation scores don't improve for 100 rounds\n",
      "Early stopping, best iteration is:\n",
      "[1125]\tvalid_0's l1: 0.0322116\n",
      "Training until validation scores don't improve for 100 rounds\n",
      "Early stopping, best iteration is:\n",
      "[396]\tvalid_0's l1: 0.026969\n",
      "Training until validation scores don't improve for 100 rounds\n"
     ]
    },
    {
     "name": "stderr",
     "output_type": "stream",
     "text": [
      "[I 2025-08-07 05:10:53,215] Trial 22 finished with value: 0.030782560987760322 and parameters: {'num_leaves': 47, 'learning_rate': 0.018390714054102458, 'feature_fraction': 0.6757647272613596, 'bagging_fraction': 0.5878593293839715, 'bagging_freq': 9, 'lambda_l1': 0.03614832030259283, 'lambda_l2': 8.343240223558738, 'min_data_in_leaf': 68, 'max_depth': 6, 'min_child_samples': 18}. Best is trial 15 with value: 0.028973774895114685.\n"
     ]
    },
    {
     "name": "stdout",
     "output_type": "stream",
     "text": [
      "Early stopping, best iteration is:\n",
      "[756]\tvalid_0's l1: 0.0326825\n",
      "Training until validation scores don't improve for 100 rounds\n",
      "Early stopping, best iteration is:\n",
      "[374]\tvalid_0's l1: 0.0358965\n",
      "Training until validation scores don't improve for 100 rounds\n",
      "Early stopping, best iteration is:\n",
      "[328]\tvalid_0's l1: 0.0326658\n",
      "Training until validation scores don't improve for 100 rounds\n",
      "Early stopping, best iteration is:\n",
      "[570]\tvalid_0's l1: 0.0345211\n",
      "Training until validation scores don't improve for 100 rounds\n",
      "Early stopping, best iteration is:\n",
      "[433]\tvalid_0's l1: 0.0289858\n",
      "Training until validation scores don't improve for 100 rounds\n"
     ]
    },
    {
     "name": "stderr",
     "output_type": "stream",
     "text": [
      "[I 2025-08-07 05:10:55,753] Trial 23 finished with value: 0.03348423742142784 and parameters: {'num_leaves': 191, 'learning_rate': 0.04346281830424524, 'feature_fraction': 0.6959384867641348, 'bagging_fraction': 0.5966252470120949, 'bagging_freq': 9, 'lambda_l1': 0.9768284220002231, 'lambda_l2': 8.332492987631168, 'min_data_in_leaf': 67, 'max_depth': 6, 'min_child_samples': 18}. Best is trial 15 with value: 0.028973774895114685.\n"
     ]
    },
    {
     "name": "stdout",
     "output_type": "stream",
     "text": [
      "Early stopping, best iteration is:\n",
      "[537]\tvalid_0's l1: 0.0350702\n",
      "Training until validation scores don't improve for 100 rounds\n",
      "Did not meet early stopping. Best iteration is:\n",
      "[2000]\tvalid_0's l1: 0.040232\n",
      "Training until validation scores don't improve for 100 rounds\n",
      "Early stopping, best iteration is:\n",
      "[1268]\tvalid_0's l1: 0.0363241\n",
      "Training until validation scores don't improve for 100 rounds\n",
      "Early stopping, best iteration is:\n",
      "[943]\tvalid_0's l1: 0.0389656\n",
      "Training until validation scores don't improve for 100 rounds\n",
      "Did not meet early stopping. Best iteration is:\n",
      "[1939]\tvalid_0's l1: 0.0304205\n",
      "Training until validation scores don't improve for 100 rounds\n"
     ]
    },
    {
     "name": "stderr",
     "output_type": "stream",
     "text": [
      "[I 2025-08-07 05:10:58,280] Trial 24 finished with value: 0.036908109696296695 and parameters: {'num_leaves': 212, 'learning_rate': 0.008463435169004186, 'feature_fraction': 0.6752281660001883, 'bagging_fraction': 0.5722520954810204, 'bagging_freq': 9, 'lambda_l1': 2.1875860814792527, 'lambda_l2': 8.02610887434031, 'min_data_in_leaf': 45, 'max_depth': 4, 'min_child_samples': 18}. Best is trial 15 with value: 0.028973774895114685.\n"
     ]
    },
    {
     "name": "stdout",
     "output_type": "stream",
     "text": [
      "Early stopping, best iteration is:\n",
      "[1648]\tvalid_0's l1: 0.0385967\n",
      "Training until validation scores don't improve for 100 rounds\n",
      "Early stopping, best iteration is:\n",
      "[955]\tvalid_0's l1: 0.0400459\n",
      "Training until validation scores don't improve for 100 rounds\n",
      "Early stopping, best iteration is:\n",
      "[533]\tvalid_0's l1: 0.0354758\n",
      "Training until validation scores don't improve for 100 rounds\n",
      "Early stopping, best iteration is:\n",
      "[996]\tvalid_0's l1: 0.0394576\n",
      "Training until validation scores don't improve for 100 rounds\n",
      "Early stopping, best iteration is:\n",
      "[620]\tvalid_0's l1: 0.0321355\n",
      "Training until validation scores don't improve for 100 rounds\n"
     ]
    },
    {
     "name": "stderr",
     "output_type": "stream",
     "text": [
      "[I 2025-08-07 05:10:59,893] Trial 25 finished with value: 0.03728537057063348 and parameters: {'num_leaves': 276, 'learning_rate': 0.01479440447717736, 'feature_fraction': 0.7625685397056711, 'bagging_fraction': 0.8414755132786301, 'bagging_freq': 7, 'lambda_l1': 2.9991381525108074, 'lambda_l2': 5.352984134158795, 'min_data_in_leaf': 26, 'max_depth': 6, 'min_child_samples': 34}. Best is trial 15 with value: 0.028973774895114685.\n"
     ]
    },
    {
     "name": "stdout",
     "output_type": "stream",
     "text": [
      "Early stopping, best iteration is:\n",
      "[556]\tvalid_0's l1: 0.0393121\n",
      "Training until validation scores don't improve for 100 rounds\n",
      "Early stopping, best iteration is:\n",
      "[515]\tvalid_0's l1: 0.0350741\n",
      "Training until validation scores don't improve for 100 rounds\n",
      "Early stopping, best iteration is:\n",
      "[866]\tvalid_0's l1: 0.0317784\n",
      "Training until validation scores don't improve for 100 rounds\n",
      "Early stopping, best iteration is:\n",
      "[1109]\tvalid_0's l1: 0.0343538\n",
      "Training until validation scores don't improve for 100 rounds\n",
      "Early stopping, best iteration is:\n",
      "[535]\tvalid_0's l1: 0.0272246\n",
      "Training until validation scores don't improve for 100 rounds\n"
     ]
    },
    {
     "name": "stderr",
     "output_type": "stream",
     "text": [
      "[I 2025-08-07 05:11:01,552] Trial 26 finished with value: 0.0326101409985488 and parameters: {'num_leaves': 89, 'learning_rate': 0.022816999188422022, 'feature_fraction': 0.6036819737994903, 'bagging_fraction': 0.7572052631546232, 'bagging_freq': 10, 'lambda_l1': 0.9829964268703623, 'lambda_l2': 6.40732023587872, 'min_data_in_leaf': 56, 'max_depth': 7, 'min_child_samples': 27}. Best is trial 15 with value: 0.028973774895114685.\n"
     ]
    },
    {
     "name": "stdout",
     "output_type": "stream",
     "text": [
      "Early stopping, best iteration is:\n",
      "[746]\tvalid_0's l1: 0.034465\n",
      "Training until validation scores don't improve for 100 rounds\n",
      "Early stopping, best iteration is:\n",
      "[410]\tvalid_0's l1: 0.0318142\n",
      "Training until validation scores don't improve for 100 rounds\n",
      "Early stopping, best iteration is:\n",
      "[445]\tvalid_0's l1: 0.0307679\n",
      "Training until validation scores don't improve for 100 rounds\n",
      "Early stopping, best iteration is:\n",
      "[695]\tvalid_0's l1: 0.0338625\n",
      "Training until validation scores don't improve for 100 rounds\n",
      "Early stopping, best iteration is:\n",
      "[422]\tvalid_0's l1: 0.0269793\n",
      "Training until validation scores don't improve for 100 rounds\n"
     ]
    },
    {
     "name": "stderr",
     "output_type": "stream",
     "text": [
      "[I 2025-08-07 05:11:02,991] Trial 27 finished with value: 0.03137471702208978 and parameters: {'num_leaves': 141, 'learning_rate': 0.03596817250244298, 'feature_fraction': 0.8069612614595542, 'bagging_fraction': 0.9189681866423665, 'bagging_freq': 4, 'lambda_l1': 0.7007079989867048, 'lambda_l2': 3.964477344068344, 'min_data_in_leaf': 46, 'max_depth': 4, 'min_child_samples': 16}. Best is trial 15 with value: 0.028973774895114685.\n"
     ]
    },
    {
     "name": "stdout",
     "output_type": "stream",
     "text": [
      "Early stopping, best iteration is:\n",
      "[452]\tvalid_0's l1: 0.0334049\n",
      "Training until validation scores don't improve for 100 rounds\n",
      "Did not meet early stopping. Best iteration is:\n",
      "[2000]\tvalid_0's l1: 0.0394572\n",
      "Training until validation scores don't improve for 100 rounds\n",
      "Did not meet early stopping. Best iteration is:\n",
      "[2000]\tvalid_0's l1: 0.0347684\n",
      "Training until validation scores don't improve for 100 rounds\n",
      "Early stopping, best iteration is:\n",
      "[1368]\tvalid_0's l1: 0.0377782\n",
      "Training until validation scores don't improve for 100 rounds\n",
      "Did not meet early stopping. Best iteration is:\n",
      "[1958]\tvalid_0's l1: 0.0304415\n",
      "Training until validation scores don't improve for 100 rounds\n"
     ]
    },
    {
     "name": "stderr",
     "output_type": "stream",
     "text": [
      "[I 2025-08-07 05:11:05,393] Trial 28 finished with value: 0.03616207086796349 and parameters: {'num_leaves': 384, 'learning_rate': 0.014080174896173159, 'feature_fraction': 0.7398076763596934, 'bagging_fraction': 0.5437693778626889, 'bagging_freq': 9, 'lambda_l1': 1.9238829652869005, 'lambda_l2': 7.4298189566027855, 'min_data_in_leaf': 68, 'max_depth': 8, 'min_child_samples': 5}. Best is trial 15 with value: 0.028973774895114685.\n"
     ]
    },
    {
     "name": "stdout",
     "output_type": "stream",
     "text": [
      "Early stopping, best iteration is:\n",
      "[1447]\tvalid_0's l1: 0.0383395\n",
      "Training until validation scores don't improve for 100 rounds\n",
      "Did not meet early stopping. Best iteration is:\n",
      "[2000]\tvalid_0's l1: 0.0431814\n",
      "Training until validation scores don't improve for 100 rounds\n",
      "Did not meet early stopping. Best iteration is:\n",
      "[2000]\tvalid_0's l1: 0.0387609\n",
      "Training until validation scores don't improve for 100 rounds\n",
      "Did not meet early stopping. Best iteration is:\n",
      "[2000]\tvalid_0's l1: 0.0416679\n",
      "Training until validation scores don't improve for 100 rounds\n",
      "Did not meet early stopping. Best iteration is:\n",
      "[2000]\tvalid_0's l1: 0.0336408\n",
      "Training until validation scores don't improve for 100 rounds\n"
     ]
    },
    {
     "name": "stderr",
     "output_type": "stream",
     "text": [
      "[I 2025-08-07 05:11:08,681] Trial 29 finished with value: 0.03970819274401595 and parameters: {'num_leaves': 63, 'learning_rate': 0.006932927025028015, 'feature_fraction': 0.9275972351377091, 'bagging_fraction': 0.6253256754816288, 'bagging_freq': 10, 'lambda_l1': 3.3830296180684267, 'lambda_l2': 7.548562460104379, 'min_data_in_leaf': 36, 'max_depth': 6, 'min_child_samples': 41}. Best is trial 15 with value: 0.028973774895114685.\n"
     ]
    },
    {
     "name": "stdout",
     "output_type": "stream",
     "text": [
      "Did not meet early stopping. Best iteration is:\n",
      "[2000]\tvalid_0's l1: 0.04129\n",
      "🎯 Best params for Tc: {'num_leaves': 235, 'learning_rate': 0.0295010241436183, 'feature_fraction': 0.7805337154255251, 'bagging_fraction': 0.7898851916937599, 'bagging_freq': 4, 'lambda_l1': 0.062046288557034465, 'lambda_l2': 5.937348435438297, 'min_data_in_leaf': 38, 'max_depth': 5, 'min_child_samples': 26}\n",
      "Training until validation scores don't improve for 100 rounds\n",
      "Early stopping, best iteration is:\n",
      "[489]\tvalid_0's l1: 0.0295576\n",
      "----Fold 1 MAE = 0.0296\n",
      "Training until validation scores don't improve for 100 rounds\n",
      "Early stopping, best iteration is:\n",
      "[796]\tvalid_0's l1: 0.0295202\n",
      "----Fold 2 MAE = 0.0295\n",
      "Training until validation scores don't improve for 100 rounds\n",
      "Early stopping, best iteration is:\n",
      "[531]\tvalid_0's l1: 0.0270628\n",
      "----Fold 3 MAE = 0.0271\n",
      "Training until validation scores don't improve for 100 rounds\n",
      "Early stopping, best iteration is:\n",
      "[588]\tvalid_0's l1: 0.0289376\n",
      "----Fold 4 MAE = 0.0289\n",
      "Training until validation scores don't improve for 100 rounds\n",
      "Early stopping, best iteration is:\n",
      "[542]\tvalid_0's l1: 0.0260971\n",
      "----Fold 5 MAE = 0.0261\n",
      "Training until validation scores don't improve for 100 rounds\n",
      "Early stopping, best iteration is:\n",
      "[109]\tvalid_0's l1: 0.0246705\n",
      "----Fold 6 MAE = 0.0247\n",
      "Training until validation scores don't improve for 100 rounds\n",
      "Early stopping, best iteration is:\n",
      "[560]\tvalid_0's l1: 0.0312494\n",
      "----Fold 7 MAE = 0.0312\n",
      "===CV MAE: 0.0282 ± 0.002===\n",
      "==================================================\n",
      "\n",
      "\n",
      "==================================================\n",
      "Training Density...\n",
      "🔍 Running feature selection pipeline...\n",
      "  VarianceThreshold: 402 features retained\n"
     ]
    },
    {
     "name": "stderr",
     "output_type": "stream",
     "text": [
      "[I 2025-08-07 05:11:14,308] A new study created in memory with name: no-name-962d920f-4918-4d43-9be6-8c4541fed9f8\n"
     ]
    },
    {
     "name": "stdout",
     "output_type": "stream",
     "text": [
      "  MutualInfo: 200 features selected\n",
      "Selected 200 features for Density\n",
      "📊 Training Density on 613 samples\n",
      "📈 Target range: 0.7487 to 1.8410\n",
      "Training until validation scores don't improve for 100 rounds\n",
      "Early stopping, best iteration is:\n",
      "[636]\tvalid_0's l1: 0.0725868\n",
      "Training until validation scores don't improve for 100 rounds\n",
      "Early stopping, best iteration is:\n",
      "[638]\tvalid_0's l1: 0.100529\n",
      "Training until validation scores don't improve for 100 rounds\n",
      "Early stopping, best iteration is:\n",
      "[406]\tvalid_0's l1: 0.0649442\n",
      "Training until validation scores don't improve for 100 rounds\n"
     ]
    },
    {
     "name": "stderr",
     "output_type": "stream",
     "text": [
      "[I 2025-08-07 05:11:15,159] Trial 0 finished with value: 0.07412333143886571 and parameters: {'num_leaves': 263, 'learning_rate': 0.03561491755865717, 'feature_fraction': 0.6926347439003564, 'bagging_fraction': 0.9732052767963635, 'bagging_freq': 8, 'lambda_l1': 6.651383380576026, 'lambda_l2': 8.460744052137027, 'min_data_in_leaf': 43, 'max_depth': 13, 'min_child_samples': 65}. Best is trial 0 with value: 0.07412333143886571.\n"
     ]
    },
    {
     "name": "stdout",
     "output_type": "stream",
     "text": [
      "Early stopping, best iteration is:\n",
      "[292]\tvalid_0's l1: 0.0593772\n",
      "Training until validation scores don't improve for 100 rounds\n",
      "Early stopping, best iteration is:\n",
      "[618]\tvalid_0's l1: 0.0730883\n",
      "Training until validation scores don't improve for 100 rounds\n",
      "Early stopping, best iteration is:\n",
      "[734]\tvalid_0's l1: 0.0573297\n",
      "Training until validation scores don't improve for 100 rounds\n",
      "Early stopping, best iteration is:\n",
      "[292]\tvalid_0's l1: 0.0794382\n",
      "Training until validation scores don't improve for 100 rounds\n",
      "Early stopping, best iteration is:\n",
      "[260]\tvalid_0's l1: 0.0508933\n",
      "Training until validation scores don't improve for 100 rounds\n"
     ]
    },
    {
     "name": "stderr",
     "output_type": "stream",
     "text": [
      "[I 2025-08-07 05:11:16,145] Trial 1 finished with value: 0.05823652165290505 and parameters: {'num_leaves': 511, 'learning_rate': 0.10421188149825607, 'feature_fraction': 0.6767836567928593, 'bagging_fraction': 0.6889623789111405, 'bagging_freq': 4, 'lambda_l1': 3.3712386131209215, 'lambda_l2': 0.21861502519118226, 'min_data_in_leaf': 5, 'max_depth': 11, 'min_child_samples': 9}. Best is trial 1 with value: 0.05823652165290505.\n"
     ]
    },
    {
     "name": "stdout",
     "output_type": "stream",
     "text": [
      "Early stopping, best iteration is:\n",
      "[537]\tvalid_0's l1: 0.0403414\n",
      "Training until validation scores don't improve for 100 rounds\n",
      "Early stopping, best iteration is:\n",
      "[50]\tvalid_0's l1: 0.0629944\n",
      "Training until validation scores don't improve for 100 rounds\n",
      "Early stopping, best iteration is:\n",
      "[1863]\tvalid_0's l1: 0.0727399\n",
      "Training until validation scores don't improve for 100 rounds\n",
      "Early stopping, best iteration is:\n",
      "[1068]\tvalid_0's l1: 0.101369\n",
      "Training until validation scores don't improve for 100 rounds\n",
      "Early stopping, best iteration is:\n",
      "[783]\tvalid_0's l1: 0.0643489\n",
      "Training until validation scores don't improve for 100 rounds\n",
      "Early stopping, best iteration is:\n",
      "[1689]\tvalid_0's l1: 0.0578092\n",
      "Training until validation scores don't improve for 100 rounds\n"
     ]
    },
    {
     "name": "stderr",
     "output_type": "stream",
     "text": [
      "[I 2025-08-07 05:11:18,114] Trial 2 finished with value: 0.07380173010030291 and parameters: {'num_leaves': 231, 'learning_rate': 0.014774058231339841, 'feature_fraction': 0.7925123331326978, 'bagging_fraction': 0.9452630033874313, 'bagging_freq': 4, 'lambda_l1': 6.560331201331328, 'lambda_l2': 1.0819504326180995, 'min_data_in_leaf': 51, 'max_depth': 11, 'min_child_samples': 46}. Best is trial 1 with value: 0.05823652165290505.\n"
     ]
    },
    {
     "name": "stdout",
     "output_type": "stream",
     "text": [
      "Early stopping, best iteration is:\n",
      "[826]\tvalid_0's l1: 0.0727056\n",
      "Training until validation scores don't improve for 100 rounds\n",
      "Early stopping, best iteration is:\n",
      "[1205]\tvalid_0's l1: 0.093202\n",
      "Training until validation scores don't improve for 100 rounds\n",
      "Early stopping, best iteration is:\n",
      "[1105]\tvalid_0's l1: 0.126352\n",
      "Training until validation scores don't improve for 100 rounds\n",
      "Early stopping, best iteration is:\n",
      "[617]\tvalid_0's l1: 0.0914237\n",
      "Training until validation scores don't improve for 100 rounds\n",
      "Early stopping, best iteration is:\n",
      "[1549]\tvalid_0's l1: 0.0791619\n",
      "Training until validation scores don't improve for 100 rounds\n"
     ]
    },
    {
     "name": "stderr",
     "output_type": "stream",
     "text": [
      "[I 2025-08-07 05:11:19,810] Trial 3 finished with value: 0.0977582706013875 and parameters: {'num_leaves': 142, 'learning_rate': 0.03990459250015326, 'feature_fraction': 0.9472930758943601, 'bagging_fraction': 0.6288375585641635, 'bagging_freq': 3, 'lambda_l1': 9.902404336771976, 'lambda_l2': 8.69051968363453, 'min_data_in_leaf': 47, 'max_depth': 13, 'min_child_samples': 39}. Best is trial 1 with value: 0.05823652165290505.\n"
     ]
    },
    {
     "name": "stdout",
     "output_type": "stream",
     "text": [
      "Early stopping, best iteration is:\n",
      "[1101]\tvalid_0's l1: 0.098651\n",
      "Training until validation scores don't improve for 100 rounds\n",
      "Early stopping, best iteration is:\n",
      "[1291]\tvalid_0's l1: 0.0911055\n",
      "Training until validation scores don't improve for 100 rounds\n",
      "Early stopping, best iteration is:\n",
      "[622]\tvalid_0's l1: 0.125968\n",
      "Training until validation scores don't improve for 100 rounds\n",
      "Early stopping, best iteration is:\n",
      "[1314]\tvalid_0's l1: 0.0857675\n",
      "Training until validation scores don't improve for 100 rounds\n"
     ]
    },
    {
     "name": "stderr",
     "output_type": "stream",
     "text": [
      "[I 2025-08-07 05:11:21,001] Trial 4 finished with value: 0.09545346326782662 and parameters: {'num_leaves': 368, 'learning_rate': 0.05113472447675327, 'feature_fraction': 0.9546318481950333, 'bagging_fraction': 0.6371864082191137, 'bagging_freq': 5, 'lambda_l1': 9.4229827259454, 'lambda_l2': 9.751720211594781, 'min_data_in_leaf': 87, 'max_depth': 4, 'min_child_samples': 30}. Best is trial 1 with value: 0.05823652165290505.\n"
     ]
    },
    {
     "name": "stdout",
     "output_type": "stream",
     "text": [
      "Early stopping, best iteration is:\n",
      "[900]\tvalid_0's l1: 0.077333\n",
      "Training until validation scores don't improve for 100 rounds\n",
      "Early stopping, best iteration is:\n",
      "[550]\tvalid_0's l1: 0.0970089\n",
      "Training until validation scores don't improve for 100 rounds\n",
      "Early stopping, best iteration is:\n",
      "[325]\tvalid_0's l1: 0.0518237\n",
      "Training until validation scores don't improve for 100 rounds\n",
      "Early stopping, best iteration is:\n",
      "[248]\tvalid_0's l1: 0.0673829\n",
      "Training until validation scores don't improve for 100 rounds\n",
      "Early stopping, best iteration is:\n",
      "[255]\tvalid_0's l1: 0.0418156\n",
      "Training until validation scores don't improve for 100 rounds\n",
      "Early stopping, best iteration is:\n",
      "[192]\tvalid_0's l1: 0.0394197\n",
      "Training until validation scores don't improve for 100 rounds\n"
     ]
    },
    {
     "name": "stderr",
     "output_type": "stream",
     "text": [
      "[I 2025-08-07 05:11:21,662] Trial 5 finished with value: 0.04972533349267188 and parameters: {'num_leaves': 350, 'learning_rate': 0.08216066645426608, 'feature_fraction': 0.9771869932937703, 'bagging_fraction': 0.6531889382187352, 'bagging_freq': 6, 'lambda_l1': 1.5222341540635254, 'lambda_l2': 7.928522017622523, 'min_data_in_leaf': 35, 'max_depth': 3, 'min_child_samples': 24}. Best is trial 5 with value: 0.04972533349267188.\n"
     ]
    },
    {
     "name": "stdout",
     "output_type": "stream",
     "text": [
      "Early stopping, best iteration is:\n",
      "[255]\tvalid_0's l1: 0.0480427\n",
      "Training until validation scores don't improve for 100 rounds\n",
      "Early stopping, best iteration is:\n",
      "[595]\tvalid_0's l1: 0.046036\n",
      "Training until validation scores don't improve for 100 rounds\n",
      "Early stopping, best iteration is:\n",
      "[243]\tvalid_0's l1: 0.0622099\n",
      "Training until validation scores don't improve for 100 rounds\n",
      "Early stopping, best iteration is:\n",
      "[133]\tvalid_0's l1: 0.0436332\n",
      "Training until validation scores don't improve for 100 rounds\n",
      "Early stopping, best iteration is:\n",
      "[356]\tvalid_0's l1: 0.0348303\n",
      "Training until validation scores don't improve for 100 rounds\n"
     ]
    },
    {
     "name": "stderr",
     "output_type": "stream",
     "text": [
      "[I 2025-08-07 05:11:22,659] Trial 6 finished with value: 0.045621356478210764 and parameters: {'num_leaves': 83, 'learning_rate': 0.05483230026773056, 'feature_fraction': 0.7529794776870593, 'bagging_fraction': 0.5496301715581324, 'bagging_freq': 10, 'lambda_l1': 1.0736417472540938, 'lambda_l2': 2.731894136352231, 'min_data_in_leaf': 13, 'max_depth': 5, 'min_child_samples': 10}. Best is trial 6 with value: 0.045621356478210764.\n"
     ]
    },
    {
     "name": "stdout",
     "output_type": "stream",
     "text": [
      "Early stopping, best iteration is:\n",
      "[398]\tvalid_0's l1: 0.0405777\n",
      "Training until validation scores don't improve for 100 rounds\n",
      "Early stopping, best iteration is:\n",
      "[1671]\tvalid_0's l1: 0.0855828\n",
      "Training until validation scores don't improve for 100 rounds\n",
      "Did not meet early stopping. Best iteration is:\n",
      "[1953]\tvalid_0's l1: 0.114199\n",
      "Training until validation scores don't improve for 100 rounds\n",
      "Did not meet early stopping. Best iteration is:\n",
      "[1989]\tvalid_0's l1: 0.0774528\n",
      "Training until validation scores don't improve for 100 rounds\n",
      "Did not meet early stopping. Best iteration is:\n",
      "[1995]\tvalid_0's l1: 0.0689239\n",
      "Training until validation scores don't improve for 100 rounds\n"
     ]
    },
    {
     "name": "stderr",
     "output_type": "stream",
     "text": [
      "[I 2025-08-07 05:11:24,731] Trial 7 finished with value: 0.08654281564845631 and parameters: {'num_leaves': 333, 'learning_rate': 0.01848022824404921, 'feature_fraction': 0.8829836374412088, 'bagging_fraction': 0.6282081317282735, 'bagging_freq': 8, 'lambda_l1': 7.723308270234087, 'lambda_l2': 4.316092358869994, 'min_data_in_leaf': 80, 'max_depth': 13, 'min_child_samples': 84}. Best is trial 6 with value: 0.045621356478210764.\n"
     ]
    },
    {
     "name": "stdout",
     "output_type": "stream",
     "text": [
      "Early stopping, best iteration is:\n",
      "[1777]\tvalid_0's l1: 0.0865551\n",
      "Training until validation scores don't improve for 100 rounds\n",
      "Early stopping, best iteration is:\n",
      "[75]\tvalid_0's l1: 0.0878361\n",
      "Training until validation scores don't improve for 100 rounds\n",
      "Early stopping, best iteration is:\n",
      "[331]\tvalid_0's l1: 0.108439\n"
     ]
    },
    {
     "name": "stderr",
     "output_type": "stream",
     "text": [
      "[I 2025-08-07 05:11:25,101] Trial 8 finished with value: 0.08491514618737817 and parameters: {'num_leaves': 118, 'learning_rate': 0.16037382836843844, 'feature_fraction': 0.6315930930696609, 'bagging_fraction': 0.5011901999361783, 'bagging_freq': 10, 'lambda_l1': 5.941445302026151, 'lambda_l2': 2.2279197711529886, 'min_data_in_leaf': 17, 'max_depth': 12, 'min_child_samples': 91}. Best is trial 6 with value: 0.045621356478210764.\n"
     ]
    },
    {
     "name": "stdout",
     "output_type": "stream",
     "text": [
      "Training until validation scores don't improve for 100 rounds\n",
      "Early stopping, best iteration is:\n",
      "[162]\tvalid_0's l1: 0.0734937\n",
      "Training until validation scores don't improve for 100 rounds\n",
      "Early stopping, best iteration is:\n",
      "[79]\tvalid_0's l1: 0.0664631\n",
      "Training until validation scores don't improve for 100 rounds\n",
      "Early stopping, best iteration is:\n",
      "[90]\tvalid_0's l1: 0.0883439\n",
      "Training until validation scores don't improve for 100 rounds\n",
      "Early stopping, best iteration is:\n",
      "[85]\tvalid_0's l1: 0.0682097\n",
      "Training until validation scores don't improve for 100 rounds\n",
      "Early stopping, best iteration is:\n",
      "[276]\tvalid_0's l1: 0.0863705\n",
      "Training until validation scores don't improve for 100 rounds\n",
      "Early stopping, best iteration is:\n",
      "[118]\tvalid_0's l1: 0.0558874\n"
     ]
    },
    {
     "name": "stderr",
     "output_type": "stream",
     "text": [
      "[I 2025-08-07 05:11:25,506] Trial 9 finished with value: 0.06457520890509912 and parameters: {'num_leaves': 400, 'learning_rate': 0.10314868333562088, 'feature_fraction': 0.8699623151259261, 'bagging_fraction': 0.6999053686065515, 'bagging_freq': 9, 'lambda_l1': 4.159830138129497, 'lambda_l2': 2.3706025675744833, 'min_data_in_leaf': 17, 'max_depth': 15, 'min_child_samples': 63}. Best is trial 6 with value: 0.045621356478210764.\n"
     ]
    },
    {
     "name": "stdout",
     "output_type": "stream",
     "text": [
      "Training until validation scores don't improve for 100 rounds\n",
      "Early stopping, best iteration is:\n",
      "[89]\tvalid_0's l1: 0.0474413\n",
      "Training until validation scores don't improve for 100 rounds\n",
      "Early stopping, best iteration is:\n",
      "[121]\tvalid_0's l1: 0.0649396\n",
      "Training until validation scores don't improve for 100 rounds\n",
      "Did not meet early stopping. Best iteration is:\n",
      "[2000]\tvalid_0's l1: 0.0507303\n",
      "Training until validation scores don't improve for 100 rounds\n",
      "Did not meet early stopping. Best iteration is:\n",
      "[2000]\tvalid_0's l1: 0.0671688\n",
      "Training until validation scores don't improve for 100 rounds\n",
      "Did not meet early stopping. Best iteration is:\n",
      "[1995]\tvalid_0's l1: 0.045814\n",
      "Training until validation scores don't improve for 100 rounds\n",
      "Early stopping, best iteration is:\n",
      "[1844]\tvalid_0's l1: 0.0375698\n",
      "Training until validation scores don't improve for 100 rounds\n"
     ]
    },
    {
     "name": "stderr",
     "output_type": "stream",
     "text": [
      "[I 2025-08-07 05:11:31,070] Trial 10 finished with value: 0.0502958689117818 and parameters: {'num_leaves': 36, 'learning_rate': 0.005874094457534952, 'feature_fraction': 0.5468184136461189, 'bagging_fraction': 0.8549123020570104, 'bagging_freq': 7, 'lambda_l1': 0.26360194927898484, 'lambda_l2': 5.528559682210189, 'min_data_in_leaf': 76, 'max_depth': 6, 'min_child_samples': 5}. Best is trial 6 with value: 0.045621356478210764.\n"
     ]
    },
    {
     "name": "stdout",
     "output_type": "stream",
     "text": [
      "Early stopping, best iteration is:\n",
      "[1803]\tvalid_0's l1: 0.0501964\n",
      "Training until validation scores don't improve for 100 rounds\n",
      "Early stopping, best iteration is:\n",
      "[482]\tvalid_0's l1: 0.0444132\n",
      "Training until validation scores don't improve for 100 rounds\n",
      "Early stopping, best iteration is:\n",
      "[628]\tvalid_0's l1: 0.0600172\n",
      "Training until validation scores don't improve for 100 rounds\n",
      "Early stopping, best iteration is:\n",
      "[477]\tvalid_0's l1: 0.0399052\n",
      "Training until validation scores don't improve for 100 rounds\n",
      "Early stopping, best iteration is:\n",
      "[612]\tvalid_0's l1: 0.0357377\n",
      "Training until validation scores don't improve for 100 rounds\n"
     ]
    },
    {
     "name": "stderr",
     "output_type": "stream",
     "text": [
      "[I 2025-08-07 05:11:32,524] Trial 11 finished with value: 0.04426139616225061 and parameters: {'num_leaves': 462, 'learning_rate': 0.06813263382857665, 'feature_fraction': 0.788985074439656, 'bagging_fraction': 0.514207411992877, 'bagging_freq': 1, 'lambda_l1': 0.53494067494001, 'lambda_l2': 5.7785238492011235, 'min_data_in_leaf': 31, 'max_depth': 3, 'min_child_samples': 23}. Best is trial 11 with value: 0.04426139616225061.\n"
     ]
    },
    {
     "name": "stdout",
     "output_type": "stream",
     "text": [
      "Early stopping, best iteration is:\n",
      "[487]\tvalid_0's l1: 0.041096\n",
      "Training until validation scores don't improve for 100 rounds\n",
      "Early stopping, best iteration is:\n",
      "[1287]\tvalid_0's l1: 0.0551176\n",
      "Training until validation scores don't improve for 100 rounds\n",
      "Did not meet early stopping. Best iteration is:\n",
      "[1987]\tvalid_0's l1: 0.0709624\n",
      "Training until validation scores don't improve for 100 rounds\n",
      "Early stopping, best iteration is:\n",
      "[1562]\tvalid_0's l1: 0.0442105\n",
      "Training until validation scores don't improve for 100 rounds\n",
      "Did not meet early stopping. Best iteration is:\n",
      "[1972]\tvalid_0's l1: 0.0393887\n",
      "Training until validation scores don't improve for 100 rounds\n"
     ]
    },
    {
     "name": "stderr",
     "output_type": "stream",
     "text": [
      "[I 2025-08-07 05:11:34,360] Trial 12 finished with value: 0.05243132620385427 and parameters: {'num_leaves': 488, 'learning_rate': 0.0626387577119014, 'feature_fraction': 0.7589045082102023, 'bagging_fraction': 0.5195016715544333, 'bagging_freq': 1, 'lambda_l1': 2.488372254328273, 'lambda_l2': 5.4119981517971185, 'min_data_in_leaf': 28, 'max_depth': 7, 'min_child_samples': 21}. Best is trial 11 with value: 0.04426139616225061.\n"
     ]
    },
    {
     "name": "stdout",
     "output_type": "stream",
     "text": [
      "Early stopping, best iteration is:\n",
      "[781]\tvalid_0's l1: 0.0522577\n",
      "Training until validation scores don't improve for 100 rounds\n",
      "Early stopping, best iteration is:\n",
      "[835]\tvalid_0's l1: 0.0523654\n",
      "Training until validation scores don't improve for 100 rounds\n",
      "Early stopping, best iteration is:\n",
      "[1308]\tvalid_0's l1: 0.0683051\n",
      "Training until validation scores don't improve for 100 rounds\n",
      "Early stopping, best iteration is:\n",
      "[662]\tvalid_0's l1: 0.0481603\n",
      "Training until validation scores don't improve for 100 rounds\n",
      "Early stopping, best iteration is:\n",
      "[837]\tvalid_0's l1: 0.0416488\n",
      "Training until validation scores don't improve for 100 rounds\n"
     ]
    },
    {
     "name": "stderr",
     "output_type": "stream",
     "text": [
      "[I 2025-08-07 05:11:36,452] Trial 13 finished with value: 0.051283589743070755 and parameters: {'num_leaves': 205, 'learning_rate': 0.022254296217962027, 'feature_fraction': 0.8260010426114539, 'bagging_fraction': 0.5623247840736084, 'bagging_freq': 1, 'lambda_l1': 0.03588064971870164, 'lambda_l2': 4.034483619716324, 'min_data_in_leaf': 65, 'max_depth': 5, 'min_child_samples': 15}. Best is trial 11 with value: 0.04426139616225061.\n"
     ]
    },
    {
     "name": "stdout",
     "output_type": "stream",
     "text": [
      "Did not meet early stopping. Best iteration is:\n",
      "[2000]\tvalid_0's l1: 0.0459383\n",
      "Training until validation scores don't improve for 100 rounds\n",
      "Early stopping, best iteration is:\n",
      "[399]\tvalid_0's l1: 0.0466728\n",
      "Training until validation scores don't improve for 100 rounds\n",
      "Early stopping, best iteration is:\n",
      "[127]\tvalid_0's l1: 0.0662617\n",
      "Training until validation scores don't improve for 100 rounds\n"
     ]
    },
    {
     "name": "stderr",
     "output_type": "stream",
     "text": [
      "[I 2025-08-07 05:11:37,119] Trial 14 finished with value: 0.04847762483989952 and parameters: {'num_leaves': 38, 'learning_rate': 0.1767177505983466, 'feature_fraction': 0.7010196822976381, 'bagging_fraction': 0.7713819999071132, 'bagging_freq': 2, 'lambda_l1': 1.6560057426189623, 'lambda_l2': 6.800162951621493, 'min_data_in_leaf': 23, 'max_depth': 8, 'min_child_samples': 34}. Best is trial 11 with value: 0.04426139616225061.\n"
     ]
    },
    {
     "name": "stdout",
     "output_type": "stream",
     "text": [
      "Early stopping, best iteration is:\n",
      "[439]\tvalid_0's l1: 0.0399744\n",
      "Training until validation scores don't improve for 100 rounds\n",
      "Early stopping, best iteration is:\n",
      "[35]\tvalid_0's l1: 0.040188\n",
      "Training until validation scores don't improve for 100 rounds\n",
      "Early stopping, best iteration is:\n",
      "[78]\tvalid_0's l1: 0.0489029\n",
      "Training until validation scores don't improve for 100 rounds\n",
      "Early stopping, best iteration is:\n",
      "[1144]\tvalid_0's l1: 0.0447092\n",
      "Training until validation scores don't improve for 100 rounds\n",
      "Did not meet early stopping. Best iteration is:\n",
      "[1983]\tvalid_0's l1: 0.0600398\n",
      "Training until validation scores don't improve for 100 rounds\n",
      "Early stopping, best iteration is:\n",
      "[947]\tvalid_0's l1: 0.0418525\n",
      "Training until validation scores don't improve for 100 rounds\n",
      "Early stopping, best iteration is:\n",
      "[1675]\tvalid_0's l1: 0.0334972\n",
      "Training until validation scores don't improve for 100 rounds\n"
     ]
    },
    {
     "name": "stderr",
     "output_type": "stream",
     "text": [
      "[I 2025-08-07 05:11:41,429] Trial 15 finished with value: 0.044675640128244355 and parameters: {'num_leaves': 414, 'learning_rate': 0.010671228762452805, 'feature_fraction': 0.5963304583358692, 'bagging_fraction': 0.5668798501123498, 'bagging_freq': 6, 'lambda_l1': 1.1263128342662987, 'lambda_l2': 2.885044021236453, 'min_data_in_leaf': 11, 'max_depth': 4, 'min_child_samples': 18}. Best is trial 11 with value: 0.04426139616225061.\n"
     ]
    },
    {
     "name": "stdout",
     "output_type": "stream",
     "text": [
      "Early stopping, best iteration is:\n",
      "[1815]\tvalid_0's l1: 0.0429483\n",
      "Training until validation scores don't improve for 100 rounds\n",
      "Did not meet early stopping. Best iteration is:\n",
      "[1998]\tvalid_0's l1: 0.0572605\n",
      "Training until validation scores don't improve for 100 rounds\n",
      "Did not meet early stopping. Best iteration is:\n",
      "[2000]\tvalid_0's l1: 0.0777866\n",
      "Training until validation scores don't improve for 100 rounds\n",
      "Did not meet early stopping. Best iteration is:\n",
      "[2000]\tvalid_0's l1: 0.0498524\n",
      "Training until validation scores don't improve for 100 rounds\n",
      "Did not meet early stopping. Best iteration is:\n",
      "[2000]\tvalid_0's l1: 0.0424769\n",
      "Training until validation scores don't improve for 100 rounds\n"
     ]
    },
    {
     "name": "stderr",
     "output_type": "stream",
     "text": [
      "[I 2025-08-07 05:11:45,605] Trial 16 finished with value: 0.05706928610331585 and parameters: {'num_leaves': 439, 'learning_rate': 0.007493550168553109, 'feature_fraction': 0.5531255229935605, 'bagging_fraction': 0.5924119959695134, 'bagging_freq': 6, 'lambda_l1': 2.7042900880833836, 'lambda_l2': 3.6892580218628113, 'min_data_in_leaf': 5, 'max_depth': 3, 'min_child_samples': 56}. Best is trial 11 with value: 0.04426139616225061.\n"
     ]
    },
    {
     "name": "stdout",
     "output_type": "stream",
     "text": [
      "Early stopping, best iteration is:\n",
      "[1175]\tvalid_0's l1: 0.0579608\n",
      "Training until validation scores don't improve for 100 rounds\n",
      "Did not meet early stopping. Best iteration is:\n",
      "[1978]\tvalid_0's l1: 0.0660446\n",
      "Training until validation scores don't improve for 100 rounds\n",
      "Early stopping, best iteration is:\n",
      "[1048]\tvalid_0's l1: 0.0932421\n",
      "Training until validation scores don't improve for 100 rounds\n",
      "Did not meet early stopping. Best iteration is:\n",
      "[1999]\tvalid_0's l1: 0.0561322\n",
      "Training until validation scores don't improve for 100 rounds\n",
      "Did not meet early stopping. Best iteration is:\n",
      "[1996]\tvalid_0's l1: 0.0511643\n",
      "Training until validation scores don't improve for 100 rounds\n"
     ]
    },
    {
     "name": "stderr",
     "output_type": "stream",
     "text": [
      "[I 2025-08-07 05:11:48,783] Trial 17 finished with value: 0.06631513442593143 and parameters: {'num_leaves': 434, 'learning_rate': 0.009740305576375322, 'feature_fraction': 0.6173777343481581, 'bagging_fraction': 0.7754122454777781, 'bagging_freq': 3, 'lambda_l1': 4.624187223663405, 'lambda_l2': 6.842865288496602, 'min_data_in_leaf': 34, 'max_depth': 9, 'min_child_samples': 43}. Best is trial 11 with value: 0.04426139616225061.\n"
     ]
    },
    {
     "name": "stdout",
     "output_type": "stream",
     "text": [
      "Did not meet early stopping. Best iteration is:\n",
      "[1985]\tvalid_0's l1: 0.0649828\n",
      "Training until validation scores don't improve for 100 rounds\n",
      "Did not meet early stopping. Best iteration is:\n",
      "[1999]\tvalid_0's l1: 0.0667365\n",
      "Training until validation scores don't improve for 100 rounds\n",
      "Did not meet early stopping. Best iteration is:\n",
      "[1999]\tvalid_0's l1: 0.0893349\n",
      "Training until validation scores don't improve for 100 rounds\n",
      "Did not meet early stopping. Best iteration is:\n",
      "[1996]\tvalid_0's l1: 0.0576209\n",
      "Training until validation scores don't improve for 100 rounds\n",
      "Did not meet early stopping. Best iteration is:\n",
      "[1964]\tvalid_0's l1: 0.0512083\n",
      "Training until validation scores don't improve for 100 rounds\n"
     ]
    },
    {
     "name": "stderr",
     "output_type": "stream",
     "text": [
      "[I 2025-08-07 05:11:51,572] Trial 18 finished with value: 0.06593992754690627 and parameters: {'num_leaves': 302, 'learning_rate': 0.011186610949049413, 'feature_fraction': 0.5972053138630438, 'bagging_fraction': 0.5739964795578629, 'bagging_freq': 5, 'lambda_l1': 3.349006818600997, 'lambda_l2': 6.370279322379405, 'min_data_in_leaf': 57, 'max_depth': 5, 'min_child_samples': 23}. Best is trial 11 with value: 0.04426139616225061.\n"
     ]
    },
    {
     "name": "stdout",
     "output_type": "stream",
     "text": [
      "Early stopping, best iteration is:\n",
      "[1889]\tvalid_0's l1: 0.0647306\n",
      "Training until validation scores don't improve for 100 rounds\n",
      "Did not meet early stopping. Best iteration is:\n",
      "[2000]\tvalid_0's l1: 0.0458071\n",
      "Training until validation scores don't improve for 100 rounds\n",
      "Did not meet early stopping. Best iteration is:\n",
      "[2000]\tvalid_0's l1: 0.0619818\n",
      "Training until validation scores don't improve for 100 rounds\n",
      "Did not meet early stopping. Best iteration is:\n",
      "[1990]\tvalid_0's l1: 0.0404234\n",
      "Training until validation scores don't improve for 100 rounds\n",
      "Early stopping, best iteration is:\n",
      "[1552]\tvalid_0's l1: 0.0388547\n",
      "Training until validation scores don't improve for 100 rounds\n"
     ]
    },
    {
     "name": "stderr",
     "output_type": "stream",
     "text": [
      "[I 2025-08-07 05:11:57,567] Trial 19 finished with value: 0.04627415462863702 and parameters: {'num_leaves': 450, 'learning_rate': 0.0050751264128116105, 'feature_fraction': 0.5166910752190408, 'bagging_fraction': 0.8369801941194477, 'bagging_freq': 7, 'lambda_l1': 0.7430404102592175, 'lambda_l2': 3.447103089501051, 'min_data_in_leaf': 36, 'max_depth': 9, 'min_child_samples': 74}. Best is trial 11 with value: 0.04426139616225061.\n"
     ]
    },
    {
     "name": "stdout",
     "output_type": "stream",
     "text": [
      "Did not meet early stopping. Best iteration is:\n",
      "[2000]\tvalid_0's l1: 0.0443038\n",
      "Training until validation scores don't improve for 100 rounds\n",
      "Early stopping, best iteration is:\n",
      "[1385]\tvalid_0's l1: 0.0518616\n",
      "Training until validation scores don't improve for 100 rounds\n",
      "Early stopping, best iteration is:\n",
      "[1458]\tvalid_0's l1: 0.0678039\n",
      "Training until validation scores don't improve for 100 rounds\n",
      "Early stopping, best iteration is:\n",
      "[613]\tvalid_0's l1: 0.0432745\n",
      "Training until validation scores don't improve for 100 rounds\n",
      "Early stopping, best iteration is:\n",
      "[693]\tvalid_0's l1: 0.0392193\n",
      "Training until validation scores don't improve for 100 rounds\n"
     ]
    },
    {
     "name": "stderr",
     "output_type": "stream",
     "text": [
      "[I 2025-08-07 05:12:01,533] Trial 20 finished with value: 0.05001096805743517 and parameters: {'num_leaves': 395, 'learning_rate': 0.02285074896238515, 'feature_fraction': 0.8422289110345406, 'bagging_fraction': 0.7097789828626918, 'bagging_freq': 3, 'lambda_l1': 2.1459705708463828, 'lambda_l2': 1.3827801845091676, 'min_data_in_leaf': 27, 'max_depth': 3, 'min_child_samples': 100}. Best is trial 11 with value: 0.04426139616225061.\n"
     ]
    },
    {
     "name": "stdout",
     "output_type": "stream",
     "text": [
      "Early stopping, best iteration is:\n",
      "[1751]\tvalid_0's l1: 0.0477057\n",
      "Training until validation scores don't improve for 100 rounds\n",
      "Early stopping, best iteration is:\n",
      "[200]\tvalid_0's l1: 0.0468265\n",
      "Training until validation scores don't improve for 100 rounds\n",
      "Early stopping, best iteration is:\n",
      "[293]\tvalid_0's l1: 0.0627589\n",
      "Training until validation scores don't improve for 100 rounds\n",
      "Early stopping, best iteration is:\n",
      "[402]\tvalid_0's l1: 0.0421708\n",
      "Training until validation scores don't improve for 100 rounds\n",
      "Early stopping, best iteration is:\n",
      "[315]\tvalid_0's l1: 0.0351307\n",
      "Training until validation scores don't improve for 100 rounds\n",
      "Early stopping, best iteration is:\n",
      "[402]\tvalid_0's l1: 0.0425772\n"
     ]
    },
    {
     "name": "stderr",
     "output_type": "stream",
     "text": [
      "[I 2025-08-07 05:12:02,590] Trial 21 finished with value: 0.045917511560566206 and parameters: {'num_leaves': 154, 'learning_rate': 0.05627748124227439, 'feature_fraction': 0.7437427361971736, 'bagging_fraction': 0.5353883742373268, 'bagging_freq': 10, 'lambda_l1': 1.0754968261922357, 'lambda_l2': 2.911764099306496, 'min_data_in_leaf': 14, 'max_depth': 5, 'min_child_samples': 15}. Best is trial 11 with value: 0.04426139616225061.\n"
     ]
    },
    {
     "name": "stdout",
     "output_type": "stream",
     "text": [
      "Training until validation scores don't improve for 100 rounds\n",
      "Early stopping, best iteration is:\n",
      "[973]\tvalid_0's l1: 0.0441011\n",
      "Training until validation scores don't improve for 100 rounds\n",
      "Early stopping, best iteration is:\n",
      "[496]\tvalid_0's l1: 0.0628073\n",
      "Training until validation scores don't improve for 100 rounds\n",
      "Early stopping, best iteration is:\n",
      "[278]\tvalid_0's l1: 0.0393841\n",
      "Training until validation scores don't improve for 100 rounds\n",
      "Early stopping, best iteration is:\n",
      "[1325]\tvalid_0's l1: 0.033222\n",
      "Training until validation scores don't improve for 100 rounds\n"
     ]
    },
    {
     "name": "stderr",
     "output_type": "stream",
     "text": [
      "[I 2025-08-07 05:12:04,366] Trial 22 finished with value: 0.044946801602461284 and parameters: {'num_leaves': 88, 'learning_rate': 0.02862596489059741, 'feature_fraction': 0.7394475143775832, 'bagging_fraction': 0.5822125636039318, 'bagging_freq': 9, 'lambda_l1': 1.0348855555916163, 'lambda_l2': 4.476883683604264, 'min_data_in_leaf': 19, 'max_depth': 7, 'min_child_samples': 5}. Best is trial 11 with value: 0.04426139616225061.\n"
     ]
    },
    {
     "name": "stdout",
     "output_type": "stream",
     "text": [
      "Early stopping, best iteration is:\n",
      "[335]\tvalid_0's l1: 0.0450009\n",
      "Training until validation scores don't improve for 100 rounds\n",
      "Early stopping, best iteration is:\n",
      "[954]\tvalid_0's l1: 0.0592297\n",
      "Training until validation scores don't improve for 100 rounds\n",
      "Did not meet early stopping. Best iteration is:\n",
      "[2000]\tvalid_0's l1: 0.0753774\n",
      "Training until validation scores don't improve for 100 rounds\n",
      "Did not meet early stopping. Best iteration is:\n",
      "[1968]\tvalid_0's l1: 0.0474701\n",
      "Training until validation scores don't improve for 100 rounds\n",
      "Early stopping, best iteration is:\n",
      "[1312]\tvalid_0's l1: 0.0419452\n",
      "Training until validation scores don't improve for 100 rounds\n"
     ]
    },
    {
     "name": "stderr",
     "output_type": "stream",
     "text": [
      "[I 2025-08-07 05:12:06,792] Trial 23 finished with value: 0.05678651304831598 and parameters: {'num_leaves': 464, 'learning_rate': 0.03051903486167744, 'feature_fraction': 0.6626481957211364, 'bagging_fraction': 0.596720829116869, 'bagging_freq': 8, 'lambda_l1': 3.1586000281583044, 'lambda_l2': 4.995877920668171, 'min_data_in_leaf': 20, 'max_depth': 7, 'min_child_samples': 31}. Best is trial 11 with value: 0.04426139616225061.\n"
     ]
    },
    {
     "name": "stdout",
     "output_type": "stream",
     "text": [
      "Early stopping, best iteration is:\n",
      "[616]\tvalid_0's l1: 0.0591583\n",
      "Training until validation scores don't improve for 100 rounds\n",
      "Early stopping, best iteration is:\n",
      "[868]\tvalid_0's l1: 0.039747\n",
      "Training until validation scores don't improve for 100 rounds\n",
      "Early stopping, best iteration is:\n",
      "[679]\tvalid_0's l1: 0.0548312\n",
      "Training until validation scores don't improve for 100 rounds\n",
      "Early stopping, best iteration is:\n",
      "[397]\tvalid_0's l1: 0.0401586\n",
      "Training until validation scores don't improve for 100 rounds\n",
      "Early stopping, best iteration is:\n",
      "[1296]\tvalid_0's l1: 0.0271537\n",
      "Training until validation scores don't improve for 100 rounds\n"
     ]
    },
    {
     "name": "stderr",
     "output_type": "stream",
     "text": [
      "[I 2025-08-07 05:12:10,673] Trial 24 finished with value: 0.0394487723256229 and parameters: {'num_leaves': 307, 'learning_rate': 0.013376669985541514, 'feature_fraction': 0.7218883130232656, 'bagging_fraction': 0.5048570923026419, 'bagging_freq': 7, 'lambda_l1': 0.026045766477048926, 'lambda_l2': 4.775153263967932, 'min_data_in_leaf': 10, 'max_depth': 4, 'min_child_samples': 17}. Best is trial 24 with value: 0.0394487723256229.\n"
     ]
    },
    {
     "name": "stdout",
     "output_type": "stream",
     "text": [
      "Early stopping, best iteration is:\n",
      "[1175]\tvalid_0's l1: 0.0353533\n",
      "Training until validation scores don't improve for 100 rounds\n",
      "Early stopping, best iteration is:\n",
      "[1036]\tvalid_0's l1: 0.0387236\n",
      "Training until validation scores don't improve for 100 rounds\n",
      "Early stopping, best iteration is:\n",
      "[1327]\tvalid_0's l1: 0.0525052\n",
      "Training until validation scores don't improve for 100 rounds\n",
      "Early stopping, best iteration is:\n",
      "[330]\tvalid_0's l1: 0.0404836\n",
      "Training until validation scores don't improve for 100 rounds\n",
      "Early stopping, best iteration is:\n",
      "[1295]\tvalid_0's l1: 0.0267376\n",
      "Training until validation scores don't improve for 100 rounds\n"
     ]
    },
    {
     "name": "stderr",
     "output_type": "stream",
     "text": [
      "[I 2025-08-07 05:12:15,307] Trial 25 finished with value: 0.03840512168815653 and parameters: {'num_leaves': 396, 'learning_rate': 0.013054894390620308, 'feature_fraction': 0.8020403218110292, 'bagging_fraction': 0.5128861933343558, 'bagging_freq': 7, 'lambda_l1': 0.06922037566470518, 'lambda_l2': 6.321337160281242, 'min_data_in_leaf': 9, 'max_depth': 4, 'min_child_samples': 17}. Best is trial 25 with value: 0.03840512168815653.\n"
     ]
    },
    {
     "name": "stdout",
     "output_type": "stream",
     "text": [
      "Early stopping, best iteration is:\n",
      "[1131]\tvalid_0's l1: 0.0335755\n",
      "Training until validation scores don't improve for 100 rounds\n",
      "Early stopping, best iteration is:\n",
      "[994]\tvalid_0's l1: 0.0377979\n",
      "Training until validation scores don't improve for 100 rounds\n",
      "Early stopping, best iteration is:\n",
      "[1302]\tvalid_0's l1: 0.053739\n",
      "Training until validation scores don't improve for 100 rounds\n",
      "Early stopping, best iteration is:\n",
      "[739]\tvalid_0's l1: 0.0359299\n",
      "Training until validation scores don't improve for 100 rounds\n",
      "Early stopping, best iteration is:\n",
      "[1477]\tvalid_0's l1: 0.026531\n",
      "Training until validation scores don't improve for 100 rounds\n"
     ]
    },
    {
     "name": "stderr",
     "output_type": "stream",
     "text": [
      "[I 2025-08-07 05:12:21,201] Trial 26 finished with value: 0.037624346748894984 and parameters: {'num_leaves': 299, 'learning_rate': 0.01484017991221279, 'feature_fraction': 0.8015798726732724, 'bagging_fraction': 0.5084317722939288, 'bagging_freq': 7, 'lambda_l1': 0.38812676417150005, 'lambda_l2': 6.322584524409382, 'min_data_in_leaf': 5, 'max_depth': 6, 'min_child_samples': 50}. Best is trial 26 with value: 0.037624346748894984.\n"
     ]
    },
    {
     "name": "stdout",
     "output_type": "stream",
     "text": [
      "Early stopping, best iteration is:\n",
      "[1127]\tvalid_0's l1: 0.0341239\n",
      "Training until validation scores don't improve for 100 rounds\n",
      "Early stopping, best iteration is:\n",
      "[574]\tvalid_0's l1: 0.0369294\n",
      "Training until validation scores don't improve for 100 rounds\n",
      "Early stopping, best iteration is:\n",
      "[861]\tvalid_0's l1: 0.0529601\n",
      "Training until validation scores don't improve for 100 rounds\n",
      "Early stopping, best iteration is:\n",
      "[440]\tvalid_0's l1: 0.0382141\n",
      "Training until validation scores don't improve for 100 rounds\n",
      "Early stopping, best iteration is:\n",
      "[1309]\tvalid_0's l1: 0.0251301\n",
      "Training until validation scores don't improve for 100 rounds\n"
     ]
    },
    {
     "name": "stderr",
     "output_type": "stream",
     "text": [
      "[I 2025-08-07 05:12:27,306] Trial 27 finished with value: 0.03701450365257274 and parameters: {'num_leaves': 306, 'learning_rate': 0.015377390942527332, 'feature_fraction': 0.8119740867011382, 'bagging_fraction': 0.504024456865039, 'bagging_freq': 7, 'lambda_l1': 0.08974100609483461, 'lambda_l2': 7.252034650472731, 'min_data_in_leaf': 6, 'max_depth': 6, 'min_child_samples': 51}. Best is trial 27 with value: 0.03701450365257274.\n"
     ]
    },
    {
     "name": "stdout",
     "output_type": "stream",
     "text": [
      "Early stopping, best iteration is:\n",
      "[903]\tvalid_0's l1: 0.0318388\n",
      "Training until validation scores don't improve for 100 rounds\n",
      "Did not meet early stopping. Best iteration is:\n",
      "[2000]\tvalid_0's l1: 0.0713168\n",
      "Training until validation scores don't improve for 100 rounds\n",
      "Did not meet early stopping. Best iteration is:\n",
      "[2000]\tvalid_0's l1: 0.0910273\n",
      "Training until validation scores don't improve for 100 rounds\n",
      "Did not meet early stopping. Best iteration is:\n",
      "[1999]\tvalid_0's l1: 0.0640632\n",
      "Training until validation scores don't improve for 100 rounds\n",
      "Early stopping, best iteration is:\n",
      "[924]\tvalid_0's l1: 0.0602784\n",
      "Training until validation scores don't improve for 100 rounds\n"
     ]
    },
    {
     "name": "stderr",
     "output_type": "stream",
     "text": [
      "[I 2025-08-07 05:12:28,880] Trial 28 finished with value: 0.07243570991147988 and parameters: {'num_leaves': 235, 'learning_rate': 0.008213086287312696, 'feature_fraction': 0.904097184735798, 'bagging_fraction': 0.54688996631139, 'bagging_freq': 7, 'lambda_l1': 1.902863554964891, 'lambda_l2': 7.495542899235019, 'min_data_in_leaf': 98, 'max_depth': 6, 'min_child_samples': 54}. Best is trial 27 with value: 0.03701450365257274.\n"
     ]
    },
    {
     "name": "stdout",
     "output_type": "stream",
     "text": [
      "Early stopping, best iteration is:\n",
      "[1106]\tvalid_0's l1: 0.0754914\n",
      "Training until validation scores don't improve for 100 rounds\n",
      "Early stopping, best iteration is:\n",
      "[993]\tvalid_0's l1: 0.0776203\n",
      "Training until validation scores don't improve for 100 rounds\n",
      "Did not meet early stopping. Best iteration is:\n",
      "[1975]\tvalid_0's l1: 0.107445\n",
      "Training until validation scores don't improve for 100 rounds\n",
      "Early stopping, best iteration is:\n",
      "[858]\tvalid_0's l1: 0.0696644\n",
      "Training until validation scores don't improve for 100 rounds\n",
      "Early stopping, best iteration is:\n",
      "[1555]\tvalid_0's l1: 0.0624571\n",
      "Training until validation scores don't improve for 100 rounds\n"
     ]
    },
    {
     "name": "stderr",
     "output_type": "stream",
     "text": [
      "[I 2025-08-07 05:12:33,022] Trial 29 finished with value: 0.07896852569316373 and parameters: {'num_leaves': 276, 'learning_rate': 0.015758465310836963, 'feature_fraction': 0.7949143312189471, 'bagging_fraction': 0.9809046513076188, 'bagging_freq': 9, 'lambda_l1': 7.893822980993646, 'lambda_l2': 8.658403805269504, 'min_data_in_leaf': 6, 'max_depth': 9, 'min_child_samples': 69}. Best is trial 27 with value: 0.03701450365257274.\n"
     ]
    },
    {
     "name": "stdout",
     "output_type": "stream",
     "text": [
      "Early stopping, best iteration is:\n",
      "[1146]\tvalid_0's l1: 0.0776554\n",
      "🎯 Best params for Density: {'num_leaves': 306, 'learning_rate': 0.015377390942527332, 'feature_fraction': 0.8119740867011382, 'bagging_fraction': 0.504024456865039, 'bagging_freq': 7, 'lambda_l1': 0.08974100609483461, 'lambda_l2': 7.252034650472731, 'min_data_in_leaf': 6, 'max_depth': 6, 'min_child_samples': 51}\n",
      "Training until validation scores don't improve for 100 rounds\n",
      "Early stopping, best iteration is:\n",
      "[398]\tvalid_0's l1: 0.0415221\n",
      "----Fold 1 MAE = 0.0415\n",
      "Training until validation scores don't improve for 100 rounds\n",
      "Early stopping, best iteration is:\n",
      "[1022]\tvalid_0's l1: 0.0479307\n",
      "----Fold 2 MAE = 0.0479\n",
      "Training until validation scores don't improve for 100 rounds\n",
      "Early stopping, best iteration is:\n",
      "[1024]\tvalid_0's l1: 0.0347441\n",
      "----Fold 3 MAE = 0.0347\n",
      "Training until validation scores don't improve for 100 rounds\n",
      "Early stopping, best iteration is:\n",
      "[301]\tvalid_0's l1: 0.0369395\n",
      "----Fold 4 MAE = 0.0369\n",
      "Training until validation scores don't improve for 100 rounds\n",
      "Early stopping, best iteration is:\n",
      "[907]\tvalid_0's l1: 0.0243147\n",
      "----Fold 5 MAE = 0.0243\n",
      "Training until validation scores don't improve for 100 rounds\n",
      "Early stopping, best iteration is:\n",
      "[848]\tvalid_0's l1: 0.0259093\n",
      "----Fold 6 MAE = 0.0259\n",
      "Training until validation scores don't improve for 100 rounds\n",
      "Early stopping, best iteration is:\n",
      "[1078]\tvalid_0's l1: 0.0322633\n",
      "----Fold 7 MAE = 0.0323\n",
      "===CV MAE: 0.0348 ± 0.008===\n",
      "==================================================\n",
      "\n",
      "\n",
      "==================================================\n",
      "Training Rg...\n",
      "🔍 Running feature selection pipeline...\n",
      "  VarianceThreshold: 400 features retained\n"
     ]
    },
    {
     "name": "stderr",
     "output_type": "stream",
     "text": [
      "[I 2025-08-07 05:12:43,282] A new study created in memory with name: no-name-40260f44-f145-4659-a19f-5f5570d63289\n"
     ]
    },
    {
     "name": "stdout",
     "output_type": "stream",
     "text": [
      "  MutualInfo: 200 features selected\n",
      "Selected 200 features for Rg\n",
      "📊 Training Rg on 614 samples\n",
      "📈 Target range: 9.7284 to 34.6729\n",
      "Training until validation scores don't improve for 100 rounds\n",
      "Early stopping, best iteration is:\n",
      "[613]\tvalid_0's l1: 1.95448\n",
      "Training until validation scores don't improve for 100 rounds\n",
      "Early stopping, best iteration is:\n",
      "[868]\tvalid_0's l1: 1.94975\n",
      "Training until validation scores don't improve for 100 rounds\n",
      "Early stopping, best iteration is:\n",
      "[1868]\tvalid_0's l1: 2.04447\n",
      "Training until validation scores don't improve for 100 rounds\n",
      "Early stopping, best iteration is:\n",
      "[908]\tvalid_0's l1: 1.65147\n",
      "Training until validation scores don't improve for 100 rounds\n"
     ]
    },
    {
     "name": "stderr",
     "output_type": "stream",
     "text": [
      "[I 2025-08-07 05:12:46,597] Trial 0 finished with value: 1.8765817553768547 and parameters: {'num_leaves': 267, 'learning_rate': 0.00770394452223634, 'feature_fraction': 0.8044935968190581, 'bagging_fraction': 0.9251526143955913, 'bagging_freq': 4, 'lambda_l1': 7.543617865439522, 'lambda_l2': 7.545705024642158, 'min_data_in_leaf': 65, 'max_depth': 11, 'min_child_samples': 88}. Best is trial 0 with value: 1.8765817553768547.\n"
     ]
    },
    {
     "name": "stdout",
     "output_type": "stream",
     "text": [
      "Early stopping, best iteration is:\n",
      "[1480]\tvalid_0's l1: 1.78273\n",
      "Training until validation scores don't improve for 100 rounds\n",
      "Early stopping, best iteration is:\n",
      "[1391]\tvalid_0's l1: 2.38104\n",
      "Training until validation scores don't improve for 100 rounds\n",
      "Early stopping, best iteration is:\n",
      "[1660]\tvalid_0's l1: 2.38355\n",
      "Training until validation scores don't improve for 100 rounds\n",
      "Early stopping, best iteration is:\n",
      "[960]\tvalid_0's l1: 2.4835\n",
      "Training until validation scores don't improve for 100 rounds\n",
      "Early stopping, best iteration is:\n",
      "[1890]\tvalid_0's l1: 2.13349\n",
      "Training until validation scores don't improve for 100 rounds\n"
     ]
    },
    {
     "name": "stderr",
     "output_type": "stream",
     "text": [
      "[I 2025-08-07 05:12:48,259] Trial 1 finished with value: 2.341568963760422 and parameters: {'num_leaves': 402, 'learning_rate': 0.005256649734151596, 'feature_fraction': 0.7877433419441437, 'bagging_fraction': 0.5416564263050574, 'bagging_freq': 10, 'lambda_l1': 6.546359532173028, 'lambda_l2': 3.1152684863189926, 'min_data_in_leaf': 89, 'max_depth': 13, 'min_child_samples': 36}. Best is trial 0 with value: 1.8765817553768547.\n"
     ]
    },
    {
     "name": "stdout",
     "output_type": "stream",
     "text": [
      "Early stopping, best iteration is:\n",
      "[1870]\tvalid_0's l1: 2.32627\n",
      "Training until validation scores don't improve for 100 rounds\n",
      "Early stopping, best iteration is:\n",
      "[657]\tvalid_0's l1: 1.90341\n",
      "Training until validation scores don't improve for 100 rounds\n",
      "Early stopping, best iteration is:\n",
      "[873]\tvalid_0's l1: 1.81261\n",
      "Training until validation scores don't improve for 100 rounds\n",
      "Early stopping, best iteration is:\n",
      "[1340]\tvalid_0's l1: 1.93127\n",
      "Training until validation scores don't improve for 100 rounds\n",
      "Early stopping, best iteration is:\n",
      "[1298]\tvalid_0's l1: 1.55449\n",
      "Training until validation scores don't improve for 100 rounds\n"
     ]
    },
    {
     "name": "stderr",
     "output_type": "stream",
     "text": [
      "[I 2025-08-07 05:12:51,897] Trial 2 finished with value: 1.791179564307442 and parameters: {'num_leaves': 40, 'learning_rate': 0.00810400718166214, 'feature_fraction': 0.8844931078878252, 'bagging_fraction': 0.8113957934421523, 'bagging_freq': 9, 'lambda_l1': 2.374413017390987, 'lambda_l2': 6.506339621305637, 'min_data_in_leaf': 45, 'max_depth': 10, 'min_child_samples': 68}. Best is trial 2 with value: 1.791179564307442.\n"
     ]
    },
    {
     "name": "stdout",
     "output_type": "stream",
     "text": [
      "Early stopping, best iteration is:\n",
      "[1249]\tvalid_0's l1: 1.75412\n",
      "Training until validation scores don't improve for 100 rounds\n",
      "Early stopping, best iteration is:\n",
      "[52]\tvalid_0's l1: 1.74479\n",
      "Training until validation scores don't improve for 100 rounds\n",
      "Early stopping, best iteration is:\n",
      "[87]\tvalid_0's l1: 1.77136\n",
      "Training until validation scores don't improve for 100 rounds\n",
      "Early stopping, best iteration is:\n",
      "[169]\tvalid_0's l1: 1.85637\n",
      "Training until validation scores don't improve for 100 rounds\n",
      "Early stopping, best iteration is:\n",
      "[27]\tvalid_0's l1: 1.58314\n",
      "Training until validation scores don't improve for 100 rounds\n"
     ]
    },
    {
     "name": "stderr",
     "output_type": "stream",
     "text": [
      "[I 2025-08-07 05:12:52,690] Trial 3 finished with value: 1.735922466918454 and parameters: {'num_leaves': 379, 'learning_rate': 0.1485960918069079, 'feature_fraction': 0.6837717120616056, 'bagging_fraction': 0.7543970290858881, 'bagging_freq': 10, 'lambda_l1': 1.1171863737135057, 'lambda_l2': 1.037516688967397, 'min_data_in_leaf': 31, 'max_depth': 12, 'min_child_samples': 28}. Best is trial 3 with value: 1.735922466918454.\n"
     ]
    },
    {
     "name": "stdout",
     "output_type": "stream",
     "text": [
      "Early stopping, best iteration is:\n",
      "[48]\tvalid_0's l1: 1.72396\n",
      "Training until validation scores don't improve for 100 rounds\n",
      "Early stopping, best iteration is:\n",
      "[667]\tvalid_0's l1: 2.02897\n",
      "Training until validation scores don't improve for 100 rounds\n",
      "Early stopping, best iteration is:\n",
      "[343]\tvalid_0's l1: 2.0395\n",
      "Training until validation scores don't improve for 100 rounds\n",
      "Early stopping, best iteration is:\n",
      "[333]\tvalid_0's l1: 2.15789\n",
      "Training until validation scores don't improve for 100 rounds\n",
      "Early stopping, best iteration is:\n",
      "[1602]\tvalid_0's l1: 1.71956\n",
      "Training until validation scores don't improve for 100 rounds\n"
     ]
    },
    {
     "name": "stderr",
     "output_type": "stream",
     "text": [
      "[I 2025-08-07 05:12:54,292] Trial 4 finished with value: 1.9758221441058865 and parameters: {'num_leaves': 146, 'learning_rate': 0.011502355175674472, 'feature_fraction': 0.5709118741540171, 'bagging_fraction': 0.8720087722794888, 'bagging_freq': 9, 'lambda_l1': 7.330555762917042, 'lambda_l2': 3.511807568219605, 'min_data_in_leaf': 90, 'max_depth': 5, 'min_child_samples': 30}. Best is trial 3 with value: 1.735922466918454.\n"
     ]
    },
    {
     "name": "stdout",
     "output_type": "stream",
     "text": [
      "Early stopping, best iteration is:\n",
      "[1025]\tvalid_0's l1: 1.9332\n",
      "Training until validation scores don't improve for 100 rounds\n",
      "Early stopping, best iteration is:\n",
      "[980]\tvalid_0's l1: 2.01605\n",
      "Training until validation scores don't improve for 100 rounds\n",
      "Early stopping, best iteration is:\n",
      "[842]\tvalid_0's l1: 1.99384\n",
      "Training until validation scores don't improve for 100 rounds\n",
      "Early stopping, best iteration is:\n",
      "[594]\tvalid_0's l1: 2.15452\n",
      "Training until validation scores don't improve for 100 rounds\n",
      "Early stopping, best iteration is:\n",
      "[1170]\tvalid_0's l1: 1.73302\n",
      "Training until validation scores don't improve for 100 rounds\n"
     ]
    },
    {
     "name": "stderr",
     "output_type": "stream",
     "text": [
      "[I 2025-08-07 05:12:57,049] Trial 5 finished with value: 1.959979302607844 and parameters: {'num_leaves': 502, 'learning_rate': 0.007425944504358308, 'feature_fraction': 0.9806337965690599, 'bagging_fraction': 0.682850290048609, 'bagging_freq': 2, 'lambda_l1': 3.8226209423621493, 'lambda_l2': 5.1548787538946685, 'min_data_in_leaf': 70, 'max_depth': 10, 'min_child_samples': 41}. Best is trial 3 with value: 1.735922466918454.\n"
     ]
    },
    {
     "name": "stdout",
     "output_type": "stream",
     "text": [
      "Did not meet early stopping. Best iteration is:\n",
      "[1968]\tvalid_0's l1: 1.90246\n",
      "Training until validation scores don't improve for 100 rounds\n",
      "Early stopping, best iteration is:\n",
      "[135]\tvalid_0's l1: 1.94806\n",
      "Training until validation scores don't improve for 100 rounds\n",
      "Early stopping, best iteration is:\n",
      "[423]\tvalid_0's l1: 1.8733\n",
      "Training until validation scores don't improve for 100 rounds\n",
      "Early stopping, best iteration is:\n",
      "[324]\tvalid_0's l1: 2.09688\n",
      "Training until validation scores don't improve for 100 rounds\n",
      "Early stopping, best iteration is:\n",
      "[459]\tvalid_0's l1: 1.594\n",
      "Training until validation scores don't improve for 100 rounds\n"
     ]
    },
    {
     "name": "stderr",
     "output_type": "stream",
     "text": [
      "[I 2025-08-07 05:12:58,035] Trial 6 finished with value: 1.8656851232603429 and parameters: {'num_leaves': 369, 'learning_rate': 0.042052665974731306, 'feature_fraction': 0.7737891200502165, 'bagging_fraction': 0.9104643144131825, 'bagging_freq': 9, 'lambda_l1': 2.5203760750821957, 'lambda_l2': 3.282101571748651, 'min_data_in_leaf': 78, 'max_depth': 6, 'min_child_samples': 15}. Best is trial 3 with value: 1.735922466918454.\n"
     ]
    },
    {
     "name": "stdout",
     "output_type": "stream",
     "text": [
      "Early stopping, best iteration is:\n",
      "[371]\tvalid_0's l1: 1.81618\n",
      "Training until validation scores don't improve for 100 rounds\n",
      "Early stopping, best iteration is:\n",
      "[357]\tvalid_0's l1: 1.81503\n",
      "Training until validation scores don't improve for 100 rounds\n",
      "Early stopping, best iteration is:\n",
      "[245]\tvalid_0's l1: 1.7919\n",
      "Training until validation scores don't improve for 100 rounds\n",
      "Early stopping, best iteration is:\n",
      "[700]\tvalid_0's l1: 1.92567\n",
      "Training until validation scores don't improve for 100 rounds\n",
      "Early stopping, best iteration is:\n",
      "[345]\tvalid_0's l1: 1.52811\n",
      "Training until validation scores don't improve for 100 rounds\n"
     ]
    },
    {
     "name": "stderr",
     "output_type": "stream",
     "text": [
      "[I 2025-08-07 05:12:59,827] Trial 7 finished with value: 1.7543817339452659 and parameters: {'num_leaves': 267, 'learning_rate': 0.03287402094136648, 'feature_fraction': 0.864753082576831, 'bagging_fraction': 0.7166644526864365, 'bagging_freq': 7, 'lambda_l1': 4.550388679091794, 'lambda_l2': 0.6993439225740272, 'min_data_in_leaf': 40, 'max_depth': 10, 'min_child_samples': 91}. Best is trial 3 with value: 1.735922466918454.\n"
     ]
    },
    {
     "name": "stdout",
     "output_type": "stream",
     "text": [
      "Early stopping, best iteration is:\n",
      "[595]\tvalid_0's l1: 1.71119\n",
      "Training until validation scores don't improve for 100 rounds\n",
      "Early stopping, best iteration is:\n",
      "[340]\tvalid_0's l1: 2.26142\n",
      "Training until validation scores don't improve for 100 rounds\n",
      "Early stopping, best iteration is:\n",
      "[566]\tvalid_0's l1: 2.19139\n",
      "Training until validation scores don't improve for 100 rounds\n",
      "Early stopping, best iteration is:\n",
      "[187]\tvalid_0's l1: 2.38149\n",
      "Training until validation scores don't improve for 100 rounds\n",
      "Early stopping, best iteration is:\n",
      "[521]\tvalid_0's l1: 1.92446\n",
      "Training until validation scores don't improve for 100 rounds\n"
     ]
    },
    {
     "name": "stderr",
     "output_type": "stream",
     "text": [
      "[I 2025-08-07 05:13:00,876] Trial 8 finished with value: 2.1616027705486354 and parameters: {'num_leaves': 99, 'learning_rate': 0.027730240649192637, 'feature_fraction': 0.8037610615456616, 'bagging_fraction': 0.6220949514718651, 'bagging_freq': 2, 'lambda_l1': 9.739672869887514, 'lambda_l2': 6.4152505514914715, 'min_data_in_leaf': 92, 'max_depth': 11, 'min_child_samples': 38}. Best is trial 3 with value: 1.735922466918454.\n"
     ]
    },
    {
     "name": "stdout",
     "output_type": "stream",
     "text": [
      "Early stopping, best iteration is:\n",
      "[1466]\tvalid_0's l1: 2.04925\n",
      "Training until validation scores don't improve for 100 rounds\n",
      "Early stopping, best iteration is:\n",
      "[791]\tvalid_0's l1: 1.72786\n",
      "Training until validation scores don't improve for 100 rounds\n",
      "Early stopping, best iteration is:\n",
      "[1170]\tvalid_0's l1: 1.68826\n",
      "Training until validation scores don't improve for 100 rounds\n",
      "Early stopping, best iteration is:\n",
      "[1130]\tvalid_0's l1: 1.92028\n",
      "Training until validation scores don't improve for 100 rounds\n",
      "Early stopping, best iteration is:\n",
      "[723]\tvalid_0's l1: 1.48734\n",
      "Training until validation scores don't improve for 100 rounds\n"
     ]
    },
    {
     "name": "stderr",
     "output_type": "stream",
     "text": [
      "[I 2025-08-07 05:13:08,347] Trial 9 finished with value: 1.6900521302816784 and parameters: {'num_leaves': 178, 'learning_rate': 0.0075513859376809085, 'feature_fraction': 0.7622659789155753, 'bagging_fraction': 0.5932340453332027, 'bagging_freq': 5, 'lambda_l1': 0.7434477353964808, 'lambda_l2': 7.701077091366884, 'min_data_in_leaf': 18, 'max_depth': 11, 'min_child_samples': 35}. Best is trial 9 with value: 1.6900521302816784.\n"
     ]
    },
    {
     "name": "stdout",
     "output_type": "stream",
     "text": [
      "Early stopping, best iteration is:\n",
      "[1351]\tvalid_0's l1: 1.62653\n",
      "Training until validation scores don't improve for 100 rounds\n",
      "Early stopping, best iteration is:\n",
      "[290]\tvalid_0's l1: 1.6901\n",
      "Training until validation scores don't improve for 100 rounds\n",
      "Early stopping, best iteration is:\n",
      "[340]\tvalid_0's l1: 1.64956\n",
      "Training until validation scores don't improve for 100 rounds\n",
      "Early stopping, best iteration is:\n",
      "[717]\tvalid_0's l1: 1.85233\n",
      "Training until validation scores don't improve for 100 rounds\n",
      "Early stopping, best iteration is:\n",
      "[412]\tvalid_0's l1: 1.46824\n",
      "Training until validation scores don't improve for 100 rounds\n"
     ]
    },
    {
     "name": "stderr",
     "output_type": "stream",
     "text": [
      "[I 2025-08-07 05:13:13,174] Trial 10 finished with value: 1.6453047025916043 and parameters: {'num_leaves': 177, 'learning_rate': 0.016675296217594837, 'feature_fraction': 0.6346157516733071, 'bagging_fraction': 0.527347663113121, 'bagging_freq': 5, 'lambda_l1': 0.19370470022474906, 'lambda_l2': 9.085589185070617, 'min_data_in_leaf': 8, 'max_depth': 15, 'min_child_samples': 5}. Best is trial 10 with value: 1.6453047025916043.\n"
     ]
    },
    {
     "name": "stdout",
     "output_type": "stream",
     "text": [
      "Early stopping, best iteration is:\n",
      "[765]\tvalid_0's l1: 1.5663\n",
      "Training until validation scores don't improve for 100 rounds\n",
      "Early stopping, best iteration is:\n",
      "[275]\tvalid_0's l1: 1.69312\n",
      "Training until validation scores don't improve for 100 rounds\n",
      "Early stopping, best iteration is:\n",
      "[461]\tvalid_0's l1: 1.64294\n",
      "Training until validation scores don't improve for 100 rounds\n",
      "Early stopping, best iteration is:\n",
      "[685]\tvalid_0's l1: 1.8804\n",
      "Training until validation scores don't improve for 100 rounds\n",
      "Early stopping, best iteration is:\n",
      "[407]\tvalid_0's l1: 1.4641\n",
      "Training until validation scores don't improve for 100 rounds\n"
     ]
    },
    {
     "name": "stderr",
     "output_type": "stream",
     "text": [
      "[I 2025-08-07 05:13:17,832] Trial 11 finished with value: 1.651907720373255 and parameters: {'num_leaves': 182, 'learning_rate': 0.017498549669119894, 'feature_fraction': 0.6397988566499643, 'bagging_fraction': 0.5163001811719492, 'bagging_freq': 5, 'lambda_l1': 0.10394090920839401, 'lambda_l2': 9.981217742731994, 'min_data_in_leaf': 10, 'max_depth': 15, 'min_child_samples': 8}. Best is trial 10 with value: 1.6453047025916043.\n"
     ]
    },
    {
     "name": "stdout",
     "output_type": "stream",
     "text": [
      "Early stopping, best iteration is:\n",
      "[1015]\tvalid_0's l1: 1.57898\n",
      "Training until validation scores don't improve for 100 rounds\n",
      "Early stopping, best iteration is:\n",
      "[250]\tvalid_0's l1: 1.68367\n",
      "Training until validation scores don't improve for 100 rounds\n",
      "Early stopping, best iteration is:\n",
      "[281]\tvalid_0's l1: 1.67987\n",
      "Training until validation scores don't improve for 100 rounds\n",
      "Early stopping, best iteration is:\n",
      "[396]\tvalid_0's l1: 1.90906\n",
      "Training until validation scores don't improve for 100 rounds\n",
      "Early stopping, best iteration is:\n",
      "[498]\tvalid_0's l1: 1.44749\n",
      "Training until validation scores don't improve for 100 rounds\n"
     ]
    },
    {
     "name": "stderr",
     "output_type": "stream",
     "text": [
      "[I 2025-08-07 05:13:21,771] Trial 12 finished with value: 1.6640056792298996 and parameters: {'num_leaves': 204, 'learning_rate': 0.019757139904467494, 'feature_fraction': 0.6179537479148918, 'bagging_fraction': 0.5020693081975651, 'bagging_freq': 6, 'lambda_l1': 0.13883238259129024, 'lambda_l2': 9.432279341138482, 'min_data_in_leaf': 9, 'max_depth': 15, 'min_child_samples': 9}. Best is trial 10 with value: 1.6453047025916043.\n"
     ]
    },
    {
     "name": "stdout",
     "output_type": "stream",
     "text": [
      "Early stopping, best iteration is:\n",
      "[855]\tvalid_0's l1: 1.59993\n",
      "Training until validation scores don't improve for 100 rounds\n",
      "Early stopping, best iteration is:\n",
      "[65]\tvalid_0's l1: 1.72667\n",
      "Training until validation scores don't improve for 100 rounds\n",
      "Early stopping, best iteration is:\n",
      "[116]\tvalid_0's l1: 1.64947\n",
      "Training until validation scores don't improve for 100 rounds\n",
      "Early stopping, best iteration is:\n",
      "[120]\tvalid_0's l1: 1.83571\n",
      "Training until validation scores don't improve for 100 rounds\n",
      "Early stopping, best iteration is:\n",
      "[83]\tvalid_0's l1: 1.43454\n",
      "Training until validation scores don't improve for 100 rounds\n"
     ]
    },
    {
     "name": "stderr",
     "output_type": "stream",
     "text": [
      "[I 2025-08-07 05:13:23,835] Trial 13 finished with value: 1.6386575680256232 and parameters: {'num_leaves': 101, 'learning_rate': 0.06293599848161936, 'feature_fraction': 0.5015012561032482, 'bagging_fraction': 0.6025474279627907, 'bagging_freq': 4, 'lambda_l1': 2.258486849365544, 'lambda_l2': 9.427740313949826, 'min_data_in_leaf': 5, 'max_depth': 15, 'min_child_samples': 5}. Best is trial 13 with value: 1.6386575680256232.\n"
     ]
    },
    {
     "name": "stdout",
     "output_type": "stream",
     "text": [
      "Early stopping, best iteration is:\n",
      "[209]\tvalid_0's l1: 1.54691\n",
      "Training until validation scores don't improve for 100 rounds\n",
      "Early stopping, best iteration is:\n",
      "[124]\tvalid_0's l1: 1.73573\n",
      "Training until validation scores don't improve for 100 rounds\n",
      "Early stopping, best iteration is:\n",
      "[191]\tvalid_0's l1: 1.6585\n",
      "Training until validation scores don't improve for 100 rounds\n",
      "Early stopping, best iteration is:\n",
      "[203]\tvalid_0's l1: 1.89944\n",
      "Training until validation scores don't improve for 100 rounds\n",
      "Early stopping, best iteration is:\n",
      "[107]\tvalid_0's l1: 1.46686\n",
      "Training until validation scores don't improve for 100 rounds\n"
     ]
    },
    {
     "name": "stderr",
     "output_type": "stream",
     "text": [
      "[I 2025-08-07 05:13:25,192] Trial 14 finished with value: 1.663629819831448 and parameters: {'num_leaves': 43, 'learning_rate': 0.06865905539375543, 'feature_fraction': 0.511236638042033, 'bagging_fraction': 0.999638152527829, 'bagging_freq': 3, 'lambda_l1': 2.203725308259472, 'lambda_l2': 8.634941924942305, 'min_data_in_leaf': 22, 'max_depth': 7, 'min_child_samples': 63}. Best is trial 13 with value: 1.6386575680256232.\n"
     ]
    },
    {
     "name": "stdout",
     "output_type": "stream",
     "text": [
      "Early stopping, best iteration is:\n",
      "[138]\tvalid_0's l1: 1.55762\n",
      "Training until validation scores don't improve for 100 rounds\n",
      "Early stopping, best iteration is:\n",
      "[71]\tvalid_0's l1: 1.76784\n",
      "Training until validation scores don't improve for 100 rounds\n",
      "Early stopping, best iteration is:\n",
      "[209]\tvalid_0's l1: 1.66213\n",
      "Training until validation scores don't improve for 100 rounds\n",
      "Early stopping, best iteration is:\n",
      "[294]\tvalid_0's l1: 1.94841\n",
      "Training until validation scores don't improve for 100 rounds\n",
      "Early stopping, best iteration is:\n",
      "[285]\tvalid_0's l1: 1.43558\n",
      "Training until validation scores don't improve for 100 rounds\n"
     ]
    },
    {
     "name": "stderr",
     "output_type": "stream",
     "text": [
      "[I 2025-08-07 05:13:26,460] Trial 15 finished with value: 1.693654679152632 and parameters: {'num_leaves': 110, 'learning_rate': 0.0788758413632657, 'feature_fraction': 0.5227650433527432, 'bagging_fraction': 0.608571721026387, 'bagging_freq': 7, 'lambda_l1': 3.635078737092003, 'lambda_l2': 8.623554907558983, 'min_data_in_leaf': 5, 'max_depth': 3, 'min_child_samples': 15}. Best is trial 13 with value: 1.6386575680256232.\n"
     ]
    },
    {
     "name": "stdout",
     "output_type": "stream",
     "text": [
      "Early stopping, best iteration is:\n",
      "[148]\tvalid_0's l1: 1.65431\n",
      "Training until validation scores don't improve for 100 rounds\n",
      "Early stopping, best iteration is:\n",
      "[56]\tvalid_0's l1: 1.89999\n",
      "Training until validation scores don't improve for 100 rounds\n",
      "Early stopping, best iteration is:\n",
      "[82]\tvalid_0's l1: 1.75847\n",
      "Training until validation scores don't improve for 100 rounds\n",
      "Early stopping, best iteration is:\n",
      "[70]\tvalid_0's l1: 1.9159\n",
      "Training until validation scores don't improve for 100 rounds\n",
      "Early stopping, best iteration is:\n",
      "[76]\tvalid_0's l1: 1.57261\n",
      "Training until validation scores don't improve for 100 rounds\n"
     ]
    },
    {
     "name": "stderr",
     "output_type": "stream",
     "text": [
      "[I 2025-08-07 05:13:27,242] Trial 16 finished with value: 1.773658603587363 and parameters: {'num_leaves': 230, 'learning_rate': 0.1859784245698218, 'feature_fraction': 0.6736331532803167, 'bagging_fraction': 0.6590027158549205, 'bagging_freq': 4, 'lambda_l1': 1.735464594035474, 'lambda_l2': 5.86805290570993, 'min_data_in_leaf': 27, 'max_depth': 14, 'min_child_samples': 22}. Best is trial 13 with value: 1.6386575680256232.\n"
     ]
    },
    {
     "name": "stdout",
     "output_type": "stream",
     "text": [
      "Early stopping, best iteration is:\n",
      "[49]\tvalid_0's l1: 1.72133\n",
      "Training until validation scores don't improve for 100 rounds\n",
      "Early stopping, best iteration is:\n",
      "[211]\tvalid_0's l1: 1.94653\n",
      "Training until validation scores don't improve for 100 rounds\n",
      "Early stopping, best iteration is:\n",
      "[231]\tvalid_0's l1: 1.96289\n",
      "Training until validation scores don't improve for 100 rounds\n",
      "Early stopping, best iteration is:\n",
      "[301]\tvalid_0's l1: 2.10477\n",
      "Training until validation scores don't improve for 100 rounds\n"
     ]
    },
    {
     "name": "stderr",
     "output_type": "stream",
     "text": [
      "[I 2025-08-07 05:13:28,075] Trial 17 finished with value: 1.9123752702634451 and parameters: {'num_leaves': 122, 'learning_rate': 0.05169285618152761, 'feature_fraction': 0.5829316332934801, 'bagging_fraction': 0.5673107981174679, 'bagging_freq': 3, 'lambda_l1': 5.391312579100921, 'lambda_l2': 7.707685118599979, 'min_data_in_leaf': 55, 'max_depth': 13, 'min_child_samples': 51}. Best is trial 13 with value: 1.6386575680256232.\n"
     ]
    },
    {
     "name": "stdout",
     "output_type": "stream",
     "text": [
      "Early stopping, best iteration is:\n",
      "[309]\tvalid_0's l1: 1.70494\n",
      "Training until validation scores don't improve for 100 rounds\n",
      "Early stopping, best iteration is:\n",
      "[363]\tvalid_0's l1: 1.84275\n",
      "Training until validation scores don't improve for 100 rounds\n",
      "Early stopping, best iteration is:\n",
      "[135]\tvalid_0's l1: 1.93316\n",
      "Training until validation scores don't improve for 100 rounds\n",
      "Early stopping, best iteration is:\n",
      "[213]\tvalid_0's l1: 1.81259\n",
      "Training until validation scores don't improve for 100 rounds\n",
      "Early stopping, best iteration is:\n",
      "[296]\tvalid_0's l1: 1.92879\n",
      "Training until validation scores don't improve for 100 rounds\n",
      "Early stopping, best iteration is:\n",
      "[290]\tvalid_0's l1: 1.56431\n",
      "Training until validation scores don't improve for 100 rounds\n"
     ]
    },
    {
     "name": "stderr",
     "output_type": "stream",
     "text": [
      "[I 2025-08-07 05:13:29,127] Trial 18 finished with value: 1.789294546419231 and parameters: {'num_leaves': 309, 'learning_rate': 0.07757894038380045, 'feature_fraction': 0.703884400027142, 'bagging_fraction': 0.6487400785925266, 'bagging_freq': 1, 'lambda_l1': 3.336113932979715, 'lambda_l2': 9.036736463324166, 'min_data_in_leaf': 37, 'max_depth': 8, 'min_child_samples': 5}. Best is trial 13 with value: 1.6386575680256232.\n"
     ]
    },
    {
     "name": "stdout",
     "output_type": "stream",
     "text": [
      "Early stopping, best iteration is:\n",
      "[275]\tvalid_0's l1: 1.70763\n",
      "Training until validation scores don't improve for 100 rounds\n",
      "Early stopping, best iteration is:\n",
      "[38]\tvalid_0's l1: 1.7327\n",
      "Training until validation scores don't improve for 100 rounds\n",
      "Early stopping, best iteration is:\n",
      "[76]\tvalid_0's l1: 1.64924\n",
      "Training until validation scores don't improve for 100 rounds\n",
      "Early stopping, best iteration is:\n",
      "[116]\tvalid_0's l1: 1.9803\n",
      "Training until validation scores don't improve for 100 rounds\n",
      "Early stopping, best iteration is:\n",
      "[127]\tvalid_0's l1: 1.52096\n",
      "Training until validation scores don't improve for 100 rounds\n"
     ]
    },
    {
     "name": "stderr",
     "output_type": "stream",
     "text": [
      "[I 2025-08-07 05:13:30,507] Trial 19 finished with value: 1.6885027840724676 and parameters: {'num_leaves': 86, 'learning_rate': 0.11299877219954992, 'feature_fraction': 0.5630326739256056, 'bagging_fraction': 0.7623653918301468, 'bagging_freq': 7, 'lambda_l1': 1.2763732972059105, 'lambda_l2': 4.406397509842063, 'min_data_in_leaf': 17, 'max_depth': 15, 'min_child_samples': 21}. Best is trial 13 with value: 1.6386575680256232.\n"
     ]
    },
    {
     "name": "stdout",
     "output_type": "stream",
     "text": [
      "Early stopping, best iteration is:\n",
      "[97]\tvalid_0's l1: 1.55932\n",
      "Training until validation scores don't improve for 100 rounds\n",
      "Early stopping, best iteration is:\n",
      "[625]\tvalid_0's l1: 1.99708\n",
      "Training until validation scores don't improve for 100 rounds\n",
      "Early stopping, best iteration is:\n",
      "[456]\tvalid_0's l1: 1.97464\n",
      "Training until validation scores don't improve for 100 rounds\n",
      "Early stopping, best iteration is:\n",
      "[194]\tvalid_0's l1: 2.14047\n",
      "Training until validation scores don't improve for 100 rounds\n",
      "Early stopping, best iteration is:\n",
      "[486]\tvalid_0's l1: 1.72688\n",
      "Training until validation scores don't improve for 100 rounds\n"
     ]
    },
    {
     "name": "stderr",
     "output_type": "stream",
     "text": [
      "[I 2025-08-07 05:13:31,688] Trial 20 finished with value: 1.944020645136014 and parameters: {'num_leaves': 159, 'learning_rate': 0.017775290703629303, 'feature_fraction': 0.5070691062615618, 'bagging_fraction': 0.5618884802606194, 'bagging_freq': 6, 'lambda_l1': 5.177272765984959, 'lambda_l2': 7.247976811723378, 'min_data_in_leaf': 55, 'max_depth': 13, 'min_child_samples': 75}. Best is trial 13 with value: 1.6386575680256232.\n"
     ]
    },
    {
     "name": "stdout",
     "output_type": "stream",
     "text": [
      "Early stopping, best iteration is:\n",
      "[722]\tvalid_0's l1: 1.88103\n",
      "Training until validation scores don't improve for 100 rounds\n",
      "Early stopping, best iteration is:\n",
      "[291]\tvalid_0's l1: 1.71698\n",
      "Training until validation scores don't improve for 100 rounds\n",
      "Early stopping, best iteration is:\n",
      "[464]\tvalid_0's l1: 1.65612\n",
      "Training until validation scores don't improve for 100 rounds\n",
      "Early stopping, best iteration is:\n",
      "[715]\tvalid_0's l1: 1.87073\n",
      "Training until validation scores don't improve for 100 rounds\n",
      "Early stopping, best iteration is:\n",
      "[377]\tvalid_0's l1: 1.4506\n",
      "Training until validation scores don't improve for 100 rounds\n"
     ]
    },
    {
     "name": "stderr",
     "output_type": "stream",
     "text": [
      "[I 2025-08-07 05:13:36,787] Trial 21 finished with value: 1.6635895174031994 and parameters: {'num_leaves': 210, 'learning_rate': 0.016331235602235126, 'feature_fraction': 0.63929082817999, 'bagging_fraction': 0.5004943206937525, 'bagging_freq': 5, 'lambda_l1': 0.05025070704564155, 'lambda_l2': 9.805636135346218, 'min_data_in_leaf': 12, 'max_depth': 15, 'min_child_samples': 5}. Best is trial 13 with value: 1.6386575680256232.\n"
     ]
    },
    {
     "name": "stdout",
     "output_type": "stream",
     "text": [
      "Early stopping, best iteration is:\n",
      "[549]\tvalid_0's l1: 1.62351\n",
      "Training until validation scores don't improve for 100 rounds\n",
      "Early stopping, best iteration is:\n",
      "[171]\tvalid_0's l1: 1.68186\n",
      "Training until validation scores don't improve for 100 rounds\n",
      "Early stopping, best iteration is:\n",
      "[324]\tvalid_0's l1: 1.62978\n",
      "Training until validation scores don't improve for 100 rounds\n",
      "Early stopping, best iteration is:\n",
      "[150]\tvalid_0's l1: 1.86821\n",
      "Training until validation scores don't improve for 100 rounds\n",
      "Early stopping, best iteration is:\n",
      "[194]\tvalid_0's l1: 1.45034\n",
      "Training until validation scores don't improve for 100 rounds\n"
     ]
    },
    {
     "name": "stderr",
     "output_type": "stream",
     "text": [
      "[I 2025-08-07 05:13:40,462] Trial 22 finished with value: 1.634844295448513 and parameters: {'num_leaves': 173, 'learning_rate': 0.025962527276625562, 'feature_fraction': 0.6239601860840136, 'bagging_fraction': 0.5360638318109368, 'bagging_freq': 4, 'lambda_l1': 0.004836393147389498, 'lambda_l2': 9.860213566527298, 'min_data_in_leaf': 6, 'max_depth': 14, 'min_child_samples': 16}. Best is trial 22 with value: 1.634844295448513.\n"
     ]
    },
    {
     "name": "stdout",
     "output_type": "stream",
     "text": [
      "Early stopping, best iteration is:\n",
      "[522]\tvalid_0's l1: 1.54403\n",
      "Training until validation scores don't improve for 100 rounds\n",
      "Early stopping, best iteration is:\n",
      "[218]\tvalid_0's l1: 1.6754\n",
      "Training until validation scores don't improve for 100 rounds\n",
      "Early stopping, best iteration is:\n",
      "[164]\tvalid_0's l1: 1.61968\n",
      "Training until validation scores don't improve for 100 rounds\n",
      "Early stopping, best iteration is:\n",
      "[214]\tvalid_0's l1: 1.83559\n",
      "Training until validation scores don't improve for 100 rounds\n",
      "Early stopping, best iteration is:\n",
      "[252]\tvalid_0's l1: 1.43042\n",
      "Training until validation scores don't improve for 100 rounds\n"
     ]
    },
    {
     "name": "stderr",
     "output_type": "stream",
     "text": [
      "[I 2025-08-07 05:13:44,433] Trial 23 finished with value: 1.622520671984605 and parameters: {'num_leaves': 72, 'learning_rate': 0.02667079291204184, 'feature_fraction': 0.724786880184618, 'bagging_fraction': 0.563451498668369, 'bagging_freq': 4, 'lambda_l1': 1.0095685091767632, 'lambda_l2': 8.528542270030172, 'min_data_in_leaf': 5, 'max_depth': 14, 'min_child_samples': 16}. Best is trial 23 with value: 1.622520671984605.\n"
     ]
    },
    {
     "name": "stdout",
     "output_type": "stream",
     "text": [
      "Early stopping, best iteration is:\n",
      "[508]\tvalid_0's l1: 1.55152\n",
      "Training until validation scores don't improve for 100 rounds\n",
      "Early stopping, best iteration is:\n",
      "[244]\tvalid_0's l1: 1.79045\n",
      "Training until validation scores don't improve for 100 rounds\n",
      "Early stopping, best iteration is:\n",
      "[371]\tvalid_0's l1: 1.7517\n",
      "Training until validation scores don't improve for 100 rounds\n",
      "Early stopping, best iteration is:\n",
      "[576]\tvalid_0's l1: 1.89189\n",
      "Training until validation scores don't improve for 100 rounds\n",
      "Early stopping, best iteration is:\n",
      "[512]\tvalid_0's l1: 1.53609\n",
      "Training until validation scores don't improve for 100 rounds\n"
     ]
    },
    {
     "name": "stderr",
     "output_type": "stream",
     "text": [
      "[I 2025-08-07 05:13:46,652] Trial 24 finished with value: 1.7304989591407096 and parameters: {'num_leaves': 71, 'learning_rate': 0.02801212145949192, 'feature_fraction': 0.7194634222870135, 'bagging_fraction': 0.5769942078654104, 'bagging_freq': 4, 'lambda_l1': 2.776670751889487, 'lambda_l2': 8.282433508572268, 'min_data_in_leaf': 25, 'max_depth': 13, 'min_child_samples': 19}. Best is trial 23 with value: 1.622520671984605.\n"
     ]
    },
    {
     "name": "stdout",
     "output_type": "stream",
     "text": [
      "Early stopping, best iteration is:\n",
      "[440]\tvalid_0's l1: 1.68238\n",
      "Training until validation scores don't improve for 100 rounds\n",
      "Early stopping, best iteration is:\n",
      "[102]\tvalid_0's l1: 1.71603\n",
      "Training until validation scores don't improve for 100 rounds\n",
      "Early stopping, best iteration is:\n",
      "[231]\tvalid_0's l1: 1.67854\n",
      "Training until validation scores don't improve for 100 rounds\n",
      "Early stopping, best iteration is:\n",
      "[396]\tvalid_0's l1: 1.8898\n",
      "Training until validation scores don't improve for 100 rounds\n",
      "Early stopping, best iteration is:\n",
      "[178]\tvalid_0's l1: 1.45691\n",
      "Training until validation scores don't improve for 100 rounds\n"
     ]
    },
    {
     "name": "stderr",
     "output_type": "stream",
     "text": [
      "[I 2025-08-07 05:13:48,779] Trial 25 finished with value: 1.6768674959929857 and parameters: {'num_leaves': 130, 'learning_rate': 0.04999215750615024, 'feature_fraction': 0.5905969947812963, 'bagging_fraction': 0.6161659337724924, 'bagging_freq': 3, 'lambda_l1': 1.5598173931452481, 'lambda_l2': 9.993286076520917, 'min_data_in_leaf': 16, 'max_depth': 14, 'min_child_samples': 46}. Best is trial 23 with value: 1.622520671984605.\n"
     ]
    },
    {
     "name": "stdout",
     "output_type": "stream",
     "text": [
      "Early stopping, best iteration is:\n",
      "[342]\tvalid_0's l1: 1.64306\n",
      "Training until validation scores don't improve for 100 rounds\n",
      "Early stopping, best iteration is:\n",
      "[254]\tvalid_0's l1: 1.81725\n",
      "Training until validation scores don't improve for 100 rounds\n",
      "Early stopping, best iteration is:\n",
      "[328]\tvalid_0's l1: 1.72296\n",
      "Training until validation scores don't improve for 100 rounds\n",
      "Early stopping, best iteration is:\n",
      "[442]\tvalid_0's l1: 1.89948\n",
      "Training until validation scores don't improve for 100 rounds\n",
      "Early stopping, best iteration is:\n",
      "[286]\tvalid_0's l1: 1.51926\n",
      "Training until validation scores don't improve for 100 rounds\n"
     ]
    },
    {
     "name": "stderr",
     "output_type": "stream",
     "text": [
      "[I 2025-08-07 05:13:50,432] Trial 26 finished with value: 1.7326430840546343 and parameters: {'num_leaves': 73, 'learning_rate': 0.03847926274910261, 'feature_fraction': 0.5477315356159584, 'bagging_fraction': 0.701800623109403, 'bagging_freq': 2, 'lambda_l1': 0.8441638353098438, 'lambda_l2': 8.077855180228768, 'min_data_in_leaf': 33, 'max_depth': 14, 'min_child_samples': 27}. Best is trial 23 with value: 1.622520671984605.\n"
     ]
    },
    {
     "name": "stdout",
     "output_type": "stream",
     "text": [
      "Early stopping, best iteration is:\n",
      "[228]\tvalid_0's l1: 1.70426\n",
      "Training until validation scores don't improve for 100 rounds\n",
      "Early stopping, best iteration is:\n",
      "[86]\tvalid_0's l1: 1.64907\n",
      "Training until validation scores don't improve for 100 rounds\n",
      "Early stopping, best iteration is:\n",
      "[76]\tvalid_0's l1: 1.64718\n",
      "Training until validation scores don't improve for 100 rounds\n",
      "Early stopping, best iteration is:\n",
      "[172]\tvalid_0's l1: 1.88202\n",
      "Training until validation scores don't improve for 100 rounds\n",
      "Early stopping, best iteration is:\n",
      "[116]\tvalid_0's l1: 1.36476\n",
      "Training until validation scores don't improve for 100 rounds\n"
     ]
    },
    {
     "name": "stderr",
     "output_type": "stream",
     "text": [
      "[I 2025-08-07 05:13:53,219] Trial 27 finished with value: 1.6273364919705873 and parameters: {'num_leaves': 33, 'learning_rate': 0.06102207742705813, 'feature_fraction': 0.8525736655793014, 'bagging_fraction': 0.6453994296155106, 'bagging_freq': 4, 'lambda_l1': 1.7734626154105777, 'lambda_l2': 6.84536661844116, 'min_data_in_leaf': 5, 'max_depth': 12, 'min_child_samples': 13}. Best is trial 23 with value: 1.622520671984605.\n"
     ]
    },
    {
     "name": "stdout",
     "output_type": "stream",
     "text": [
      "Early stopping, best iteration is:\n",
      "[153]\tvalid_0's l1: 1.59364\n",
      "Training until validation scores don't improve for 100 rounds\n",
      "Early stopping, best iteration is:\n",
      "[219]\tvalid_0's l1: 1.77155\n",
      "Training until validation scores don't improve for 100 rounds\n",
      "Early stopping, best iteration is:\n",
      "[288]\tvalid_0's l1: 1.70399\n",
      "Training until validation scores don't improve for 100 rounds\n",
      "Early stopping, best iteration is:\n",
      "[549]\tvalid_0's l1: 1.91629\n",
      "Training until validation scores don't improve for 100 rounds\n",
      "Early stopping, best iteration is:\n",
      "[437]\tvalid_0's l1: 1.5092\n",
      "Training until validation scores don't improve for 100 rounds\n"
     ]
    },
    {
     "name": "stderr",
     "output_type": "stream",
     "text": [
      "[I 2025-08-07 05:13:55,912] Trial 28 finished with value: 1.7085051948599468 and parameters: {'num_leaves': 36, 'learning_rate': 0.02273920173078366, 'feature_fraction': 0.8707217425429269, 'bagging_fraction': 0.6413137640398514, 'bagging_freq': 3, 'lambda_l1': 1.7117253521227471, 'lambda_l2': 6.882565891446131, 'min_data_in_leaf': 22, 'max_depth': 12, 'min_child_samples': 15}. Best is trial 23 with value: 1.622520671984605.\n"
     ]
    },
    {
     "name": "stdout",
     "output_type": "stream",
     "text": [
      "Early stopping, best iteration is:\n",
      "[549]\tvalid_0's l1: 1.64149\n",
      "Training until validation scores don't improve for 100 rounds\n",
      "Early stopping, best iteration is:\n",
      "[468]\tvalid_0's l1: 1.91781\n",
      "Training until validation scores don't improve for 100 rounds\n",
      "Early stopping, best iteration is:\n",
      "[468]\tvalid_0's l1: 1.95518\n",
      "Training until validation scores don't improve for 100 rounds\n",
      "Early stopping, best iteration is:\n",
      "[822]\tvalid_0's l1: 2.09985\n",
      "Training until validation scores don't improve for 100 rounds\n",
      "Early stopping, best iteration is:\n",
      "[486]\tvalid_0's l1: 1.69717\n",
      "Training until validation scores don't improve for 100 rounds\n"
     ]
    },
    {
     "name": "stderr",
     "output_type": "stream",
     "text": [
      "[I 2025-08-07 05:13:57,758] Trial 29 finished with value: 1.8982341665115285 and parameters: {'num_leaves': 310, 'learning_rate': 0.012505341576403744, 'feature_fraction': 0.9259019623067175, 'bagging_fraction': 0.5468300502770282, 'bagging_freq': 6, 'lambda_l1': 9.415586973663466, 'lambda_l2': 5.693119651742278, 'min_data_in_leaf': 45, 'max_depth': 12, 'min_child_samples': 78}. Best is trial 23 with value: 1.622520671984605.\n"
     ]
    },
    {
     "name": "stdout",
     "output_type": "stream",
     "text": [
      "Early stopping, best iteration is:\n",
      "[853]\tvalid_0's l1: 1.82116\n",
      "🎯 Best params for Rg: {'num_leaves': 72, 'learning_rate': 0.02667079291204184, 'feature_fraction': 0.724786880184618, 'bagging_fraction': 0.563451498668369, 'bagging_freq': 4, 'lambda_l1': 1.0095685091767632, 'lambda_l2': 8.528542270030172, 'min_data_in_leaf': 5, 'max_depth': 14, 'min_child_samples': 16}\n",
      "Training until validation scores don't improve for 100 rounds\n",
      "Early stopping, best iteration is:\n",
      "[149]\tvalid_0's l1: 1.76594\n",
      "----Fold 1 MAE = 1.7659\n",
      "Training until validation scores don't improve for 100 rounds\n",
      "Early stopping, best iteration is:\n",
      "[163]\tvalid_0's l1: 1.72821\n",
      "----Fold 2 MAE = 1.7282\n",
      "Training until validation scores don't improve for 100 rounds\n",
      "Early stopping, best iteration is:\n",
      "[176]\tvalid_0's l1: 1.57839\n",
      "----Fold 3 MAE = 1.5784\n",
      "Training until validation scores don't improve for 100 rounds\n",
      "Early stopping, best iteration is:\n",
      "[224]\tvalid_0's l1: 1.78638\n",
      "----Fold 4 MAE = 1.7864\n",
      "Training until validation scores don't improve for 100 rounds\n",
      "Early stopping, best iteration is:\n",
      "[214]\tvalid_0's l1: 1.32207\n",
      "----Fold 5 MAE = 1.3221\n",
      "Training until validation scores don't improve for 100 rounds\n",
      "Early stopping, best iteration is:\n",
      "[172]\tvalid_0's l1: 1.56547\n",
      "----Fold 6 MAE = 1.5655\n",
      "Training until validation scores don't improve for 100 rounds\n",
      "Early stopping, best iteration is:\n",
      "[231]\tvalid_0's l1: 1.56033\n",
      "----Fold 7 MAE = 1.5603\n",
      "===CV MAE: 1.6153 ± 0.150===\n",
      "==================================================\n",
      "\n"
     ]
    }
   ],
   "source": [
    "# Store trained models\n",
    "trained_models = {}\n",
    "cv_scores = []\n",
    "all_cv_predictions = {}\n",
    "all_cv_true = {}\n",
    "\n",
    "# Train each target with feature selection\n",
    "for target in targets:\n",
    "    print(f\"\\n{'='*50}\")\n",
    "    print(f\"Training {target}...\")\n",
    "    \n",
    "    # Prepare training data\n",
    "    mask = train_df[target].notna()\n",
    "    X_target = X[mask]\n",
    "    y_target = train_df[target].values[mask]\n",
    "    \n",
    "    # Apply feature selection for this target\n",
    "    X_selected, selected_features = feature_selection_pipeline(\n",
    "        X_target, y_target, feature_names, k=200\n",
    "    )\n",
    "    print(f\"Selected {len(selected_features)} features for {target}\")\n",
    "    \n",
    "    # Train models\n",
    "    models, cv_score, val_true, val_pred = train_target_property(\n",
    "        X_selected, y_target, target\n",
    "    )\n",
    "    \n",
    "    # Store results\n",
    "    trained_models[target] = {\n",
    "        'models': models,\n",
    "        'selected_features': selected_features,\n",
    "        'feature_indices': [feature_names.index(f) for f in selected_features]\n",
    "    }\n",
    "    cv_scores.append(cv_score)\n",
    "    all_cv_true[target] = val_true\n",
    "    all_cv_predictions[target] = val_pred\n",
    "    print(f\"{'='*50}\\n\")"
   ]
  },
  {
   "cell_type": "markdown",
   "id": "d6ad295b",
   "metadata": {
    "_cell_guid": "0ad01ea6-6efd-4b4a-936a-2c070b4942fd",
    "_uuid": "9618843d-74b3-4050-b190-a5f5c9cee11b",
    "collapsed": false,
    "jupyter": {
     "outputs_hidden": false
    },
    "papermill": {
     "duration": 0.07367,
     "end_time": "2025-08-07T05:14:02.837162",
     "exception": false,
     "start_time": "2025-08-07T05:14:02.763492",
     "status": "completed"
    },
    "tags": []
   },
   "source": [
    "# Performance Evaluation"
   ]
  },
  {
   "cell_type": "code",
   "execution_count": 11,
   "id": "526f57c2",
   "metadata": {
    "_cell_guid": "af484d3d-cb1e-4386-82f9-94470ddb60da",
    "_uuid": "3bbb8ff4-d7b3-4648-b010-2cc513dece68",
    "collapsed": false,
    "execution": {
     "iopub.execute_input": "2025-08-07T05:14:02.990629Z",
     "iopub.status.busy": "2025-08-07T05:14:02.990251Z",
     "iopub.status.idle": "2025-08-07T05:14:03.064616Z",
     "shell.execute_reply": "2025-08-07T05:14:03.063235Z"
    },
    "jupyter": {
     "outputs_hidden": false
    },
    "papermill": {
     "duration": 0.153046,
     "end_time": "2025-08-07T05:14:03.066443",
     "exception": false,
     "start_time": "2025-08-07T05:14:02.913397",
     "status": "completed"
    },
    "tags": []
   },
   "outputs": [
    {
     "name": "stdout",
     "output_type": "stream",
     "text": [
      "==================================================\n",
      "Trained models for 5 targets\n",
      "Average CV MAE: 10.3263\n",
      "Individual competition scores: ['0.0805', '0.0139', '0.0590', '0.0319', '0.0648']\n",
      "🎯 ESTIMATED LB SCORE: 0.0564\n",
      "==================================================\n"
     ]
    }
   ],
   "source": [
    "# Import competition metric\n",
    "import open_polymer_2025_metric as metric\n",
    "\n",
    "# Calculate competition scores\n",
    "competition_scores = []\n",
    "for target in targets:\n",
    "    comp_score = metric.scaling_error(\n",
    "        np.array(all_cv_true[target]), \n",
    "        np.array(all_cv_predictions[target]), \n",
    "        target\n",
    "    )\n",
    "    competition_scores.append(comp_score)\n",
    "\n",
    "# Calculate overall competition score\n",
    "cv_true_df = pd.DataFrame()\n",
    "cv_pred_df = pd.DataFrame()\n",
    "\n",
    "for target in targets:\n",
    "    # Pad arrays to same length\n",
    "    max_len = max(len(all_cv_true[t]) for t in targets)\n",
    "    true_padded = list(all_cv_true[target]) + [metric.NULL_FOR_SUBMISSION] * (max_len - len(all_cv_true[target]))\n",
    "    pred_padded = list(all_cv_predictions[target]) + [metric.NULL_FOR_SUBMISSION] * (max_len - len(all_cv_predictions[target]))\n",
    "    \n",
    "    cv_true_df[target] = true_padded\n",
    "    cv_pred_df[target] = pred_padded\n",
    "\n",
    "# Add dummy id column\n",
    "cv_true_df['id'] = range(len(cv_true_df))\n",
    "cv_pred_df['id'] = range(len(cv_pred_df))\n",
    "\n",
    "# Calculate overall score\n",
    "estimated_lb_score = metric.score(cv_true_df, cv_pred_df, 'id')\n",
    "\n",
    "print(\"=\" * 50)\n",
    "print(f\"Trained models for {len(targets)} targets\")\n",
    "print(f\"Average CV MAE: {np.mean(cv_scores):.4f}\")\n",
    "print(f\"Individual competition scores: {[f'{s:.4f}' for s in competition_scores]}\")\n",
    "print(f\"🎯 ESTIMATED LB SCORE: {estimated_lb_score:.4f}\")\n",
    "print(\"=\" * 50)"
   ]
  },
  {
   "cell_type": "markdown",
   "id": "68abf54a",
   "metadata": {
    "_cell_guid": "3b4d2f0a-66e0-4a4b-8a6e-6eb531ccac0b",
    "_uuid": "d9017c8f-b47e-422c-90cb-6bf47f58e580",
    "collapsed": false,
    "jupyter": {
     "outputs_hidden": false
    },
    "papermill": {
     "duration": 0.074635,
     "end_time": "2025-08-07T05:14:03.215968",
     "exception": false,
     "start_time": "2025-08-07T05:14:03.141333",
     "status": "completed"
    },
    "tags": []
   },
   "source": [
    "# Prediction & Submission"
   ]
  },
  {
   "cell_type": "code",
   "execution_count": 12,
   "id": "936bdf47",
   "metadata": {
    "_cell_guid": "c0766e17-dae9-4086-8e45-72bec2f7bd3a",
    "_uuid": "2c9ec185-0fdc-431e-84a0-8ac748e0327c",
    "collapsed": false,
    "execution": {
     "iopub.execute_input": "2025-08-07T05:14:03.367963Z",
     "iopub.status.busy": "2025-08-07T05:14:03.367587Z",
     "iopub.status.idle": "2025-08-07T05:14:03.374677Z",
     "shell.execute_reply": "2025-08-07T05:14:03.373791Z"
    },
    "jupyter": {
     "outputs_hidden": false
    },
    "papermill": {
     "duration": 0.085408,
     "end_time": "2025-08-07T05:14:03.376275",
     "exception": false,
     "start_time": "2025-08-07T05:14:03.290867",
     "status": "completed"
    },
    "tags": []
   },
   "outputs": [],
   "source": [
    "def predict_target_property(test_df, target_name, model_info, molecular_descriptors, morgan_bits=512):\n",
    "    \"\"\"Enhanced prediction function\"\"\"\n",
    "    print(f\"PREDICTING: {target_name}\")\n",
    "    \n",
    "    # Generate raw features\n",
    "    X_test_raw = smiles_to_features(\n",
    "        test_df['SMILES'].values, \n",
    "        molecular_descriptors, \n",
    "        morgan_bits=morgan_bits\n",
    "    )\n",
    "    \n",
    "    # Clean features\n",
    "    X_test, _ = clean_features(X_test_raw)\n",
    "    \n",
    "    # Select the same features used in training\n",
    "    feature_indices = model_info['feature_indices']\n",
    "    X_test_selected = X_test[:, feature_indices]\n",
    "    \n",
    "    # Average predictions from all models\n",
    "    predictions = np.zeros(len(test_df))\n",
    "    for model in model_info['models']:\n",
    "        pred = model.predict(X_test_selected)\n",
    "        predictions += pred\n",
    "    \n",
    "    predictions /= len(model_info['models'])\n",
    "    print(f\"📊 Predictions range: {predictions.min():.4f} to {predictions.max():.4f}\")\n",
    "    \n",
    "    return predictions"
   ]
  },
  {
   "cell_type": "code",
   "execution_count": 13,
   "id": "79390ed1",
   "metadata": {
    "_cell_guid": "8bf7b249-05e2-4004-9759-7703d0cd62ec",
    "_uuid": "95f2a9b1-6230-4c87-aacf-f3e52b7c94ca",
    "collapsed": false,
    "execution": {
     "iopub.execute_input": "2025-08-07T05:14:03.532244Z",
     "iopub.status.busy": "2025-08-07T05:14:03.531918Z",
     "iopub.status.idle": "2025-08-07T05:14:03.991630Z",
     "shell.execute_reply": "2025-08-07T05:14:03.990517Z"
    },
    "jupyter": {
     "outputs_hidden": false
    },
    "papermill": {
     "duration": 0.53886,
     "end_time": "2025-08-07T05:14:03.993274",
     "exception": false,
     "start_time": "2025-08-07T05:14:03.454414",
     "status": "completed"
    },
    "tags": []
   },
   "outputs": [
    {
     "name": "stdout",
     "output_type": "stream",
     "text": [
      "PREDICTING: Tg\n",
      "Processing 3 SMILES with Morgan fingerprints..."
     ]
    },
    {
     "name": "stderr",
     "output_type": "stream",
     "text": [
      "100%|██████████| 3/3 [00:00<00:00, 131.92it/s]"
     ]
    },
    {
     "name": "stdout",
     "output_type": "stream",
     "text": [
      " ✅\n",
      "📊 Predictions range: 30.9414 to 159.1035\n",
      "PREDICTING: FFV\n",
      "Processing 3 SMILES with Morgan fingerprints..."
     ]
    },
    {
     "name": "stderr",
     "output_type": "stream",
     "text": [
      "\n",
      "100%|██████████| 3/3 [00:00<00:00, 114.76it/s]"
     ]
    },
    {
     "name": "stdout",
     "output_type": "stream",
     "text": [
      " ✅\n",
      "📊 Predictions range: 0.3456 to 0.3772\n",
      "PREDICTING: Tc\n",
      "Processing 3 SMILES with Morgan fingerprints..."
     ]
    },
    {
     "name": "stderr",
     "output_type": "stream",
     "text": [
      "\n",
      "100%|██████████| 3/3 [00:00<00:00, 116.38it/s]"
     ]
    },
    {
     "name": "stdout",
     "output_type": "stream",
     "text": [
      " ✅\n"
     ]
    },
    {
     "name": "stderr",
     "output_type": "stream",
     "text": [
      "\n"
     ]
    },
    {
     "name": "stdout",
     "output_type": "stream",
     "text": [
      "📊 Predictions range: 0.1534 to 0.2872\n",
      "PREDICTING: Density\n",
      "Processing 3 SMILES with Morgan fingerprints..."
     ]
    },
    {
     "name": "stderr",
     "output_type": "stream",
     "text": [
      "100%|██████████| 3/3 [00:00<00:00, 115.33it/s]"
     ]
    },
    {
     "name": "stdout",
     "output_type": "stream",
     "text": [
      " ✅\n"
     ]
    },
    {
     "name": "stderr",
     "output_type": "stream",
     "text": [
      "\n"
     ]
    },
    {
     "name": "stdout",
     "output_type": "stream",
     "text": [
      "📊 Predictions range: 0.9576 to 1.3142\n",
      "PREDICTING: Rg\n",
      "Processing 3 SMILES with Morgan fingerprints..."
     ]
    },
    {
     "name": "stderr",
     "output_type": "stream",
     "text": [
      "100%|██████████| 3/3 [00:00<00:00, 112.50it/s]"
     ]
    },
    {
     "name": "stdout",
     "output_type": "stream",
     "text": [
      " ✅\n"
     ]
    },
    {
     "name": "stderr",
     "output_type": "stream",
     "text": [
      "\n"
     ]
    },
    {
     "name": "stdout",
     "output_type": "stream",
     "text": [
      "📊 Predictions range: 16.3448 to 18.4779\n",
      "\n",
      "✅ Submission saved:\n",
      "        id       Tg    FFV     Tc  Density      Rg\n",
      "1109053969  30.9414 0.3456 0.1534   1.3142 18.4779\n",
      "1422188626 159.1035 0.3772 0.2709   0.9576 16.3448\n",
      "2032016830  71.2914 0.3601 0.2872   1.0553 18.3186\n"
     ]
    }
   ],
   "source": [
    "# Generate predictions for all targets\n",
    "all_predictions = {}\n",
    "for target in targets:\n",
    "    predictions = predict_target_property(\n",
    "        test_df, target, trained_models[target], molecular_descriptors\n",
    "    )\n",
    "    all_predictions[target] = predictions\n",
    "\n",
    "# Create submission\n",
    "submission = pd.DataFrame({'id': test_df['id']})\n",
    "for target in targets:\n",
    "    submission[target] = all_predictions[target]\n",
    "\n",
    "submission.to_csv('submission.csv', index=False)\n",
    "\n",
    "print(\"\\n✅ Submission saved:\")\n",
    "print(submission.head().to_string(index=False, float_format='%.4f'))"
   ]
  }
 ],
 "metadata": {
  "kaggle": {
   "accelerator": "none",
   "dataSources": [
    {
     "databundleVersionId": 12966160,
     "sourceId": 74608,
     "sourceType": "competition"
    },
    {
     "datasetId": 7678913,
     "sourceId": 12191182,
     "sourceType": "datasetVersion"
    },
    {
     "sourceId": 246274448,
     "sourceType": "kernelVersion"
    }
   ],
   "dockerImageVersionId": 31040,
   "isGpuEnabled": false,
   "isInternetEnabled": false,
   "language": "python",
   "sourceType": "notebook"
  },
  "kernelspec": {
   "display_name": "Python 3",
   "language": "python",
   "name": "python3"
  },
  "language_info": {
   "codemirror_mode": {
    "name": "ipython",
    "version": 3
   },
   "file_extension": ".py",
   "mimetype": "text/x-python",
   "name": "python",
   "nbconvert_exporter": "python",
   "pygments_lexer": "ipython3",
   "version": "3.11.11"
  },
  "papermill": {
   "default_parameters": {},
   "duration": 763.194345,
   "end_time": "2025-08-07T05:14:05.204159",
   "environment_variables": {},
   "exception": null,
   "input_path": "__notebook__.ipynb",
   "output_path": "__notebook__.ipynb",
   "parameters": {},
   "start_time": "2025-08-07T05:01:22.009814",
   "version": "2.6.0"
  }
 },
 "nbformat": 4,
 "nbformat_minor": 5
}
